{
    "cells": [
        {
            "cell_type": "markdown",
            "source": [
                "#  \r\n",
                "# \r\n",
                "## <span style=\"color: tomato;\">WHO WILL BE THE NEXT OLYMPIC MEDALIST?</span>\r\n",
                "by Mika Yosef\r\n",
                "#\r\n",
                "### this notebook try to analyze what are the characters of an athlete that can improve his\\ her chances to win an olympic medal. \r\n",
                "\r\n",
                "### This analysis based on a historical dataset on the modern Olympic Games, including all the Games from Athens 1896 to Rio 2016.\r\n",
                "\r\n",
                "<img src=\"https://www.geosuper.tv/assets/uploads/updates/2019-07-24/1752_6249951_updates.jpg\"></img>\r\n",
                "\r\n"
            ],
            "metadata": {}
        },
        {
            "cell_type": "code",
            "execution_count": 1,
            "source": [
                "import pandas as pd\r\n",
                "import numpy as np\r\n",
                "import matplotlib.pyplot as plt\r\n",
                "import seaborn as sns"
            ],
            "outputs": [],
            "metadata": {}
        },
        {
            "cell_type": "code",
            "execution_count": 2,
            "source": [
                "raw_df = pd.read_csv(r\"C:\\Users\\mikay\\Desktop\\MBA\\data science\\project\\olympics.csv\")\r\n",
                "\r\n",
                "raw_df.head()"
            ],
            "outputs": [
                {
                    "output_type": "execute_result",
                    "data": {
                        "text/plain": [
                            "   id                      name sex   age  height  weight            team  \\\n",
                            "0   1                 A Dijiang   M  24.0   180.0    80.0           China   \n",
                            "1   2                  A Lamusi   M  23.0   170.0    60.0           China   \n",
                            "2   3       Gunnar Nielsen Aaby   M  24.0     NaN     NaN         Denmark   \n",
                            "3   4      Edgar Lindenau Aabye   M  34.0     NaN     NaN  Denmark/Sweden   \n",
                            "4   5  Christine Jacoba Aaftink   F  21.0   185.0    82.0     Netherlands   \n",
                            "\n",
                            "   noc        games  year  season       city          sport  \\\n",
                            "0  CHN  1992 Summer  1992  Summer  Barcelona     Basketball   \n",
                            "1  CHN  2012 Summer  2012  Summer     London           Judo   \n",
                            "2  DEN  1920 Summer  1920  Summer  Antwerpen       Football   \n",
                            "3  DEN  1900 Summer  1900  Summer      Paris     Tug-Of-War   \n",
                            "4  NED  1988 Winter  1988  Winter    Calgary  Speed Skating   \n",
                            "\n",
                            "                              event medal  \n",
                            "0       Basketball Men's Basketball   NaN  \n",
                            "1      Judo Men's Extra-Lightweight   NaN  \n",
                            "2           Football Men's Football   NaN  \n",
                            "3       Tug-Of-War Men's Tug-Of-War  Gold  \n",
                            "4  Speed Skating Women's 500 metres   NaN  "
                        ],
                        "text/html": [
                            "<div>\n",
                            "<style scoped>\n",
                            "    .dataframe tbody tr th:only-of-type {\n",
                            "        vertical-align: middle;\n",
                            "    }\n",
                            "\n",
                            "    .dataframe tbody tr th {\n",
                            "        vertical-align: top;\n",
                            "    }\n",
                            "\n",
                            "    .dataframe thead th {\n",
                            "        text-align: right;\n",
                            "    }\n",
                            "</style>\n",
                            "<table border=\"1\" class=\"dataframe\">\n",
                            "  <thead>\n",
                            "    <tr style=\"text-align: right;\">\n",
                            "      <th></th>\n",
                            "      <th>id</th>\n",
                            "      <th>name</th>\n",
                            "      <th>sex</th>\n",
                            "      <th>age</th>\n",
                            "      <th>height</th>\n",
                            "      <th>weight</th>\n",
                            "      <th>team</th>\n",
                            "      <th>noc</th>\n",
                            "      <th>games</th>\n",
                            "      <th>year</th>\n",
                            "      <th>season</th>\n",
                            "      <th>city</th>\n",
                            "      <th>sport</th>\n",
                            "      <th>event</th>\n",
                            "      <th>medal</th>\n",
                            "    </tr>\n",
                            "  </thead>\n",
                            "  <tbody>\n",
                            "    <tr>\n",
                            "      <th>0</th>\n",
                            "      <td>1</td>\n",
                            "      <td>A Dijiang</td>\n",
                            "      <td>M</td>\n",
                            "      <td>24.0</td>\n",
                            "      <td>180.0</td>\n",
                            "      <td>80.0</td>\n",
                            "      <td>China</td>\n",
                            "      <td>CHN</td>\n",
                            "      <td>1992 Summer</td>\n",
                            "      <td>1992</td>\n",
                            "      <td>Summer</td>\n",
                            "      <td>Barcelona</td>\n",
                            "      <td>Basketball</td>\n",
                            "      <td>Basketball Men's Basketball</td>\n",
                            "      <td>NaN</td>\n",
                            "    </tr>\n",
                            "    <tr>\n",
                            "      <th>1</th>\n",
                            "      <td>2</td>\n",
                            "      <td>A Lamusi</td>\n",
                            "      <td>M</td>\n",
                            "      <td>23.0</td>\n",
                            "      <td>170.0</td>\n",
                            "      <td>60.0</td>\n",
                            "      <td>China</td>\n",
                            "      <td>CHN</td>\n",
                            "      <td>2012 Summer</td>\n",
                            "      <td>2012</td>\n",
                            "      <td>Summer</td>\n",
                            "      <td>London</td>\n",
                            "      <td>Judo</td>\n",
                            "      <td>Judo Men's Extra-Lightweight</td>\n",
                            "      <td>NaN</td>\n",
                            "    </tr>\n",
                            "    <tr>\n",
                            "      <th>2</th>\n",
                            "      <td>3</td>\n",
                            "      <td>Gunnar Nielsen Aaby</td>\n",
                            "      <td>M</td>\n",
                            "      <td>24.0</td>\n",
                            "      <td>NaN</td>\n",
                            "      <td>NaN</td>\n",
                            "      <td>Denmark</td>\n",
                            "      <td>DEN</td>\n",
                            "      <td>1920 Summer</td>\n",
                            "      <td>1920</td>\n",
                            "      <td>Summer</td>\n",
                            "      <td>Antwerpen</td>\n",
                            "      <td>Football</td>\n",
                            "      <td>Football Men's Football</td>\n",
                            "      <td>NaN</td>\n",
                            "    </tr>\n",
                            "    <tr>\n",
                            "      <th>3</th>\n",
                            "      <td>4</td>\n",
                            "      <td>Edgar Lindenau Aabye</td>\n",
                            "      <td>M</td>\n",
                            "      <td>34.0</td>\n",
                            "      <td>NaN</td>\n",
                            "      <td>NaN</td>\n",
                            "      <td>Denmark/Sweden</td>\n",
                            "      <td>DEN</td>\n",
                            "      <td>1900 Summer</td>\n",
                            "      <td>1900</td>\n",
                            "      <td>Summer</td>\n",
                            "      <td>Paris</td>\n",
                            "      <td>Tug-Of-War</td>\n",
                            "      <td>Tug-Of-War Men's Tug-Of-War</td>\n",
                            "      <td>Gold</td>\n",
                            "    </tr>\n",
                            "    <tr>\n",
                            "      <th>4</th>\n",
                            "      <td>5</td>\n",
                            "      <td>Christine Jacoba Aaftink</td>\n",
                            "      <td>F</td>\n",
                            "      <td>21.0</td>\n",
                            "      <td>185.0</td>\n",
                            "      <td>82.0</td>\n",
                            "      <td>Netherlands</td>\n",
                            "      <td>NED</td>\n",
                            "      <td>1988 Winter</td>\n",
                            "      <td>1988</td>\n",
                            "      <td>Winter</td>\n",
                            "      <td>Calgary</td>\n",
                            "      <td>Speed Skating</td>\n",
                            "      <td>Speed Skating Women's 500 metres</td>\n",
                            "      <td>NaN</td>\n",
                            "    </tr>\n",
                            "  </tbody>\n",
                            "</table>\n",
                            "</div>"
                        ]
                    },
                    "metadata": {},
                    "execution_count": 2
                }
            ],
            "metadata": {}
        },
        {
            "cell_type": "markdown",
            "source": [
                "### clean and sort the data\r\n",
                "\r\n",
                "1. Cropped data:\r\n",
                " a. Empty observations.\r\n",
                " b. Winter Olympic related data.\r\n",
                " c. The columns: \"id\", \"name\", \"team\", \"games\", \"season\".\r\n",
                " d. Irrelevant events that don't appears in the Olympics since 2016\r\n",
                "2. Change some columns type from string to numeric value.\r\n",
                "3. Marge differences NOC for the same countries.\r\n",
                "4. Change the data type.\r\n",
                "#\r\n",
                "The data will be without null and irrelevant games. all the observations will focus in summer games and the features that can be relevant for the target.\r\n"
            ],
            "metadata": {}
        },
        {
            "cell_type": "code",
            "execution_count": 3,
            "source": [
                "raw_df[['year','seas']] = raw_df.games.str.split(expand=True)\r\n",
                "part_df=raw_df\r\n",
                "part_df[\"medal\"] = part_df[\"medal\"].replace(np.nan, \"None\", regex=True)\r\n",
                "\r\n",
                "part_df[\"season\"] = part_df[\"season\"].replace(\"Winter\", np.nan , regex=True) \r\n",
                "part_df = part_df.dropna()\r\n",
                "part_df = part_df.drop(columns=[\"id\",\"name\",\"team\",\"seas\",\"games\",\"season\"])\r\n",
                "part_df[\"year\"] = pd.to_numeric(part_df.year, errors='coerce')\r\n",
                "\r\n",
                "# marge contries to one team\r\n",
                "part_df = part_df.rename(columns={\"noc\": \"team\"})\r\n",
                "part_df[\"team\"] = part_df[\"team\"].replace(\"AHO\", \"NED\", regex=True)\r\n",
                "part_df[\"team\"] = part_df[\"team\"].replace(\"ANZ\", \"AUS\", regex=True)\r\n",
                "part_df[\"team\"] = part_df[\"team\"].replace(\"BOH\", \"CZE\", regex=True)\r\n",
                "part_df[\"team\"] = part_df[\"team\"].replace(\"CRT\", \"GRE\", regex=True)\r\n",
                "part_df[\"team\"] = part_df[\"team\"].replace([\"NBO\",\"MAL\"], \"MAS\", regex=True)\r\n",
                "part_df[\"team\"] = part_df[\"team\"].replace(\"NFL\", \"CAN\", regex=True)\r\n",
                "part_df[\"team\"] = part_df[\"team\"].replace([\"YMD\",\"YAR\"], \"YEM\", regex=True)\r\n",
                "part_df[\"team\"] = part_df[\"team\"].replace(\"YUG\", \"SRB\", regex=True)\r\n",
                "part_df[\"team\"] = part_df[\"team\"].replace([\"URS\", \"EUN\"], \"RUS\", regex=True)\r\n",
                "part_df[\"team\"] = part_df[\"team\"].replace([\"GDR\", \"FRG\"], \"GER\", regex=True)\r\n",
                "\r\n",
                "\r\n",
                "\r\n",
                "part_df[\"sex\"] = part_df[\"sex\"].replace(\"F\", 1 , regex=True) \r\n",
                "part_df[\"sex\"] = part_df[\"sex\"].replace(\"M\", 0 , regex=True)\r\n",
                "part_df[\"medal num\"] = part_df[\"medal\"].replace([\"None\",\"Bronze\", \"Silver\", \"Gold\"], [0, 1, 2, 3], regex=True)\r\n",
                "part_df[\"medal bin\"] = part_df[\"medal\"].replace([\"None\",\"Bronze\", \"Silver\", \"Gold\"], [0, 1, 1, 1], regex=True)\r\n",
                "\r\n",
                "# data type\r\n",
                "part_df[\"age\"] = part_df[\"age\"].astype('uint8')\r\n",
                "part_df[\"height\"] = part_df[\"height\"].astype('uint8')\r\n",
                "part_df[\"weight\"] = part_df[\"weight\"].astype('float32')\r\n",
                "part_df[\"year\"] = part_df[\"year\"].astype('uint16')\r\n",
                "part_df[\"sex\"] = part_df[\"sex\"].astype('uint8')\r\n",
                "\r\n",
                "\r\n"
            ],
            "outputs": [],
            "metadata": {}
        },
        {
            "cell_type": "code",
            "execution_count": 4,
            "source": [
                "events_to_drop = []\r\n",
                "for event in part_df['event'].unique():\r\n",
                "    df_event = part_df[part_df[\"event\"] == event]\r\n",
                "    df_event = df_event[\"year\"].unique()\r\n",
                "    df_event = np.sort(df_event)\r\n",
                "    if df_event[-1]<2016:\r\n",
                "        events_to_drop.append(event)\r\n",
                "\r\n",
                "df = part_df.copy()\r\n",
                "for e in events_to_drop:\r\n",
                "    df = df.drop(df[df.event == e].index)\r\n",
                "\r\n",
                "df.head()\r\n"
            ],
            "outputs": [
                {
                    "output_type": "execute_result",
                    "data": {
                        "text/plain": [
                            "    sex  age  height  weight team  year       city       sport  \\\n",
                            "0     0   24     180    80.0  CHN  1992  Barcelona  Basketball   \n",
                            "1     0   23     170    60.0  CHN  2012     London        Judo   \n",
                            "31    0   31     172    70.0  FIN  2000     Sydney   Badminton   \n",
                            "32    1   30     159    55.5  FIN  1996    Atlanta     Sailing   \n",
                            "33    1   34     159    55.5  FIN  2000     Sydney     Sailing   \n",
                            "\n",
                            "                           event medal  medal num  medal bin  \n",
                            "0    Basketball Men's Basketball  None          0          0  \n",
                            "1   Judo Men's Extra-Lightweight  None          0          0  \n",
                            "31       Badminton Men's Singles  None          0          0  \n",
                            "32    Sailing Women's Windsurfer  None          0          0  \n",
                            "33    Sailing Women's Windsurfer  None          0          0  "
                        ],
                        "text/html": [
                            "<div>\n",
                            "<style scoped>\n",
                            "    .dataframe tbody tr th:only-of-type {\n",
                            "        vertical-align: middle;\n",
                            "    }\n",
                            "\n",
                            "    .dataframe tbody tr th {\n",
                            "        vertical-align: top;\n",
                            "    }\n",
                            "\n",
                            "    .dataframe thead th {\n",
                            "        text-align: right;\n",
                            "    }\n",
                            "</style>\n",
                            "<table border=\"1\" class=\"dataframe\">\n",
                            "  <thead>\n",
                            "    <tr style=\"text-align: right;\">\n",
                            "      <th></th>\n",
                            "      <th>sex</th>\n",
                            "      <th>age</th>\n",
                            "      <th>height</th>\n",
                            "      <th>weight</th>\n",
                            "      <th>team</th>\n",
                            "      <th>year</th>\n",
                            "      <th>city</th>\n",
                            "      <th>sport</th>\n",
                            "      <th>event</th>\n",
                            "      <th>medal</th>\n",
                            "      <th>medal num</th>\n",
                            "      <th>medal bin</th>\n",
                            "    </tr>\n",
                            "  </thead>\n",
                            "  <tbody>\n",
                            "    <tr>\n",
                            "      <th>0</th>\n",
                            "      <td>0</td>\n",
                            "      <td>24</td>\n",
                            "      <td>180</td>\n",
                            "      <td>80.0</td>\n",
                            "      <td>CHN</td>\n",
                            "      <td>1992</td>\n",
                            "      <td>Barcelona</td>\n",
                            "      <td>Basketball</td>\n",
                            "      <td>Basketball Men's Basketball</td>\n",
                            "      <td>None</td>\n",
                            "      <td>0</td>\n",
                            "      <td>0</td>\n",
                            "    </tr>\n",
                            "    <tr>\n",
                            "      <th>1</th>\n",
                            "      <td>0</td>\n",
                            "      <td>23</td>\n",
                            "      <td>170</td>\n",
                            "      <td>60.0</td>\n",
                            "      <td>CHN</td>\n",
                            "      <td>2012</td>\n",
                            "      <td>London</td>\n",
                            "      <td>Judo</td>\n",
                            "      <td>Judo Men's Extra-Lightweight</td>\n",
                            "      <td>None</td>\n",
                            "      <td>0</td>\n",
                            "      <td>0</td>\n",
                            "    </tr>\n",
                            "    <tr>\n",
                            "      <th>31</th>\n",
                            "      <td>0</td>\n",
                            "      <td>31</td>\n",
                            "      <td>172</td>\n",
                            "      <td>70.0</td>\n",
                            "      <td>FIN</td>\n",
                            "      <td>2000</td>\n",
                            "      <td>Sydney</td>\n",
                            "      <td>Badminton</td>\n",
                            "      <td>Badminton Men's Singles</td>\n",
                            "      <td>None</td>\n",
                            "      <td>0</td>\n",
                            "      <td>0</td>\n",
                            "    </tr>\n",
                            "    <tr>\n",
                            "      <th>32</th>\n",
                            "      <td>1</td>\n",
                            "      <td>30</td>\n",
                            "      <td>159</td>\n",
                            "      <td>55.5</td>\n",
                            "      <td>FIN</td>\n",
                            "      <td>1996</td>\n",
                            "      <td>Atlanta</td>\n",
                            "      <td>Sailing</td>\n",
                            "      <td>Sailing Women's Windsurfer</td>\n",
                            "      <td>None</td>\n",
                            "      <td>0</td>\n",
                            "      <td>0</td>\n",
                            "    </tr>\n",
                            "    <tr>\n",
                            "      <th>33</th>\n",
                            "      <td>1</td>\n",
                            "      <td>34</td>\n",
                            "      <td>159</td>\n",
                            "      <td>55.5</td>\n",
                            "      <td>FIN</td>\n",
                            "      <td>2000</td>\n",
                            "      <td>Sydney</td>\n",
                            "      <td>Sailing</td>\n",
                            "      <td>Sailing Women's Windsurfer</td>\n",
                            "      <td>None</td>\n",
                            "      <td>0</td>\n",
                            "      <td>0</td>\n",
                            "    </tr>\n",
                            "  </tbody>\n",
                            "</table>\n",
                            "</div>"
                        ]
                    },
                    "metadata": {},
                    "execution_count": 4
                }
            ],
            "metadata": {}
        },
        {
            "cell_type": "markdown",
            "source": [
                "# \r\n",
                "# <span style=\"color: skyblue;\">Visualiztion</span>"
            ],
            "metadata": {}
        },
        {
            "cell_type": "code",
            "execution_count": 5,
            "source": [
                "df.info()"
            ],
            "outputs": [
                {
                    "output_type": "stream",
                    "name": "stdout",
                    "text": [
                        "<class 'pandas.core.frame.DataFrame'>\n",
                        "Int64Index: 149315 entries, 0 to 271110\n",
                        "Data columns (total 12 columns):\n",
                        " #   Column     Non-Null Count   Dtype  \n",
                        "---  ------     --------------   -----  \n",
                        " 0   sex        149315 non-null  uint8  \n",
                        " 1   age        149315 non-null  uint8  \n",
                        " 2   height     149315 non-null  uint8  \n",
                        " 3   weight     149315 non-null  float32\n",
                        " 4   team       149315 non-null  object \n",
                        " 5   year       149315 non-null  uint16 \n",
                        " 6   city       149315 non-null  object \n",
                        " 7   sport      149315 non-null  object \n",
                        " 8   event      149315 non-null  object \n",
                        " 9   medal      149315 non-null  object \n",
                        " 10  medal num  149315 non-null  int64  \n",
                        " 11  medal bin  149315 non-null  int64  \n",
                        "dtypes: float32(1), int64(2), object(5), uint16(1), uint8(3)\n",
                        "memory usage: 10.4+ MB\n"
                    ]
                }
            ],
            "metadata": {}
        },
        {
            "cell_type": "code",
            "execution_count": 6,
            "source": [
                "df.describe()"
            ],
            "outputs": [
                {
                    "output_type": "execute_result",
                    "data": {
                        "text/plain": [
                            "                 sex            age         height         weight  \\\n",
                            "count  149315.000000  149315.000000  149315.000000  149315.000000   \n",
                            "mean        0.339892      24.818833     175.543087      70.414162   \n",
                            "std         0.473674       5.509316      11.106019      14.917234   \n",
                            "min         0.000000      11.000000     127.000000      25.000000   \n",
                            "25%         0.000000      21.000000     168.000000      60.000000   \n",
                            "50%         0.000000      24.000000     175.000000      69.000000   \n",
                            "75%         1.000000      28.000000     183.000000      79.000000   \n",
                            "max         1.000000      71.000000     226.000000     214.000000   \n",
                            "\n",
                            "                year      medal num      medal bin  \n",
                            "count  149315.000000  149315.000000  149315.000000  \n",
                            "mean     1989.791327       0.294579       0.147393  \n",
                            "std        20.477514       0.775563       0.354499  \n",
                            "min      1896.000000       0.000000       0.000000  \n",
                            "25%      1976.000000       0.000000       0.000000  \n",
                            "50%      1992.000000       0.000000       0.000000  \n",
                            "75%      2008.000000       0.000000       0.000000  \n",
                            "max      2016.000000       3.000000       1.000000  "
                        ],
                        "text/html": [
                            "<div>\n",
                            "<style scoped>\n",
                            "    .dataframe tbody tr th:only-of-type {\n",
                            "        vertical-align: middle;\n",
                            "    }\n",
                            "\n",
                            "    .dataframe tbody tr th {\n",
                            "        vertical-align: top;\n",
                            "    }\n",
                            "\n",
                            "    .dataframe thead th {\n",
                            "        text-align: right;\n",
                            "    }\n",
                            "</style>\n",
                            "<table border=\"1\" class=\"dataframe\">\n",
                            "  <thead>\n",
                            "    <tr style=\"text-align: right;\">\n",
                            "      <th></th>\n",
                            "      <th>sex</th>\n",
                            "      <th>age</th>\n",
                            "      <th>height</th>\n",
                            "      <th>weight</th>\n",
                            "      <th>year</th>\n",
                            "      <th>medal num</th>\n",
                            "      <th>medal bin</th>\n",
                            "    </tr>\n",
                            "  </thead>\n",
                            "  <tbody>\n",
                            "    <tr>\n",
                            "      <th>count</th>\n",
                            "      <td>149315.000000</td>\n",
                            "      <td>149315.000000</td>\n",
                            "      <td>149315.000000</td>\n",
                            "      <td>149315.000000</td>\n",
                            "      <td>149315.000000</td>\n",
                            "      <td>149315.000000</td>\n",
                            "      <td>149315.000000</td>\n",
                            "    </tr>\n",
                            "    <tr>\n",
                            "      <th>mean</th>\n",
                            "      <td>0.339892</td>\n",
                            "      <td>24.818833</td>\n",
                            "      <td>175.543087</td>\n",
                            "      <td>70.414162</td>\n",
                            "      <td>1989.791327</td>\n",
                            "      <td>0.294579</td>\n",
                            "      <td>0.147393</td>\n",
                            "    </tr>\n",
                            "    <tr>\n",
                            "      <th>std</th>\n",
                            "      <td>0.473674</td>\n",
                            "      <td>5.509316</td>\n",
                            "      <td>11.106019</td>\n",
                            "      <td>14.917234</td>\n",
                            "      <td>20.477514</td>\n",
                            "      <td>0.775563</td>\n",
                            "      <td>0.354499</td>\n",
                            "    </tr>\n",
                            "    <tr>\n",
                            "      <th>min</th>\n",
                            "      <td>0.000000</td>\n",
                            "      <td>11.000000</td>\n",
                            "      <td>127.000000</td>\n",
                            "      <td>25.000000</td>\n",
                            "      <td>1896.000000</td>\n",
                            "      <td>0.000000</td>\n",
                            "      <td>0.000000</td>\n",
                            "    </tr>\n",
                            "    <tr>\n",
                            "      <th>25%</th>\n",
                            "      <td>0.000000</td>\n",
                            "      <td>21.000000</td>\n",
                            "      <td>168.000000</td>\n",
                            "      <td>60.000000</td>\n",
                            "      <td>1976.000000</td>\n",
                            "      <td>0.000000</td>\n",
                            "      <td>0.000000</td>\n",
                            "    </tr>\n",
                            "    <tr>\n",
                            "      <th>50%</th>\n",
                            "      <td>0.000000</td>\n",
                            "      <td>24.000000</td>\n",
                            "      <td>175.000000</td>\n",
                            "      <td>69.000000</td>\n",
                            "      <td>1992.000000</td>\n",
                            "      <td>0.000000</td>\n",
                            "      <td>0.000000</td>\n",
                            "    </tr>\n",
                            "    <tr>\n",
                            "      <th>75%</th>\n",
                            "      <td>1.000000</td>\n",
                            "      <td>28.000000</td>\n",
                            "      <td>183.000000</td>\n",
                            "      <td>79.000000</td>\n",
                            "      <td>2008.000000</td>\n",
                            "      <td>0.000000</td>\n",
                            "      <td>0.000000</td>\n",
                            "    </tr>\n",
                            "    <tr>\n",
                            "      <th>max</th>\n",
                            "      <td>1.000000</td>\n",
                            "      <td>71.000000</td>\n",
                            "      <td>226.000000</td>\n",
                            "      <td>214.000000</td>\n",
                            "      <td>2016.000000</td>\n",
                            "      <td>3.000000</td>\n",
                            "      <td>1.000000</td>\n",
                            "    </tr>\n",
                            "  </tbody>\n",
                            "</table>\n",
                            "</div>"
                        ]
                    },
                    "metadata": {},
                    "execution_count": 6
                }
            ],
            "metadata": {}
        },
        {
            "cell_type": "code",
            "execution_count": 7,
            "source": [
                "df[\"medal\"].value_counts()"
            ],
            "outputs": [
                {
                    "output_type": "execute_result",
                    "data": {
                        "text/plain": [
                            "None      127307\n",
                            "Bronze      7446\n",
                            "Gold        7415\n",
                            "Silver      7147\n",
                            "Name: medal, dtype: int64"
                        ]
                    },
                    "metadata": {},
                    "execution_count": 7
                }
            ],
            "metadata": {}
        },
        {
            "cell_type": "code",
            "execution_count": 8,
            "source": [
                "df_figg = pd.DataFrame({\"Distribution\": [127307, 7446, 7415, 7147]}, index=['No medal', 'bronze', 'gold', 'silver'])\r\n",
                "plot = df_figg.plot.pie(figsize=(8, 8), colors=['lightskyblue','chocolate','gold','silver'], subplots=True, autopct='%1.1f%%')\r\n"
            ],
            "outputs": [
                {
                    "output_type": "display_data",
                    "data": {
                        "text/plain": [
                            "<Figure size 576x576 with 1 Axes>"
                        ],
                        "image/svg+xml": "<?xml version=\"1.0\" encoding=\"utf-8\" standalone=\"no\"?>\r\n<!DOCTYPE svg PUBLIC \"-//W3C//DTD SVG 1.1//EN\"\r\n  \"http://www.w3.org/Graphics/SVG/1.1/DTD/svg11.dtd\">\r\n<svg height=\"449.28pt\" version=\"1.1\" viewBox=\"0 0 462.958125 449.28\" width=\"462.958125pt\" xmlns=\"http://www.w3.org/2000/svg\" xmlns:xlink=\"http://www.w3.org/1999/xlink\">\r\n <metadata>\r\n  <rdf:RDF xmlns:cc=\"http://creativecommons.org/ns#\" xmlns:dc=\"http://purl.org/dc/elements/1.1/\" xmlns:rdf=\"http://www.w3.org/1999/02/22-rdf-syntax-ns#\">\r\n   <cc:Work>\r\n    <dc:type rdf:resource=\"http://purl.org/dc/dcmitype/StillImage\"/>\r\n    <dc:date>2021-09-09T18:20:45.524950</dc:date>\r\n    <dc:format>image/svg+xml</dc:format>\r\n    <dc:creator>\r\n     <cc:Agent>\r\n      <dc:title>Matplotlib v3.4.2, https://matplotlib.org/</dc:title>\r\n     </cc:Agent>\r\n    </dc:creator>\r\n   </cc:Work>\r\n  </rdf:RDF>\r\n </metadata>\r\n <defs>\r\n  <style type=\"text/css\">*{stroke-linecap:butt;stroke-linejoin:round;}</style>\r\n </defs>\r\n <g id=\"figure_1\">\r\n  <g id=\"patch_1\">\r\n   <path d=\"M 0 449.28 \r\nL 462.958125 449.28 \r\nL 462.958125 0 \r\nL 0 0 \r\nz\r\n\" style=\"fill:none;\"/>\r\n  </g>\r\n  <g id=\"axes_1\">\r\n   <g id=\"patch_2\">\r\n    <path d=\"M 412.270125 224.64 \r\nC 412.270125 205.180688 409.004872 185.858594 402.610596 167.479855 \r\nC 396.21632 149.101116 386.7832 131.924928 374.704794 116.667899 \r\nC 362.626389 101.410869 348.073041 88.28817 331.65193 77.847292 \r\nC 315.230818 67.406414 297.173533 59.794606 278.23344 55.329439 \r\nC 259.293347 50.864273 239.737561 49.608722 220.381968 51.615168 \r\nC 201.026374 53.621614 182.143947 58.86176 164.522479 67.116983 \r\nC 146.901012 75.372205 130.789021 86.52608 116.858714 100.113257 \r\nC 102.928407 113.700434 91.376245 129.529291 82.684194 146.939434 \r\nC 73.992144 164.349578 68.28279 183.095469 65.794333 202.395014 \r\nC 63.305875 221.694558 64.073409 241.275571 68.064912 260.321114 \r\nC 72.056416 279.366658 79.215595 297.608131 89.243763 314.284481 \r\nC 99.271932 330.960832 112.027661 345.836872 126.978769 358.291959 \r\nC 141.929877 370.747046 158.865507 380.605524 177.07909 387.456089 \r\nC 195.292672 394.306654 214.527338 398.052692 233.9806 398.537913 \r\nC 253.433862 399.023135 272.831367 396.240697 291.363834 390.306686 \r\nC 309.896302 384.372676 327.302365 375.37078 342.855828 363.676567 \r\nL 238.318125 224.64 \r\nL 412.270125 224.64 \r\nz\r\n\" style=\"fill:#87cefa;\"/>\r\n   </g>\r\n   <g id=\"patch_3\">\r\n    <path d=\"M 342.855828 363.676567 \r\nC 350.120218 358.214675 356.945389 352.191849 363.268628 345.663428 \r\nC 369.591866 339.135008 375.393745 332.12105 380.620954 324.686005 \r\nL 238.318125 224.64 \r\nL 342.855828 363.676567 \r\nz\r\n\" style=\"fill:#d2691e;\"/>\r\n   </g>\r\n   <g id=\"patch_4\">\r\n    <path d=\"M 380.620954 324.686005 \r\nC 385.826378 317.281945 390.44602 309.482905 394.437782 301.359952 \r\nC 398.429544 293.236998 401.781266 284.81488 404.462406 276.170343 \r\nL 238.318125 224.64 \r\nL 380.620954 324.686005 \r\nz\r\n\" style=\"fill:#ffd700;\"/>\r\n   </g>\r\n   <g id=\"patch_5\">\r\n    <path d=\"M 404.462406 276.170343 \r\nC 407.046548 267.838543 409.0003 259.32415 410.307118 250.69925 \r\nC 411.613937 242.07435 412.270124 233.363353 412.270125 224.640012 \r\nL 238.318125 224.64 \r\nL 404.462406 276.170343 \r\nz\r\n\" style=\"fill:#c0c0c0;\"/>\r\n   </g>\r\n   <g id=\"matplotlib.axis_1\"/>\r\n   <g id=\"matplotlib.axis_2\">\r\n    <g id=\"text_1\">\r\n     <!-- Distribution -->\r\n     <g transform=\"translate(14.798438 253.80875)rotate(-90)scale(0.1 -0.1)\">\r\n      <defs>\r\n       <path d=\"M 1259 4147 \r\nL 1259 519 \r\nL 2022 519 \r\nQ 2988 519 3436 956 \r\nQ 3884 1394 3884 2338 \r\nQ 3884 3275 3436 3711 \r\nQ 2988 4147 2022 4147 \r\nL 1259 4147 \r\nz\r\nM 628 4666 \r\nL 1925 4666 \r\nQ 3281 4666 3915 4102 \r\nQ 4550 3538 4550 2338 \r\nQ 4550 1131 3912 565 \r\nQ 3275 0 1925 0 \r\nL 628 0 \r\nL 628 4666 \r\nz\r\n\" id=\"DejaVuSans-44\" transform=\"scale(0.015625)\"/>\r\n       <path d=\"M 603 3500 \r\nL 1178 3500 \r\nL 1178 0 \r\nL 603 0 \r\nL 603 3500 \r\nz\r\nM 603 4863 \r\nL 1178 4863 \r\nL 1178 4134 \r\nL 603 4134 \r\nL 603 4863 \r\nz\r\n\" id=\"DejaVuSans-69\" transform=\"scale(0.015625)\"/>\r\n       <path d=\"M 2834 3397 \r\nL 2834 2853 \r\nQ 2591 2978 2328 3040 \r\nQ 2066 3103 1784 3103 \r\nQ 1356 3103 1142 2972 \r\nQ 928 2841 928 2578 \r\nQ 928 2378 1081 2264 \r\nQ 1234 2150 1697 2047 \r\nL 1894 2003 \r\nQ 2506 1872 2764 1633 \r\nQ 3022 1394 3022 966 \r\nQ 3022 478 2636 193 \r\nQ 2250 -91 1575 -91 \r\nQ 1294 -91 989 -36 \r\nQ 684 19 347 128 \r\nL 347 722 \r\nQ 666 556 975 473 \r\nQ 1284 391 1588 391 \r\nQ 1994 391 2212 530 \r\nQ 2431 669 2431 922 \r\nQ 2431 1156 2273 1281 \r\nQ 2116 1406 1581 1522 \r\nL 1381 1569 \r\nQ 847 1681 609 1914 \r\nQ 372 2147 372 2553 \r\nQ 372 3047 722 3315 \r\nQ 1072 3584 1716 3584 \r\nQ 2034 3584 2315 3537 \r\nQ 2597 3491 2834 3397 \r\nz\r\n\" id=\"DejaVuSans-73\" transform=\"scale(0.015625)\"/>\r\n       <path d=\"M 1172 4494 \r\nL 1172 3500 \r\nL 2356 3500 \r\nL 2356 3053 \r\nL 1172 3053 \r\nL 1172 1153 \r\nQ 1172 725 1289 603 \r\nQ 1406 481 1766 481 \r\nL 2356 481 \r\nL 2356 0 \r\nL 1766 0 \r\nQ 1100 0 847 248 \r\nQ 594 497 594 1153 \r\nL 594 3053 \r\nL 172 3053 \r\nL 172 3500 \r\nL 594 3500 \r\nL 594 4494 \r\nL 1172 4494 \r\nz\r\n\" id=\"DejaVuSans-74\" transform=\"scale(0.015625)\"/>\r\n       <path d=\"M 2631 2963 \r\nQ 2534 3019 2420 3045 \r\nQ 2306 3072 2169 3072 \r\nQ 1681 3072 1420 2755 \r\nQ 1159 2438 1159 1844 \r\nL 1159 0 \r\nL 581 0 \r\nL 581 3500 \r\nL 1159 3500 \r\nL 1159 2956 \r\nQ 1341 3275 1631 3429 \r\nQ 1922 3584 2338 3584 \r\nQ 2397 3584 2469 3576 \r\nQ 2541 3569 2628 3553 \r\nL 2631 2963 \r\nz\r\n\" id=\"DejaVuSans-72\" transform=\"scale(0.015625)\"/>\r\n       <path d=\"M 3116 1747 \r\nQ 3116 2381 2855 2742 \r\nQ 2594 3103 2138 3103 \r\nQ 1681 3103 1420 2742 \r\nQ 1159 2381 1159 1747 \r\nQ 1159 1113 1420 752 \r\nQ 1681 391 2138 391 \r\nQ 2594 391 2855 752 \r\nQ 3116 1113 3116 1747 \r\nz\r\nM 1159 2969 \r\nQ 1341 3281 1617 3432 \r\nQ 1894 3584 2278 3584 \r\nQ 2916 3584 3314 3078 \r\nQ 3713 2572 3713 1747 \r\nQ 3713 922 3314 415 \r\nQ 2916 -91 2278 -91 \r\nQ 1894 -91 1617 61 \r\nQ 1341 213 1159 525 \r\nL 1159 0 \r\nL 581 0 \r\nL 581 4863 \r\nL 1159 4863 \r\nL 1159 2969 \r\nz\r\n\" id=\"DejaVuSans-62\" transform=\"scale(0.015625)\"/>\r\n       <path d=\"M 544 1381 \r\nL 544 3500 \r\nL 1119 3500 \r\nL 1119 1403 \r\nQ 1119 906 1312 657 \r\nQ 1506 409 1894 409 \r\nQ 2359 409 2629 706 \r\nQ 2900 1003 2900 1516 \r\nL 2900 3500 \r\nL 3475 3500 \r\nL 3475 0 \r\nL 2900 0 \r\nL 2900 538 \r\nQ 2691 219 2414 64 \r\nQ 2138 -91 1772 -91 \r\nQ 1169 -91 856 284 \r\nQ 544 659 544 1381 \r\nz\r\nM 1991 3584 \r\nL 1991 3584 \r\nz\r\n\" id=\"DejaVuSans-75\" transform=\"scale(0.015625)\"/>\r\n       <path d=\"M 1959 3097 \r\nQ 1497 3097 1228 2736 \r\nQ 959 2375 959 1747 \r\nQ 959 1119 1226 758 \r\nQ 1494 397 1959 397 \r\nQ 2419 397 2687 759 \r\nQ 2956 1122 2956 1747 \r\nQ 2956 2369 2687 2733 \r\nQ 2419 3097 1959 3097 \r\nz\r\nM 1959 3584 \r\nQ 2709 3584 3137 3096 \r\nQ 3566 2609 3566 1747 \r\nQ 3566 888 3137 398 \r\nQ 2709 -91 1959 -91 \r\nQ 1206 -91 779 398 \r\nQ 353 888 353 1747 \r\nQ 353 2609 779 3096 \r\nQ 1206 3584 1959 3584 \r\nz\r\n\" id=\"DejaVuSans-6f\" transform=\"scale(0.015625)\"/>\r\n       <path d=\"M 3513 2113 \r\nL 3513 0 \r\nL 2938 0 \r\nL 2938 2094 \r\nQ 2938 2591 2744 2837 \r\nQ 2550 3084 2163 3084 \r\nQ 1697 3084 1428 2787 \r\nQ 1159 2491 1159 1978 \r\nL 1159 0 \r\nL 581 0 \r\nL 581 3500 \r\nL 1159 3500 \r\nL 1159 2956 \r\nQ 1366 3272 1645 3428 \r\nQ 1925 3584 2291 3584 \r\nQ 2894 3584 3203 3211 \r\nQ 3513 2838 3513 2113 \r\nz\r\n\" id=\"DejaVuSans-6e\" transform=\"scale(0.015625)\"/>\r\n      </defs>\r\n      <use xlink:href=\"#DejaVuSans-44\"/>\r\n      <use x=\"77.001953\" xlink:href=\"#DejaVuSans-69\"/>\r\n      <use x=\"104.785156\" xlink:href=\"#DejaVuSans-73\"/>\r\n      <use x=\"156.884766\" xlink:href=\"#DejaVuSans-74\"/>\r\n      <use x=\"196.09375\" xlink:href=\"#DejaVuSans-72\"/>\r\n      <use x=\"237.207031\" xlink:href=\"#DejaVuSans-69\"/>\r\n      <use x=\"264.990234\" xlink:href=\"#DejaVuSans-62\"/>\r\n      <use x=\"328.466797\" xlink:href=\"#DejaVuSans-75\"/>\r\n      <use x=\"391.845703\" xlink:href=\"#DejaVuSans-74\"/>\r\n      <use x=\"431.054688\" xlink:href=\"#DejaVuSans-69\"/>\r\n      <use x=\"458.837891\" xlink:href=\"#DejaVuSans-6f\"/>\r\n      <use x=\"520.019531\" xlink:href=\"#DejaVuSans-6e\"/>\r\n     </g>\r\n    </g>\r\n   </g>\r\n   <g id=\"text_2\">\r\n    <!-- No medal -->\r\n    <g transform=\"translate(19.194239 141.928753)scale(0.1 -0.1)\">\r\n     <defs>\r\n      <path d=\"M 628 4666 \r\nL 1478 4666 \r\nL 3547 763 \r\nL 3547 4666 \r\nL 4159 4666 \r\nL 4159 0 \r\nL 3309 0 \r\nL 1241 3903 \r\nL 1241 0 \r\nL 628 0 \r\nL 628 4666 \r\nz\r\n\" id=\"DejaVuSans-4e\" transform=\"scale(0.015625)\"/>\r\n      <path id=\"DejaVuSans-20\" transform=\"scale(0.015625)\"/>\r\n      <path d=\"M 3328 2828 \r\nQ 3544 3216 3844 3400 \r\nQ 4144 3584 4550 3584 \r\nQ 5097 3584 5394 3201 \r\nQ 5691 2819 5691 2113 \r\nL 5691 0 \r\nL 5113 0 \r\nL 5113 2094 \r\nQ 5113 2597 4934 2840 \r\nQ 4756 3084 4391 3084 \r\nQ 3944 3084 3684 2787 \r\nQ 3425 2491 3425 1978 \r\nL 3425 0 \r\nL 2847 0 \r\nL 2847 2094 \r\nQ 2847 2600 2669 2842 \r\nQ 2491 3084 2119 3084 \r\nQ 1678 3084 1418 2786 \r\nQ 1159 2488 1159 1978 \r\nL 1159 0 \r\nL 581 0 \r\nL 581 3500 \r\nL 1159 3500 \r\nL 1159 2956 \r\nQ 1356 3278 1631 3431 \r\nQ 1906 3584 2284 3584 \r\nQ 2666 3584 2933 3390 \r\nQ 3200 3197 3328 2828 \r\nz\r\n\" id=\"DejaVuSans-6d\" transform=\"scale(0.015625)\"/>\r\n      <path d=\"M 3597 1894 \r\nL 3597 1613 \r\nL 953 1613 \r\nQ 991 1019 1311 708 \r\nQ 1631 397 2203 397 \r\nQ 2534 397 2845 478 \r\nQ 3156 559 3463 722 \r\nL 3463 178 \r\nQ 3153 47 2828 -22 \r\nQ 2503 -91 2169 -91 \r\nQ 1331 -91 842 396 \r\nQ 353 884 353 1716 \r\nQ 353 2575 817 3079 \r\nQ 1281 3584 2069 3584 \r\nQ 2775 3584 3186 3129 \r\nQ 3597 2675 3597 1894 \r\nz\r\nM 3022 2063 \r\nQ 3016 2534 2758 2815 \r\nQ 2500 3097 2075 3097 \r\nQ 1594 3097 1305 2825 \r\nQ 1016 2553 972 2059 \r\nL 3022 2063 \r\nz\r\n\" id=\"DejaVuSans-65\" transform=\"scale(0.015625)\"/>\r\n      <path d=\"M 2906 2969 \r\nL 2906 4863 \r\nL 3481 4863 \r\nL 3481 0 \r\nL 2906 0 \r\nL 2906 525 \r\nQ 2725 213 2448 61 \r\nQ 2172 -91 1784 -91 \r\nQ 1150 -91 751 415 \r\nQ 353 922 353 1747 \r\nQ 353 2572 751 3078 \r\nQ 1150 3584 1784 3584 \r\nQ 2172 3584 2448 3432 \r\nQ 2725 3281 2906 2969 \r\nz\r\nM 947 1747 \r\nQ 947 1113 1208 752 \r\nQ 1469 391 1925 391 \r\nQ 2381 391 2643 752 \r\nQ 2906 1113 2906 1747 \r\nQ 2906 2381 2643 2742 \r\nQ 2381 3103 1925 3103 \r\nQ 1469 3103 1208 2742 \r\nQ 947 2381 947 1747 \r\nz\r\n\" id=\"DejaVuSans-64\" transform=\"scale(0.015625)\"/>\r\n      <path d=\"M 2194 1759 \r\nQ 1497 1759 1228 1600 \r\nQ 959 1441 959 1056 \r\nQ 959 750 1161 570 \r\nQ 1363 391 1709 391 \r\nQ 2188 391 2477 730 \r\nQ 2766 1069 2766 1631 \r\nL 2766 1759 \r\nL 2194 1759 \r\nz\r\nM 3341 1997 \r\nL 3341 0 \r\nL 2766 0 \r\nL 2766 531 \r\nQ 2569 213 2275 61 \r\nQ 1981 -91 1556 -91 \r\nQ 1019 -91 701 211 \r\nQ 384 513 384 1019 \r\nQ 384 1609 779 1909 \r\nQ 1175 2209 1959 2209 \r\nL 2766 2209 \r\nL 2766 2266 \r\nQ 2766 2663 2505 2880 \r\nQ 2244 3097 1772 3097 \r\nQ 1472 3097 1187 3025 \r\nQ 903 2953 641 2809 \r\nL 641 3341 \r\nQ 956 3463 1253 3523 \r\nQ 1550 3584 1831 3584 \r\nQ 2591 3584 2966 3190 \r\nQ 3341 2797 3341 1997 \r\nz\r\n\" id=\"DejaVuSans-61\" transform=\"scale(0.015625)\"/>\r\n      <path d=\"M 603 4863 \r\nL 1178 4863 \r\nL 1178 0 \r\nL 603 0 \r\nL 603 4863 \r\nz\r\n\" id=\"DejaVuSans-6c\" transform=\"scale(0.015625)\"/>\r\n     </defs>\r\n     <use xlink:href=\"#DejaVuSans-4e\"/>\r\n     <use x=\"74.804688\" xlink:href=\"#DejaVuSans-6f\"/>\r\n     <use x=\"135.986328\" xlink:href=\"#DejaVuSans-20\"/>\r\n     <use x=\"167.773438\" xlink:href=\"#DejaVuSans-6d\"/>\r\n     <use x=\"265.185547\" xlink:href=\"#DejaVuSans-65\"/>\r\n     <use x=\"326.708984\" xlink:href=\"#DejaVuSans-64\"/>\r\n     <use x=\"390.185547\" xlink:href=\"#DejaVuSans-61\"/>\r\n     <use x=\"451.464844\" xlink:href=\"#DejaVuSans-6c\"/>\r\n    </g>\r\n   </g>\r\n   <g id=\"text_3\">\r\n    <!-- 85.3% -->\r\n    <g transform=\"translate(129.054173 180.779036)scale(0.1 -0.1)\">\r\n     <defs>\r\n      <path d=\"M 2034 2216 \r\nQ 1584 2216 1326 1975 \r\nQ 1069 1734 1069 1313 \r\nQ 1069 891 1326 650 \r\nQ 1584 409 2034 409 \r\nQ 2484 409 2743 651 \r\nQ 3003 894 3003 1313 \r\nQ 3003 1734 2745 1975 \r\nQ 2488 2216 2034 2216 \r\nz\r\nM 1403 2484 \r\nQ 997 2584 770 2862 \r\nQ 544 3141 544 3541 \r\nQ 544 4100 942 4425 \r\nQ 1341 4750 2034 4750 \r\nQ 2731 4750 3128 4425 \r\nQ 3525 4100 3525 3541 \r\nQ 3525 3141 3298 2862 \r\nQ 3072 2584 2669 2484 \r\nQ 3125 2378 3379 2068 \r\nQ 3634 1759 3634 1313 \r\nQ 3634 634 3220 271 \r\nQ 2806 -91 2034 -91 \r\nQ 1263 -91 848 271 \r\nQ 434 634 434 1313 \r\nQ 434 1759 690 2068 \r\nQ 947 2378 1403 2484 \r\nz\r\nM 1172 3481 \r\nQ 1172 3119 1398 2916 \r\nQ 1625 2713 2034 2713 \r\nQ 2441 2713 2670 2916 \r\nQ 2900 3119 2900 3481 \r\nQ 2900 3844 2670 4047 \r\nQ 2441 4250 2034 4250 \r\nQ 1625 4250 1398 4047 \r\nQ 1172 3844 1172 3481 \r\nz\r\n\" id=\"DejaVuSans-38\" transform=\"scale(0.015625)\"/>\r\n      <path d=\"M 691 4666 \r\nL 3169 4666 \r\nL 3169 4134 \r\nL 1269 4134 \r\nL 1269 2991 \r\nQ 1406 3038 1543 3061 \r\nQ 1681 3084 1819 3084 \r\nQ 2600 3084 3056 2656 \r\nQ 3513 2228 3513 1497 \r\nQ 3513 744 3044 326 \r\nQ 2575 -91 1722 -91 \r\nQ 1428 -91 1123 -41 \r\nQ 819 9 494 109 \r\nL 494 744 \r\nQ 775 591 1075 516 \r\nQ 1375 441 1709 441 \r\nQ 2250 441 2565 725 \r\nQ 2881 1009 2881 1497 \r\nQ 2881 1984 2565 2268 \r\nQ 2250 2553 1709 2553 \r\nQ 1456 2553 1204 2497 \r\nQ 953 2441 691 2322 \r\nL 691 4666 \r\nz\r\n\" id=\"DejaVuSans-35\" transform=\"scale(0.015625)\"/>\r\n      <path d=\"M 684 794 \r\nL 1344 794 \r\nL 1344 0 \r\nL 684 0 \r\nL 684 794 \r\nz\r\n\" id=\"DejaVuSans-2e\" transform=\"scale(0.015625)\"/>\r\n      <path d=\"M 2597 2516 \r\nQ 3050 2419 3304 2112 \r\nQ 3559 1806 3559 1356 \r\nQ 3559 666 3084 287 \r\nQ 2609 -91 1734 -91 \r\nQ 1441 -91 1130 -33 \r\nQ 819 25 488 141 \r\nL 488 750 \r\nQ 750 597 1062 519 \r\nQ 1375 441 1716 441 \r\nQ 2309 441 2620 675 \r\nQ 2931 909 2931 1356 \r\nQ 2931 1769 2642 2001 \r\nQ 2353 2234 1838 2234 \r\nL 1294 2234 \r\nL 1294 2753 \r\nL 1863 2753 \r\nQ 2328 2753 2575 2939 \r\nQ 2822 3125 2822 3475 \r\nQ 2822 3834 2567 4026 \r\nQ 2313 4219 1838 4219 \r\nQ 1578 4219 1281 4162 \r\nQ 984 4106 628 3988 \r\nL 628 4550 \r\nQ 988 4650 1302 4700 \r\nQ 1616 4750 1894 4750 \r\nQ 2613 4750 3031 4423 \r\nQ 3450 4097 3450 3541 \r\nQ 3450 3153 3228 2886 \r\nQ 3006 2619 2597 2516 \r\nz\r\n\" id=\"DejaVuSans-33\" transform=\"scale(0.015625)\"/>\r\n      <path d=\"M 4653 2053 \r\nQ 4381 2053 4226 1822 \r\nQ 4072 1591 4072 1178 \r\nQ 4072 772 4226 539 \r\nQ 4381 306 4653 306 \r\nQ 4919 306 5073 539 \r\nQ 5228 772 5228 1178 \r\nQ 5228 1588 5073 1820 \r\nQ 4919 2053 4653 2053 \r\nz\r\nM 4653 2450 \r\nQ 5147 2450 5437 2106 \r\nQ 5728 1763 5728 1178 \r\nQ 5728 594 5436 251 \r\nQ 5144 -91 4653 -91 \r\nQ 4153 -91 3862 251 \r\nQ 3572 594 3572 1178 \r\nQ 3572 1766 3864 2108 \r\nQ 4156 2450 4653 2450 \r\nz\r\nM 1428 4353 \r\nQ 1159 4353 1004 4120 \r\nQ 850 3888 850 3481 \r\nQ 850 3069 1003 2837 \r\nQ 1156 2606 1428 2606 \r\nQ 1700 2606 1854 2837 \r\nQ 2009 3069 2009 3481 \r\nQ 2009 3884 1853 4118 \r\nQ 1697 4353 1428 4353 \r\nz\r\nM 4250 4750 \r\nL 4750 4750 \r\nL 1831 -91 \r\nL 1331 -91 \r\nL 4250 4750 \r\nz\r\nM 1428 4750 \r\nQ 1922 4750 2215 4408 \r\nQ 2509 4066 2509 3481 \r\nQ 2509 2891 2217 2550 \r\nQ 1925 2209 1428 2209 \r\nQ 931 2209 642 2551 \r\nQ 353 2894 353 3481 \r\nQ 353 4063 643 4406 \r\nQ 934 4750 1428 4750 \r\nz\r\n\" id=\"DejaVuSans-25\" transform=\"scale(0.015625)\"/>\r\n     </defs>\r\n     <use xlink:href=\"#DejaVuSans-38\"/>\r\n     <use x=\"63.623047\" xlink:href=\"#DejaVuSans-35\"/>\r\n     <use x=\"127.246094\" xlink:href=\"#DejaVuSans-2e\"/>\r\n     <use x=\"159.033203\" xlink:href=\"#DejaVuSans-33\"/>\r\n     <use x=\"222.65625\" xlink:href=\"#DejaVuSans-25\"/>\r\n    </g>\r\n   </g>\r\n   <g id=\"text_4\">\r\n    <!-- bronze -->\r\n    <g transform=\"translate(375.763678 360.525146)scale(0.1 -0.1)\">\r\n     <defs>\r\n      <path d=\"M 353 3500 \r\nL 3084 3500 \r\nL 3084 2975 \r\nL 922 459 \r\nL 3084 459 \r\nL 3084 0 \r\nL 275 0 \r\nL 275 525 \r\nL 2438 3041 \r\nL 353 3041 \r\nL 353 3500 \r\nz\r\n\" id=\"DejaVuSans-7a\" transform=\"scale(0.015625)\"/>\r\n     </defs>\r\n     <use xlink:href=\"#DejaVuSans-62\"/>\r\n     <use x=\"63.476562\" xlink:href=\"#DejaVuSans-72\"/>\r\n     <use x=\"102.339844\" xlink:href=\"#DejaVuSans-6f\"/>\r\n     <use x=\"163.521484\" xlink:href=\"#DejaVuSans-6e\"/>\r\n     <use x=\"226.900391\" xlink:href=\"#DejaVuSans-7a\"/>\r\n     <use x=\"279.390625\" xlink:href=\"#DejaVuSans-65\"/>\r\n    </g>\r\n   </g>\r\n   <g id=\"text_5\">\r\n    <!-- 5.0% -->\r\n    <g transform=\"translate(300.586083 300.013432)scale(0.1 -0.1)\">\r\n     <defs>\r\n      <path d=\"M 2034 4250 \r\nQ 1547 4250 1301 3770 \r\nQ 1056 3291 1056 2328 \r\nQ 1056 1369 1301 889 \r\nQ 1547 409 2034 409 \r\nQ 2525 409 2770 889 \r\nQ 3016 1369 3016 2328 \r\nQ 3016 3291 2770 3770 \r\nQ 2525 4250 2034 4250 \r\nz\r\nM 2034 4750 \r\nQ 2819 4750 3233 4129 \r\nQ 3647 3509 3647 2328 \r\nQ 3647 1150 3233 529 \r\nQ 2819 -91 2034 -91 \r\nQ 1250 -91 836 529 \r\nQ 422 1150 422 2328 \r\nQ 422 3509 836 4129 \r\nQ 1250 4750 2034 4750 \r\nz\r\n\" id=\"DejaVuSans-30\" transform=\"scale(0.015625)\"/>\r\n     </defs>\r\n     <use xlink:href=\"#DejaVuSans-35\"/>\r\n     <use x=\"63.623047\" xlink:href=\"#DejaVuSans-2e\"/>\r\n     <use x=\"95.410156\" xlink:href=\"#DejaVuSans-30\"/>\r\n     <use x=\"159.033203\" xlink:href=\"#DejaVuSans-25\"/>\r\n    </g>\r\n   </g>\r\n   <g id=\"text_6\">\r\n    <!-- gold -->\r\n    <g transform=\"translate(410.049748 311.791322)scale(0.1 -0.1)\">\r\n     <defs>\r\n      <path d=\"M 2906 1791 \r\nQ 2906 2416 2648 2759 \r\nQ 2391 3103 1925 3103 \r\nQ 1463 3103 1205 2759 \r\nQ 947 2416 947 1791 \r\nQ 947 1169 1205 825 \r\nQ 1463 481 1925 481 \r\nQ 2391 481 2648 825 \r\nQ 2906 1169 2906 1791 \r\nz\r\nM 3481 434 \r\nQ 3481 -459 3084 -895 \r\nQ 2688 -1331 1869 -1331 \r\nQ 1566 -1331 1297 -1286 \r\nQ 1028 -1241 775 -1147 \r\nL 775 -588 \r\nQ 1028 -725 1275 -790 \r\nQ 1522 -856 1778 -856 \r\nQ 2344 -856 2625 -561 \r\nQ 2906 -266 2906 331 \r\nL 2906 616 \r\nQ 2728 306 2450 153 \r\nQ 2172 0 1784 0 \r\nQ 1141 0 747 490 \r\nQ 353 981 353 1791 \r\nQ 353 2603 747 3093 \r\nQ 1141 3584 1784 3584 \r\nQ 2172 3584 2450 3431 \r\nQ 2728 3278 2906 2969 \r\nL 2906 3500 \r\nL 3481 3500 \r\nL 3481 434 \r\nz\r\n\" id=\"DejaVuSans-67\" transform=\"scale(0.015625)\"/>\r\n     </defs>\r\n     <use xlink:href=\"#DejaVuSans-67\"/>\r\n     <use x=\"63.476562\" xlink:href=\"#DejaVuSans-6f\"/>\r\n     <use x=\"124.658203\" xlink:href=\"#DejaVuSans-6c\"/>\r\n     <use x=\"152.441406\" xlink:href=\"#DejaVuSans-64\"/>\r\n    </g>\r\n   </g>\r\n   <g id=\"text_7\">\r\n    <!-- 5.0% -->\r\n    <g transform=\"translate(319.287575 273.431346)scale(0.1 -0.1)\">\r\n     <use xlink:href=\"#DejaVuSans-35\"/>\r\n     <use x=\"63.623047\" xlink:href=\"#DejaVuSans-2e\"/>\r\n     <use x=\"95.410156\" xlink:href=\"#DejaVuSans-30\"/>\r\n     <use x=\"159.033203\" xlink:href=\"#DejaVuSans-25\"/>\r\n    </g>\r\n   </g>\r\n   <g id=\"text_8\">\r\n    <!-- silver -->\r\n    <g transform=\"translate(427.506018 256.06455)scale(0.1 -0.1)\">\r\n     <defs>\r\n      <path d=\"M 191 3500 \r\nL 800 3500 \r\nL 1894 563 \r\nL 2988 3500 \r\nL 3597 3500 \r\nL 2284 0 \r\nL 1503 0 \r\nL 191 3500 \r\nz\r\n\" id=\"DejaVuSans-76\" transform=\"scale(0.015625)\"/>\r\n     </defs>\r\n     <use xlink:href=\"#DejaVuSans-73\"/>\r\n     <use x=\"52.099609\" xlink:href=\"#DejaVuSans-69\"/>\r\n     <use x=\"79.882812\" xlink:href=\"#DejaVuSans-6c\"/>\r\n     <use x=\"107.666016\" xlink:href=\"#DejaVuSans-76\"/>\r\n     <use x=\"166.845703\" xlink:href=\"#DejaVuSans-65\"/>\r\n     <use x=\"228.369141\" xlink:href=\"#DejaVuSans-72\"/>\r\n    </g>\r\n   </g>\r\n   <g id=\"text_9\">\r\n    <!-- 4.8% -->\r\n    <g transform=\"translate(328.809177 243.034925)scale(0.1 -0.1)\">\r\n     <defs>\r\n      <path d=\"M 2419 4116 \r\nL 825 1625 \r\nL 2419 1625 \r\nL 2419 4116 \r\nz\r\nM 2253 4666 \r\nL 3047 4666 \r\nL 3047 1625 \r\nL 3713 1625 \r\nL 3713 1100 \r\nL 3047 1100 \r\nL 3047 0 \r\nL 2419 0 \r\nL 2419 1100 \r\nL 313 1100 \r\nL 313 1709 \r\nL 2253 4666 \r\nz\r\n\" id=\"DejaVuSans-34\" transform=\"scale(0.015625)\"/>\r\n     </defs>\r\n     <use xlink:href=\"#DejaVuSans-34\"/>\r\n     <use x=\"63.623047\" xlink:href=\"#DejaVuSans-2e\"/>\r\n     <use x=\"95.410156\" xlink:href=\"#DejaVuSans-38\"/>\r\n     <use x=\"159.033203\" xlink:href=\"#DejaVuSans-25\"/>\r\n    </g>\r\n   </g>\r\n   <g id=\"legend_1\">\r\n    <g id=\"patch_6\">\r\n     <path d=\"M 368.831563 73.9125 \r\nL 448.758125 73.9125 \r\nQ 450.758125 73.9125 450.758125 71.9125 \r\nL 450.758125 14.2 \r\nQ 450.758125 12.2 448.758125 12.2 \r\nL 368.831563 12.2 \r\nQ 366.831563 12.2 366.831563 14.2 \r\nL 366.831563 71.9125 \r\nQ 366.831563 73.9125 368.831563 73.9125 \r\nz\r\n\" style=\"fill:#ffffff;opacity:0.8;stroke:#cccccc;stroke-linejoin:miter;\"/>\r\n    </g>\r\n    <g id=\"patch_7\">\r\n     <path d=\"M 370.831563 23.798437 \r\nL 390.831563 23.798437 \r\nL 390.831563 16.798437 \r\nL 370.831563 16.798437 \r\nz\r\n\" style=\"fill:#87cefa;\"/>\r\n    </g>\r\n    <g id=\"text_10\">\r\n     <!-- No medal -->\r\n     <g transform=\"translate(398.831563 23.798437)scale(0.1 -0.1)\">\r\n      <use xlink:href=\"#DejaVuSans-4e\"/>\r\n      <use x=\"74.804688\" xlink:href=\"#DejaVuSans-6f\"/>\r\n      <use x=\"135.986328\" xlink:href=\"#DejaVuSans-20\"/>\r\n      <use x=\"167.773438\" xlink:href=\"#DejaVuSans-6d\"/>\r\n      <use x=\"265.185547\" xlink:href=\"#DejaVuSans-65\"/>\r\n      <use x=\"326.708984\" xlink:href=\"#DejaVuSans-64\"/>\r\n      <use x=\"390.185547\" xlink:href=\"#DejaVuSans-61\"/>\r\n      <use x=\"451.464844\" xlink:href=\"#DejaVuSans-6c\"/>\r\n     </g>\r\n    </g>\r\n    <g id=\"patch_8\">\r\n     <path d=\"M 370.831563 38.476562 \r\nL 390.831563 38.476562 \r\nL 390.831563 31.476562 \r\nL 370.831563 31.476562 \r\nz\r\n\" style=\"fill:#d2691e;\"/>\r\n    </g>\r\n    <g id=\"text_11\">\r\n     <!-- bronze -->\r\n     <g transform=\"translate(398.831563 38.476562)scale(0.1 -0.1)\">\r\n      <use xlink:href=\"#DejaVuSans-62\"/>\r\n      <use x=\"63.476562\" xlink:href=\"#DejaVuSans-72\"/>\r\n      <use x=\"102.339844\" xlink:href=\"#DejaVuSans-6f\"/>\r\n      <use x=\"163.521484\" xlink:href=\"#DejaVuSans-6e\"/>\r\n      <use x=\"226.900391\" xlink:href=\"#DejaVuSans-7a\"/>\r\n      <use x=\"279.390625\" xlink:href=\"#DejaVuSans-65\"/>\r\n     </g>\r\n    </g>\r\n    <g id=\"patch_9\">\r\n     <path d=\"M 370.831563 53.154687 \r\nL 390.831563 53.154687 \r\nL 390.831563 46.154687 \r\nL 370.831563 46.154687 \r\nz\r\n\" style=\"fill:#ffd700;\"/>\r\n    </g>\r\n    <g id=\"text_12\">\r\n     <!-- gold -->\r\n     <g transform=\"translate(398.831563 53.154687)scale(0.1 -0.1)\">\r\n      <use xlink:href=\"#DejaVuSans-67\"/>\r\n      <use x=\"63.476562\" xlink:href=\"#DejaVuSans-6f\"/>\r\n      <use x=\"124.658203\" xlink:href=\"#DejaVuSans-6c\"/>\r\n      <use x=\"152.441406\" xlink:href=\"#DejaVuSans-64\"/>\r\n     </g>\r\n    </g>\r\n    <g id=\"patch_10\">\r\n     <path d=\"M 370.831563 67.832812 \r\nL 390.831563 67.832812 \r\nL 390.831563 60.832812 \r\nL 370.831563 60.832812 \r\nz\r\n\" style=\"fill:#c0c0c0;\"/>\r\n    </g>\r\n    <g id=\"text_13\">\r\n     <!-- silver -->\r\n     <g transform=\"translate(398.831563 67.832812)scale(0.1 -0.1)\">\r\n      <use xlink:href=\"#DejaVuSans-73\"/>\r\n      <use x=\"52.099609\" xlink:href=\"#DejaVuSans-69\"/>\r\n      <use x=\"79.882812\" xlink:href=\"#DejaVuSans-6c\"/>\r\n      <use x=\"107.666016\" xlink:href=\"#DejaVuSans-76\"/>\r\n      <use x=\"166.845703\" xlink:href=\"#DejaVuSans-65\"/>\r\n      <use x=\"228.369141\" xlink:href=\"#DejaVuSans-72\"/>\r\n     </g>\r\n    </g>\r\n   </g>\r\n  </g>\r\n </g>\r\n</svg>\r\n",
                        "image/png": "[encoded data removed]"
                    },
                    "metadata": {}
                }
            ],
            "metadata": {}
        },
        {
            "cell_type": "code",
            "execution_count": 9,
            "source": [
                "df_group = df.groupby([\"team\"]).sum().sort_values('medal bin', ascending = False)\r\n",
                "df_bestgroup = df_group[:10]\r\n",
                "df_bestgroup"
            ],
            "outputs": [
                {
                    "output_type": "execute_result",
                    "data": {
                        "text/plain": [
                            "         sex       age     height    weight        year  medal num  medal bin\n",
                            "team                                                                         \n",
                            "USA   3561.0  244062.0  1736047.0  710064.0  19382482.0       8002       3457\n",
                            "RUS   2711.0  174477.0  1244793.0  505782.0  14033500.0       5292       2591\n",
                            "GER   3302.0  225868.0  1613883.0  653354.5  18060292.0       4507       2286\n",
                            "AUS   2235.0  140595.0   999381.0  406527.0  11248704.0       1972       1040\n",
                            "GBR   2375.0  156932.0  1090580.0  435562.0  12333784.0       1705        871\n",
                            "CHN   2112.0   89276.0   673756.0  259781.5   7792688.0       1721        830\n",
                            "FRA   1728.0  141778.0   983163.0  388969.5  11124904.0       1388        714\n",
                            "ITA   1452.0  123836.0   870088.0  349905.0   9819296.0       1301        682\n",
                            "JPN   1855.0  119758.0   833935.0  311330.0   9846084.0       1198        633\n",
                            "HUN   1282.0   94723.0   680948.0  277279.5   7675660.0       1271        625"
                        ],
                        "text/html": [
                            "<div>\n",
                            "<style scoped>\n",
                            "    .dataframe tbody tr th:only-of-type {\n",
                            "        vertical-align: middle;\n",
                            "    }\n",
                            "\n",
                            "    .dataframe tbody tr th {\n",
                            "        vertical-align: top;\n",
                            "    }\n",
                            "\n",
                            "    .dataframe thead th {\n",
                            "        text-align: right;\n",
                            "    }\n",
                            "</style>\n",
                            "<table border=\"1\" class=\"dataframe\">\n",
                            "  <thead>\n",
                            "    <tr style=\"text-align: right;\">\n",
                            "      <th></th>\n",
                            "      <th>sex</th>\n",
                            "      <th>age</th>\n",
                            "      <th>height</th>\n",
                            "      <th>weight</th>\n",
                            "      <th>year</th>\n",
                            "      <th>medal num</th>\n",
                            "      <th>medal bin</th>\n",
                            "    </tr>\n",
                            "    <tr>\n",
                            "      <th>team</th>\n",
                            "      <th></th>\n",
                            "      <th></th>\n",
                            "      <th></th>\n",
                            "      <th></th>\n",
                            "      <th></th>\n",
                            "      <th></th>\n",
                            "      <th></th>\n",
                            "    </tr>\n",
                            "  </thead>\n",
                            "  <tbody>\n",
                            "    <tr>\n",
                            "      <th>USA</th>\n",
                            "      <td>3561.0</td>\n",
                            "      <td>244062.0</td>\n",
                            "      <td>1736047.0</td>\n",
                            "      <td>710064.0</td>\n",
                            "      <td>19382482.0</td>\n",
                            "      <td>8002</td>\n",
                            "      <td>3457</td>\n",
                            "    </tr>\n",
                            "    <tr>\n",
                            "      <th>RUS</th>\n",
                            "      <td>2711.0</td>\n",
                            "      <td>174477.0</td>\n",
                            "      <td>1244793.0</td>\n",
                            "      <td>505782.0</td>\n",
                            "      <td>14033500.0</td>\n",
                            "      <td>5292</td>\n",
                            "      <td>2591</td>\n",
                            "    </tr>\n",
                            "    <tr>\n",
                            "      <th>GER</th>\n",
                            "      <td>3302.0</td>\n",
                            "      <td>225868.0</td>\n",
                            "      <td>1613883.0</td>\n",
                            "      <td>653354.5</td>\n",
                            "      <td>18060292.0</td>\n",
                            "      <td>4507</td>\n",
                            "      <td>2286</td>\n",
                            "    </tr>\n",
                            "    <tr>\n",
                            "      <th>AUS</th>\n",
                            "      <td>2235.0</td>\n",
                            "      <td>140595.0</td>\n",
                            "      <td>999381.0</td>\n",
                            "      <td>406527.0</td>\n",
                            "      <td>11248704.0</td>\n",
                            "      <td>1972</td>\n",
                            "      <td>1040</td>\n",
                            "    </tr>\n",
                            "    <tr>\n",
                            "      <th>GBR</th>\n",
                            "      <td>2375.0</td>\n",
                            "      <td>156932.0</td>\n",
                            "      <td>1090580.0</td>\n",
                            "      <td>435562.0</td>\n",
                            "      <td>12333784.0</td>\n",
                            "      <td>1705</td>\n",
                            "      <td>871</td>\n",
                            "    </tr>\n",
                            "    <tr>\n",
                            "      <th>CHN</th>\n",
                            "      <td>2112.0</td>\n",
                            "      <td>89276.0</td>\n",
                            "      <td>673756.0</td>\n",
                            "      <td>259781.5</td>\n",
                            "      <td>7792688.0</td>\n",
                            "      <td>1721</td>\n",
                            "      <td>830</td>\n",
                            "    </tr>\n",
                            "    <tr>\n",
                            "      <th>FRA</th>\n",
                            "      <td>1728.0</td>\n",
                            "      <td>141778.0</td>\n",
                            "      <td>983163.0</td>\n",
                            "      <td>388969.5</td>\n",
                            "      <td>11124904.0</td>\n",
                            "      <td>1388</td>\n",
                            "      <td>714</td>\n",
                            "    </tr>\n",
                            "    <tr>\n",
                            "      <th>ITA</th>\n",
                            "      <td>1452.0</td>\n",
                            "      <td>123836.0</td>\n",
                            "      <td>870088.0</td>\n",
                            "      <td>349905.0</td>\n",
                            "      <td>9819296.0</td>\n",
                            "      <td>1301</td>\n",
                            "      <td>682</td>\n",
                            "    </tr>\n",
                            "    <tr>\n",
                            "      <th>JPN</th>\n",
                            "      <td>1855.0</td>\n",
                            "      <td>119758.0</td>\n",
                            "      <td>833935.0</td>\n",
                            "      <td>311330.0</td>\n",
                            "      <td>9846084.0</td>\n",
                            "      <td>1198</td>\n",
                            "      <td>633</td>\n",
                            "    </tr>\n",
                            "    <tr>\n",
                            "      <th>HUN</th>\n",
                            "      <td>1282.0</td>\n",
                            "      <td>94723.0</td>\n",
                            "      <td>680948.0</td>\n",
                            "      <td>277279.5</td>\n",
                            "      <td>7675660.0</td>\n",
                            "      <td>1271</td>\n",
                            "      <td>625</td>\n",
                            "    </tr>\n",
                            "  </tbody>\n",
                            "</table>\n",
                            "</div>"
                        ]
                    },
                    "metadata": {},
                    "execution_count": 9
                }
            ],
            "metadata": {}
        },
        {
            "cell_type": "markdown",
            "source": [
                "The ten countries with the largest number of medals are: \r\n",
                "1.\tUnited States\r\n",
                "2.\tRussia\r\n",
                "3.\tGermany\r\n",
                "4.\tAustralia\r\n",
                "5.\tUnited Kingdom\r\n",
                "6.\tChina\r\n",
                "7.\tFrance\r\n",
                "8.\tItaly\r\n",
                "9.\tJapan\r\n",
                "10.\tHungary"
            ],
            "metadata": {}
        },
        {
            "cell_type": "code",
            "execution_count": 10,
            "source": [
                "df_groups = df.groupby([\"team\", \"medal num\"]).sum().sort_values('medal bin', ascending = False)\r\n",
                "df_bestgroups = df_groups[:10]\r\n",
                "df_bestgroups"
            ],
            "outputs": [
                {
                    "output_type": "execute_result",
                    "data": {
                        "text/plain": [
                            "                  sex      age    height    weight       year  medal bin\n",
                            "team medal num                                                          \n",
                            "USA  3          684.0  43054.0  330419.0  137994.5  3600910.0       1818\n",
                            "RUS  3          403.0  23822.0  170588.0   71391.0  1911544.0        963\n",
                            "USA  2          362.0  22057.0  162922.0   67397.0  1802068.0        909\n",
                            "RUS  1          291.0  21393.0  152928.0   64455.0  1694476.0        853\n",
                            "GER  1          309.0  20225.0  145744.0   60043.0  1620434.0        816\n",
                            "RUS  2          281.0  19196.0  137964.0   57628.5  1537764.0        775\n",
                            "GER  3          299.0  19333.0  135280.0   56710.0  1492608.0        751\n",
                            "USA  1          304.0  18273.0  130680.0   54132.5  1449246.0        730\n",
                            "GER  2          294.0  17713.0  128392.0   52790.0  1426068.0        719\n",
                            "AUS  1          130.0   9939.0   71758.0   30191.0   793908.0        398"
                        ],
                        "text/html": [
                            "<div>\n",
                            "<style scoped>\n",
                            "    .dataframe tbody tr th:only-of-type {\n",
                            "        vertical-align: middle;\n",
                            "    }\n",
                            "\n",
                            "    .dataframe tbody tr th {\n",
                            "        vertical-align: top;\n",
                            "    }\n",
                            "\n",
                            "    .dataframe thead th {\n",
                            "        text-align: right;\n",
                            "    }\n",
                            "</style>\n",
                            "<table border=\"1\" class=\"dataframe\">\n",
                            "  <thead>\n",
                            "    <tr style=\"text-align: right;\">\n",
                            "      <th></th>\n",
                            "      <th></th>\n",
                            "      <th>sex</th>\n",
                            "      <th>age</th>\n",
                            "      <th>height</th>\n",
                            "      <th>weight</th>\n",
                            "      <th>year</th>\n",
                            "      <th>medal bin</th>\n",
                            "    </tr>\n",
                            "    <tr>\n",
                            "      <th>team</th>\n",
                            "      <th>medal num</th>\n",
                            "      <th></th>\n",
                            "      <th></th>\n",
                            "      <th></th>\n",
                            "      <th></th>\n",
                            "      <th></th>\n",
                            "      <th></th>\n",
                            "    </tr>\n",
                            "  </thead>\n",
                            "  <tbody>\n",
                            "    <tr>\n",
                            "      <th>USA</th>\n",
                            "      <th>3</th>\n",
                            "      <td>684.0</td>\n",
                            "      <td>43054.0</td>\n",
                            "      <td>330419.0</td>\n",
                            "      <td>137994.5</td>\n",
                            "      <td>3600910.0</td>\n",
                            "      <td>1818</td>\n",
                            "    </tr>\n",
                            "    <tr>\n",
                            "      <th>RUS</th>\n",
                            "      <th>3</th>\n",
                            "      <td>403.0</td>\n",
                            "      <td>23822.0</td>\n",
                            "      <td>170588.0</td>\n",
                            "      <td>71391.0</td>\n",
                            "      <td>1911544.0</td>\n",
                            "      <td>963</td>\n",
                            "    </tr>\n",
                            "    <tr>\n",
                            "      <th>USA</th>\n",
                            "      <th>2</th>\n",
                            "      <td>362.0</td>\n",
                            "      <td>22057.0</td>\n",
                            "      <td>162922.0</td>\n",
                            "      <td>67397.0</td>\n",
                            "      <td>1802068.0</td>\n",
                            "      <td>909</td>\n",
                            "    </tr>\n",
                            "    <tr>\n",
                            "      <th>RUS</th>\n",
                            "      <th>1</th>\n",
                            "      <td>291.0</td>\n",
                            "      <td>21393.0</td>\n",
                            "      <td>152928.0</td>\n",
                            "      <td>64455.0</td>\n",
                            "      <td>1694476.0</td>\n",
                            "      <td>853</td>\n",
                            "    </tr>\n",
                            "    <tr>\n",
                            "      <th>GER</th>\n",
                            "      <th>1</th>\n",
                            "      <td>309.0</td>\n",
                            "      <td>20225.0</td>\n",
                            "      <td>145744.0</td>\n",
                            "      <td>60043.0</td>\n",
                            "      <td>1620434.0</td>\n",
                            "      <td>816</td>\n",
                            "    </tr>\n",
                            "    <tr>\n",
                            "      <th>RUS</th>\n",
                            "      <th>2</th>\n",
                            "      <td>281.0</td>\n",
                            "      <td>19196.0</td>\n",
                            "      <td>137964.0</td>\n",
                            "      <td>57628.5</td>\n",
                            "      <td>1537764.0</td>\n",
                            "      <td>775</td>\n",
                            "    </tr>\n",
                            "    <tr>\n",
                            "      <th>GER</th>\n",
                            "      <th>3</th>\n",
                            "      <td>299.0</td>\n",
                            "      <td>19333.0</td>\n",
                            "      <td>135280.0</td>\n",
                            "      <td>56710.0</td>\n",
                            "      <td>1492608.0</td>\n",
                            "      <td>751</td>\n",
                            "    </tr>\n",
                            "    <tr>\n",
                            "      <th>USA</th>\n",
                            "      <th>1</th>\n",
                            "      <td>304.0</td>\n",
                            "      <td>18273.0</td>\n",
                            "      <td>130680.0</td>\n",
                            "      <td>54132.5</td>\n",
                            "      <td>1449246.0</td>\n",
                            "      <td>730</td>\n",
                            "    </tr>\n",
                            "    <tr>\n",
                            "      <th>GER</th>\n",
                            "      <th>2</th>\n",
                            "      <td>294.0</td>\n",
                            "      <td>17713.0</td>\n",
                            "      <td>128392.0</td>\n",
                            "      <td>52790.0</td>\n",
                            "      <td>1426068.0</td>\n",
                            "      <td>719</td>\n",
                            "    </tr>\n",
                            "    <tr>\n",
                            "      <th>AUS</th>\n",
                            "      <th>1</th>\n",
                            "      <td>130.0</td>\n",
                            "      <td>9939.0</td>\n",
                            "      <td>71758.0</td>\n",
                            "      <td>30191.0</td>\n",
                            "      <td>793908.0</td>\n",
                            "      <td>398</td>\n",
                            "    </tr>\n",
                            "  </tbody>\n",
                            "</table>\n",
                            "</div>"
                        ]
                    },
                    "metadata": {},
                    "execution_count": 10
                }
            ],
            "metadata": {}
        },
        {
            "cell_type": "code",
            "execution_count": 11,
            "source": [
                "pd.options.plotting.backend = \"plotly\"\r\n",
                "import plotly.express as px\r\n",
                "\r\n",
                "\r\n",
                "best = ['USA', 'RUS','GER','AUS','GBR','CHN','FRA','ITA','JPN','HUN']\r\n",
                "bronze = []\r\n",
                "silver = []\r\n",
                "gold = []\r\n",
                "\r\n",
                "for b in best:\r\n",
                "    for i in range(1,4):\r\n",
                "        relevant = df_groups[df_groups.index == (b, i)]\r\n",
                "        medal_res = relevant['medal bin'].values[0]\r\n",
                "        if i==1:\r\n",
                "            bronze.append(medal_res)\r\n",
                "        if i==2:\r\n",
                "            silver.append(medal_res)\r\n",
                "        if i==3:\r\n",
                "            gold.append(medal_res)\r\n",
                "\r\n",
                "\r\n",
                "df_dict = pd.DataFrame({'bronze':bronze, 'silver':silver, 'gold':gold}, index=best)\r\n",
                "fig2 = px.bar(df_dict, color_discrete_sequence=[\"chocolate\", \"silver\", \"gold\"], title=\"The 10th Countries with the Most Number of Medals Over the Years:\")\r\n",
                "fig2.show(\"png\")\r\n",
                "  "
            ],
            "outputs": [
                {
                    "output_type": "display_data",
                    "data": {
                        "application/vnd.plotly.v1+json": {
                            "config": {
                                "plotlyServerURL": "https://plot.ly"
                            },
                            "data": [
                                {
                                    "alignmentgroup": "True",
                                    "hovertemplate": "variable=bronze<br>index=%{x}<br>value=%{y}<extra></extra>",
                                    "legendgroup": "bronze",
                                    "marker": {
                                        "color": "chocolate",
                                        "pattern": {
                                            "shape": ""
                                        }
                                    },
                                    "name": "bronze",
                                    "offsetgroup": "bronze",
                                    "orientation": "v",
                                    "showlegend": true,
                                    "textposition": "auto",
                                    "type": "bar",
                                    "x": [
                                        "USA",
                                        "RUS",
                                        "GER",
                                        "AUS",
                                        "GBR",
                                        "CHN",
                                        "FRA",
                                        "ITA",
                                        "JPN",
                                        "HUN"
                                    ],
                                    "xaxis": "x",
                                    "y": [
                                        730,
                                        853,
                                        816,
                                        398,
                                        297,
                                        245,
                                        263,
                                        252,
                                        247,
                                        210
                                    ],
                                    "yaxis": "y"
                                },
                                {
                                    "alignmentgroup": "True",
                                    "hovertemplate": "variable=silver<br>index=%{x}<br>value=%{y}<extra></extra>",
                                    "legendgroup": "silver",
                                    "marker": {
                                        "color": "silver",
                                        "pattern": {
                                            "shape": ""
                                        }
                                    },
                                    "name": "silver",
                                    "offsetgroup": "silver",
                                    "orientation": "v",
                                    "showlegend": true,
                                    "textposition": "auto",
                                    "type": "bar",
                                    "x": [
                                        "USA",
                                        "RUS",
                                        "GER",
                                        "AUS",
                                        "GBR",
                                        "CHN",
                                        "FRA",
                                        "ITA",
                                        "JPN",
                                        "HUN"
                                    ],
                                    "xaxis": "x",
                                    "y": [
                                        909,
                                        775,
                                        719,
                                        352,
                                        314,
                                        279,
                                        228,
                                        241,
                                        207,
                                        184
                                    ],
                                    "yaxis": "y"
                                },
                                {
                                    "alignmentgroup": "True",
                                    "hovertemplate": "variable=gold<br>index=%{x}<br>value=%{y}<extra></extra>",
                                    "legendgroup": "gold",
                                    "marker": {
                                        "color": "gold",
                                        "pattern": {
                                            "shape": ""
                                        }
                                    },
                                    "name": "gold",
                                    "offsetgroup": "gold",
                                    "orientation": "v",
                                    "showlegend": true,
                                    "textposition": "auto",
                                    "type": "bar",
                                    "x": [
                                        "USA",
                                        "RUS",
                                        "GER",
                                        "AUS",
                                        "GBR",
                                        "CHN",
                                        "FRA",
                                        "ITA",
                                        "JPN",
                                        "HUN"
                                    ],
                                    "xaxis": "x",
                                    "y": [
                                        1818,
                                        963,
                                        751,
                                        290,
                                        260,
                                        306,
                                        223,
                                        189,
                                        179,
                                        231
                                    ],
                                    "yaxis": "y"
                                }
                            ],
                            "layout": {
                                "barmode": "relative",
                                "legend": {
                                    "title": {
                                        "text": "variable"
                                    },
                                    "tracegroupgap": 0
                                },
                                "template": {
                                    "data": {
                                        "bar": [
                                            {
                                                "error_x": {
                                                    "color": "#2a3f5f"
                                                },
                                                "error_y": {
                                                    "color": "#2a3f5f"
                                                },
                                                "marker": {
                                                    "line": {
                                                        "color": "#E5ECF6",
                                                        "width": 0.5
                                                    },
                                                    "pattern": {
                                                        "fillmode": "overlay",
                                                        "size": 10,
                                                        "solidity": 0.2
                                                    }
                                                },
                                                "type": "bar"
                                            }
                                        ],
                                        "barpolar": [
                                            {
                                                "marker": {
                                                    "line": {
                                                        "color": "#E5ECF6",
                                                        "width": 0.5
                                                    },
                                                    "pattern": {
                                                        "fillmode": "overlay",
                                                        "size": 10,
                                                        "solidity": 0.2
                                                    }
                                                },
                                                "type": "barpolar"
                                            }
                                        ],
                                        "carpet": [
                                            {
                                                "aaxis": {
                                                    "endlinecolor": "#2a3f5f",
                                                    "gridcolor": "white",
                                                    "linecolor": "white",
                                                    "minorgridcolor": "white",
                                                    "startlinecolor": "#2a3f5f"
                                                },
                                                "baxis": {
                                                    "endlinecolor": "#2a3f5f",
                                                    "gridcolor": "white",
                                                    "linecolor": "white",
                                                    "minorgridcolor": "white",
                                                    "startlinecolor": "#2a3f5f"
                                                },
                                                "type": "carpet"
                                            }
                                        ],
                                        "choropleth": [
                                            {
                                                "colorbar": {
                                                    "outlinewidth": 0,
                                                    "ticks": ""
                                                },
                                                "type": "choropleth"
                                            }
                                        ],
                                        "contour": [
                                            {
                                                "colorbar": {
                                                    "outlinewidth": 0,
                                                    "ticks": ""
                                                },
                                                "colorscale": [
                                                    [
                                                        0,
                                                        "#0d0887"
                                                    ],
                                                    [
                                                        0.1111111111111111,
                                                        "#46039f"
                                                    ],
                                                    [
                                                        0.2222222222222222,
                                                        "#7201a8"
                                                    ],
                                                    [
                                                        0.3333333333333333,
                                                        "#9c179e"
                                                    ],
                                                    [
                                                        0.4444444444444444,
                                                        "#bd3786"
                                                    ],
                                                    [
                                                        0.5555555555555556,
                                                        "#d8576b"
                                                    ],
                                                    [
                                                        0.6666666666666666,
                                                        "#ed7953"
                                                    ],
                                                    [
                                                        0.7777777777777778,
                                                        "#fb9f3a"
                                                    ],
                                                    [
                                                        0.8888888888888888,
                                                        "#fdca26"
                                                    ],
                                                    [
                                                        1,
                                                        "#f0f921"
                                                    ]
                                                ],
                                                "type": "contour"
                                            }
                                        ],
                                        "contourcarpet": [
                                            {
                                                "colorbar": {
                                                    "outlinewidth": 0,
                                                    "ticks": ""
                                                },
                                                "type": "contourcarpet"
                                            }
                                        ],
                                        "heatmap": [
                                            {
                                                "colorbar": {
                                                    "outlinewidth": 0,
                                                    "ticks": ""
                                                },
                                                "colorscale": [
                                                    [
                                                        0,
                                                        "#0d0887"
                                                    ],
                                                    [
                                                        0.1111111111111111,
                                                        "#46039f"
                                                    ],
                                                    [
                                                        0.2222222222222222,
                                                        "#7201a8"
                                                    ],
                                                    [
                                                        0.3333333333333333,
                                                        "#9c179e"
                                                    ],
                                                    [
                                                        0.4444444444444444,
                                                        "#bd3786"
                                                    ],
                                                    [
                                                        0.5555555555555556,
                                                        "#d8576b"
                                                    ],
                                                    [
                                                        0.6666666666666666,
                                                        "#ed7953"
                                                    ],
                                                    [
                                                        0.7777777777777778,
                                                        "#fb9f3a"
                                                    ],
                                                    [
                                                        0.8888888888888888,
                                                        "#fdca26"
                                                    ],
                                                    [
                                                        1,
                                                        "#f0f921"
                                                    ]
                                                ],
                                                "type": "heatmap"
                                            }
                                        ],
                                        "heatmapgl": [
                                            {
                                                "colorbar": {
                                                    "outlinewidth": 0,
                                                    "ticks": ""
                                                },
                                                "colorscale": [
                                                    [
                                                        0,
                                                        "#0d0887"
                                                    ],
                                                    [
                                                        0.1111111111111111,
                                                        "#46039f"
                                                    ],
                                                    [
                                                        0.2222222222222222,
                                                        "#7201a8"
                                                    ],
                                                    [
                                                        0.3333333333333333,
                                                        "#9c179e"
                                                    ],
                                                    [
                                                        0.4444444444444444,
                                                        "#bd3786"
                                                    ],
                                                    [
                                                        0.5555555555555556,
                                                        "#d8576b"
                                                    ],
                                                    [
                                                        0.6666666666666666,
                                                        "#ed7953"
                                                    ],
                                                    [
                                                        0.7777777777777778,
                                                        "#fb9f3a"
                                                    ],
                                                    [
                                                        0.8888888888888888,
                                                        "#fdca26"
                                                    ],
                                                    [
                                                        1,
                                                        "#f0f921"
                                                    ]
                                                ],
                                                "type": "heatmapgl"
                                            }
                                        ],
                                        "histogram": [
                                            {
                                                "marker": {
                                                    "pattern": {
                                                        "fillmode": "overlay",
                                                        "size": 10,
                                                        "solidity": 0.2
                                                    }
                                                },
                                                "type": "histogram"
                                            }
                                        ],
                                        "histogram2d": [
                                            {
                                                "colorbar": {
                                                    "outlinewidth": 0,
                                                    "ticks": ""
                                                },
                                                "colorscale": [
                                                    [
                                                        0,
                                                        "#0d0887"
                                                    ],
                                                    [
                                                        0.1111111111111111,
                                                        "#46039f"
                                                    ],
                                                    [
                                                        0.2222222222222222,
                                                        "#7201a8"
                                                    ],
                                                    [
                                                        0.3333333333333333,
                                                        "#9c179e"
                                                    ],
                                                    [
                                                        0.4444444444444444,
                                                        "#bd3786"
                                                    ],
                                                    [
                                                        0.5555555555555556,
                                                        "#d8576b"
                                                    ],
                                                    [
                                                        0.6666666666666666,
                                                        "#ed7953"
                                                    ],
                                                    [
                                                        0.7777777777777778,
                                                        "#fb9f3a"
                                                    ],
                                                    [
                                                        0.8888888888888888,
                                                        "#fdca26"
                                                    ],
                                                    [
                                                        1,
                                                        "#f0f921"
                                                    ]
                                                ],
                                                "type": "histogram2d"
                                            }
                                        ],
                                        "histogram2dcontour": [
                                            {
                                                "colorbar": {
                                                    "outlinewidth": 0,
                                                    "ticks": ""
                                                },
                                                "colorscale": [
                                                    [
                                                        0,
                                                        "#0d0887"
                                                    ],
                                                    [
                                                        0.1111111111111111,
                                                        "#46039f"
                                                    ],
                                                    [
                                                        0.2222222222222222,
                                                        "#7201a8"
                                                    ],
                                                    [
                                                        0.3333333333333333,
                                                        "#9c179e"
                                                    ],
                                                    [
                                                        0.4444444444444444,
                                                        "#bd3786"
                                                    ],
                                                    [
                                                        0.5555555555555556,
                                                        "#d8576b"
                                                    ],
                                                    [
                                                        0.6666666666666666,
                                                        "#ed7953"
                                                    ],
                                                    [
                                                        0.7777777777777778,
                                                        "#fb9f3a"
                                                    ],
                                                    [
                                                        0.8888888888888888,
                                                        "#fdca26"
                                                    ],
                                                    [
                                                        1,
                                                        "#f0f921"
                                                    ]
                                                ],
                                                "type": "histogram2dcontour"
                                            }
                                        ],
                                        "mesh3d": [
                                            {
                                                "colorbar": {
                                                    "outlinewidth": 0,
                                                    "ticks": ""
                                                },
                                                "type": "mesh3d"
                                            }
                                        ],
                                        "parcoords": [
                                            {
                                                "line": {
                                                    "colorbar": {
                                                        "outlinewidth": 0,
                                                        "ticks": ""
                                                    }
                                                },
                                                "type": "parcoords"
                                            }
                                        ],
                                        "pie": [
                                            {
                                                "automargin": true,
                                                "type": "pie"
                                            }
                                        ],
                                        "scatter": [
                                            {
                                                "marker": {
                                                    "colorbar": {
                                                        "outlinewidth": 0,
                                                        "ticks": ""
                                                    }
                                                },
                                                "type": "scatter"
                                            }
                                        ],
                                        "scatter3d": [
                                            {
                                                "line": {
                                                    "colorbar": {
                                                        "outlinewidth": 0,
                                                        "ticks": ""
                                                    }
                                                },
                                                "marker": {
                                                    "colorbar": {
                                                        "outlinewidth": 0,
                                                        "ticks": ""
                                                    }
                                                },
                                                "type": "scatter3d"
                                            }
                                        ],
                                        "scattercarpet": [
                                            {
                                                "marker": {
                                                    "colorbar": {
                                                        "outlinewidth": 0,
                                                        "ticks": ""
                                                    }
                                                },
                                                "type": "scattercarpet"
                                            }
                                        ],
                                        "scattergeo": [
                                            {
                                                "marker": {
                                                    "colorbar": {
                                                        "outlinewidth": 0,
                                                        "ticks": ""
                                                    }
                                                },
                                                "type": "scattergeo"
                                            }
                                        ],
                                        "scattergl": [
                                            {
                                                "marker": {
                                                    "colorbar": {
                                                        "outlinewidth": 0,
                                                        "ticks": ""
                                                    }
                                                },
                                                "type": "scattergl"
                                            }
                                        ],
                                        "scattermapbox": [
                                            {
                                                "marker": {
                                                    "colorbar": {
                                                        "outlinewidth": 0,
                                                        "ticks": ""
                                                    }
                                                },
                                                "type": "scattermapbox"
                                            }
                                        ],
                                        "scatterpolar": [
                                            {
                                                "marker": {
                                                    "colorbar": {
                                                        "outlinewidth": 0,
                                                        "ticks": ""
                                                    }
                                                },
                                                "type": "scatterpolar"
                                            }
                                        ],
                                        "scatterpolargl": [
                                            {
                                                "marker": {
                                                    "colorbar": {
                                                        "outlinewidth": 0,
                                                        "ticks": ""
                                                    }
                                                },
                                                "type": "scatterpolargl"
                                            }
                                        ],
                                        "scatterternary": [
                                            {
                                                "marker": {
                                                    "colorbar": {
                                                        "outlinewidth": 0,
                                                        "ticks": ""
                                                    }
                                                },
                                                "type": "scatterternary"
                                            }
                                        ],
                                        "surface": [
                                            {
                                                "colorbar": {
                                                    "outlinewidth": 0,
                                                    "ticks": ""
                                                },
                                                "colorscale": [
                                                    [
                                                        0,
                                                        "#0d0887"
                                                    ],
                                                    [
                                                        0.1111111111111111,
                                                        "#46039f"
                                                    ],
                                                    [
                                                        0.2222222222222222,
                                                        "#7201a8"
                                                    ],
                                                    [
                                                        0.3333333333333333,
                                                        "#9c179e"
                                                    ],
                                                    [
                                                        0.4444444444444444,
                                                        "#bd3786"
                                                    ],
                                                    [
                                                        0.5555555555555556,
                                                        "#d8576b"
                                                    ],
                                                    [
                                                        0.6666666666666666,
                                                        "#ed7953"
                                                    ],
                                                    [
                                                        0.7777777777777778,
                                                        "#fb9f3a"
                                                    ],
                                                    [
                                                        0.8888888888888888,
                                                        "#fdca26"
                                                    ],
                                                    [
                                                        1,
                                                        "#f0f921"
                                                    ]
                                                ],
                                                "type": "surface"
                                            }
                                        ],
                                        "table": [
                                            {
                                                "cells": {
                                                    "fill": {
                                                        "color": "#EBF0F8"
                                                    },
                                                    "line": {
                                                        "color": "white"
                                                    }
                                                },
                                                "header": {
                                                    "fill": {
                                                        "color": "#C8D4E3"
                                                    },
                                                    "line": {
                                                        "color": "white"
                                                    }
                                                },
                                                "type": "table"
                                            }
                                        ]
                                    },
                                    "layout": {
                                        "annotationdefaults": {
                                            "arrowcolor": "#2a3f5f",
                                            "arrowhead": 0,
                                            "arrowwidth": 1
                                        },
                                        "autotypenumbers": "strict",
                                        "coloraxis": {
                                            "colorbar": {
                                                "outlinewidth": 0,
                                                "ticks": ""
                                            }
                                        },
                                        "colorscale": {
                                            "diverging": [
                                                [
                                                    0,
                                                    "#8e0152"
                                                ],
                                                [
                                                    0.1,
                                                    "#c51b7d"
                                                ],
                                                [
                                                    0.2,
                                                    "#de77ae"
                                                ],
                                                [
                                                    0.3,
                                                    "#f1b6da"
                                                ],
                                                [
                                                    0.4,
                                                    "#fde0ef"
                                                ],
                                                [
                                                    0.5,
                                                    "#f7f7f7"
                                                ],
                                                [
                                                    0.6,
                                                    "#e6f5d0"
                                                ],
                                                [
                                                    0.7,
                                                    "#b8e186"
                                                ],
                                                [
                                                    0.8,
                                                    "#7fbc41"
                                                ],
                                                [
                                                    0.9,
                                                    "#4d9221"
                                                ],
                                                [
                                                    1,
                                                    "#276419"
                                                ]
                                            ],
                                            "sequential": [
                                                [
                                                    0,
                                                    "#0d0887"
                                                ],
                                                [
                                                    0.1111111111111111,
                                                    "#46039f"
                                                ],
                                                [
                                                    0.2222222222222222,
                                                    "#7201a8"
                                                ],
                                                [
                                                    0.3333333333333333,
                                                    "#9c179e"
                                                ],
                                                [
                                                    0.4444444444444444,
                                                    "#bd3786"
                                                ],
                                                [
                                                    0.5555555555555556,
                                                    "#d8576b"
                                                ],
                                                [
                                                    0.6666666666666666,
                                                    "#ed7953"
                                                ],
                                                [
                                                    0.7777777777777778,
                                                    "#fb9f3a"
                                                ],
                                                [
                                                    0.8888888888888888,
                                                    "#fdca26"
                                                ],
                                                [
                                                    1,
                                                    "#f0f921"
                                                ]
                                            ],
                                            "sequentialminus": [
                                                [
                                                    0,
                                                    "#0d0887"
                                                ],
                                                [
                                                    0.1111111111111111,
                                                    "#46039f"
                                                ],
                                                [
                                                    0.2222222222222222,
                                                    "#7201a8"
                                                ],
                                                [
                                                    0.3333333333333333,
                                                    "#9c179e"
                                                ],
                                                [
                                                    0.4444444444444444,
                                                    "#bd3786"
                                                ],
                                                [
                                                    0.5555555555555556,
                                                    "#d8576b"
                                                ],
                                                [
                                                    0.6666666666666666,
                                                    "#ed7953"
                                                ],
                                                [
                                                    0.7777777777777778,
                                                    "#fb9f3a"
                                                ],
                                                [
                                                    0.8888888888888888,
                                                    "#fdca26"
                                                ],
                                                [
                                                    1,
                                                    "#f0f921"
                                                ]
                                            ]
                                        },
                                        "colorway": [
                                            "#636efa",
                                            "#EF553B",
                                            "#00cc96",
                                            "#ab63fa",
                                            "#FFA15A",
                                            "#19d3f3",
                                            "#FF6692",
                                            "#B6E880",
                                            "#FF97FF",
                                            "#FECB52"
                                        ],
                                        "font": {
                                            "color": "#2a3f5f"
                                        },
                                        "geo": {
                                            "bgcolor": "white",
                                            "lakecolor": "white",
                                            "landcolor": "#E5ECF6",
                                            "showlakes": true,
                                            "showland": true,
                                            "subunitcolor": "white"
                                        },
                                        "hoverlabel": {
                                            "align": "left"
                                        },
                                        "hovermode": "closest",
                                        "mapbox": {
                                            "style": "light"
                                        },
                                        "paper_bgcolor": "white",
                                        "plot_bgcolor": "#E5ECF6",
                                        "polar": {
                                            "angularaxis": {
                                                "gridcolor": "white",
                                                "linecolor": "white",
                                                "ticks": ""
                                            },
                                            "bgcolor": "#E5ECF6",
                                            "radialaxis": {
                                                "gridcolor": "white",
                                                "linecolor": "white",
                                                "ticks": ""
                                            }
                                        },
                                        "scene": {
                                            "xaxis": {
                                                "backgroundcolor": "#E5ECF6",
                                                "gridcolor": "white",
                                                "gridwidth": 2,
                                                "linecolor": "white",
                                                "showbackground": true,
                                                "ticks": "",
                                                "zerolinecolor": "white"
                                            },
                                            "yaxis": {
                                                "backgroundcolor": "#E5ECF6",
                                                "gridcolor": "white",
                                                "gridwidth": 2,
                                                "linecolor": "white",
                                                "showbackground": true,
                                                "ticks": "",
                                                "zerolinecolor": "white"
                                            },
                                            "zaxis": {
                                                "backgroundcolor": "#E5ECF6",
                                                "gridcolor": "white",
                                                "gridwidth": 2,
                                                "linecolor": "white",
                                                "showbackground": true,
                                                "ticks": "",
                                                "zerolinecolor": "white"
                                            }
                                        },
                                        "shapedefaults": {
                                            "line": {
                                                "color": "#2a3f5f"
                                            }
                                        },
                                        "ternary": {
                                            "aaxis": {
                                                "gridcolor": "white",
                                                "linecolor": "white",
                                                "ticks": ""
                                            },
                                            "baxis": {
                                                "gridcolor": "white",
                                                "linecolor": "white",
                                                "ticks": ""
                                            },
                                            "bgcolor": "#E5ECF6",
                                            "caxis": {
                                                "gridcolor": "white",
                                                "linecolor": "white",
                                                "ticks": ""
                                            }
                                        },
                                        "title": {
                                            "x": 0.05
                                        },
                                        "xaxis": {
                                            "automargin": true,
                                            "gridcolor": "white",
                                            "linecolor": "white",
                                            "ticks": "",
                                            "title": {
                                                "standoff": 15
                                            },
                                            "zerolinecolor": "white",
                                            "zerolinewidth": 2
                                        },
                                        "yaxis": {
                                            "automargin": true,
                                            "gridcolor": "white",
                                            "linecolor": "white",
                                            "ticks": "",
                                            "title": {
                                                "standoff": 15
                                            },
                                            "zerolinecolor": "white",
                                            "zerolinewidth": 2
                                        }
                                    }
                                },
                                "title": {
                                    "text": "The 10th Countries with the Most Number of Medals Over the Years:"
                                },
                                "xaxis": {
                                    "anchor": "y",
                                    "domain": [
                                        0,
                                        1
                                    ],
                                    "title": {
                                        "text": "index"
                                    }
                                },
                                "yaxis": {
                                    "anchor": "x",
                                    "domain": [
                                        0,
                                        1
                                    ],
                                    "title": {
                                        "text": "value"
                                    }
                                }
                            }
                        }
                    },
                    "metadata": {}
                }
            ],
            "metadata": {}
        },
        {
            "cell_type": "markdown",
            "source": [
                "In the graph above, you can see the top ten countries in the number of medals they have won over the years, according to the distribution of the types of medals."
            ],
            "metadata": {}
        },
        {
            "cell_type": "code",
            "execution_count": 12,
            "source": [
                "pd.options.plotting.backend = \"matplotlib\"\r\n"
            ],
            "outputs": [],
            "metadata": {}
        },
        {
            "cell_type": "code",
            "execution_count": 16,
            "source": [
                "from sklearn.model_selection import train_test_split"
            ],
            "outputs": [],
            "metadata": {}
        },
        {
            "cell_type": "code",
            "execution_count": 17,
            "source": [
                "train_data = df.drop(columns = [\"medal\",\"medal num\", \"medal bin\"])\r\n",
                "train_data = pd.get_dummies(train_data)\r\n",
                "y_num = df[\"medal num\"]\r\n",
                "y_bin = df[\"medal bin\"]\r\n",
                "\r\n",
                "#numeric split:\r\n",
                "x_train, x_test, y_train, y_test = train_test_split(train_data, y_num, test_size=0.20, random_state=16)\r\n",
                "x_test, x_val, y_test, y_val = train_test_split(x_test, y_test, test_size=0.5, random_state=16) \r\n",
                "\r\n",
                "#binar\r\n",
                "x_train_bin, x_test_bin, y_train_bin, y_test_bin = train_test_split(train_data, y_bin, test_size=0.20, random_state=16)\r\n",
                "x_test_bin, x_val_bin, y_test_bin, y_val_bin = train_test_split(x_test_bin, y_test_bin, test_size=0.5, random_state=16) "
            ],
            "outputs": [],
            "metadata": {}
        },
        {
            "cell_type": "markdown",
            "source": [
                "# <span style=\"color: skyblue;\">Decision Tree</span>"
            ],
            "metadata": {}
        },
        {
            "cell_type": "code",
            "execution_count": 18,
            "source": [
                "from sklearn.tree import DecisionTreeClassifier\r\n",
                "\r\n",
                "depths = np.array(range(1,45))\r\n",
                "train_set_accuracy = np.zeros ( depths.shape )\r\n",
                "val_set_accuracy = np.zeros ( depths.shape )\r\n",
                "number_of_leaves = np.zeros ( depths.shape )\r\n",
                "\r\n",
                "for i, current_depth in enumerate(depths):\r\n",
                "    decision_tree =  DecisionTreeClassifier(max_depth=current_depth)\r\n",
                "    decision_tree.fit(x_train,y_train)\r\n",
                "\r\n",
                " \r\n",
                "    train_set_accuracy[i]  = decision_tree.score(x_train,y_train)\r\n",
                "    val_set_accuracy[i]  = decision_tree.score(x_val,y_val) \r\n",
                "    number_of_leaves[i] = decision_tree.tree_.node_count"
            ],
            "outputs": [],
            "metadata": {}
        },
        {
            "cell_type": "code",
            "execution_count": 19,
            "source": [
                "import matplotlib.pyplot as plt\r\n",
                "plt.figure( figsize=(12,6))\r\n",
                "\r\n",
                "plt.subplot(121)\r\n",
                "plt.plot(depths,train_set_accuracy,'r',label = 'Train')\r\n",
                "plt.plot(depths,val_set_accuracy,'b',label = 'Validate')\r\n",
                "plt.xlabel('Tree depth'); plt.ylabel('Accuracy');\r\n",
                "plt.legend()\r\n",
                "\r\n",
                "plt.show()"
            ],
            "outputs": [
                {
                    "output_type": "display_data",
                    "data": {
                        "text/plain": [
                            "<Figure size 864x432 with 1 Axes>"
                        ],
                        "image/svg+xml": "<?xml version=\"1.0\" encoding=\"utf-8\" standalone=\"no\"?>\r\n<!DOCTYPE svg PUBLIC \"-//W3C//DTD SVG 1.1//EN\"\r\n  \"http://www.w3.org/Graphics/SVG/1.1/DTD/svg11.dtd\">\r\n<svg height=\"370.91625pt\" version=\"1.1\" viewBox=\"0 0 361.707386 370.91625\" width=\"361.707386pt\" xmlns=\"http://www.w3.org/2000/svg\" xmlns:xlink=\"http://www.w3.org/1999/xlink\">\r\n <metadata>\r\n  <rdf:RDF xmlns:cc=\"http://creativecommons.org/ns#\" xmlns:dc=\"http://purl.org/dc/elements/1.1/\" xmlns:rdf=\"http://www.w3.org/1999/02/22-rdf-syntax-ns#\">\r\n   <cc:Work>\r\n    <dc:type rdf:resource=\"http://purl.org/dc/dcmitype/StillImage\"/>\r\n    <dc:date>2021-09-09T18:25:04.079203</dc:date>\r\n    <dc:format>image/svg+xml</dc:format>\r\n    <dc:creator>\r\n     <cc:Agent>\r\n      <dc:title>Matplotlib v3.4.2, https://matplotlib.org/</dc:title>\r\n     </cc:Agent>\r\n    </dc:creator>\r\n   </cc:Work>\r\n  </rdf:RDF>\r\n </metadata>\r\n <defs>\r\n  <style type=\"text/css\">*{stroke-linecap:butt;stroke-linejoin:round;}</style>\r\n </defs>\r\n <g id=\"figure_1\">\r\n  <g id=\"patch_1\">\r\n   <path d=\"M 0 370.91625 \r\nL 361.707386 370.91625 \r\nL 361.707386 0 \r\nL 0 0 \r\nz\r\n\" style=\"fill:none;\"/>\r\n  </g>\r\n  <g id=\"axes_1\">\r\n   <g id=\"patch_2\">\r\n    <path d=\"M 50.14375 333.36 \r\nL 354.507386 333.36 \r\nL 354.507386 7.2 \r\nL 50.14375 7.2 \r\nz\r\n\" style=\"fill:#ffffff;\"/>\r\n   </g>\r\n   <g id=\"matplotlib.axis_1\">\r\n    <g id=\"xtick_1\">\r\n     <g id=\"line2d_1\">\r\n      <defs>\r\n       <path d=\"M 0 0 \r\nL 0 3.5 \r\n\" id=\"me9637899bc\" style=\"stroke:#000000;stroke-width:0.8;\"/>\r\n      </defs>\r\n      <g>\r\n       <use style=\"stroke:#000000;stroke-width:0.8;\" x=\"57.543712\" xlink:href=\"#me9637899bc\" y=\"333.36\"/>\r\n      </g>\r\n     </g>\r\n     <g id=\"text_1\">\r\n      <!-- 0 -->\r\n      <g transform=\"translate(54.362462 347.958438)scale(0.1 -0.1)\">\r\n       <defs>\r\n        <path d=\"M 2034 4250 \r\nQ 1547 4250 1301 3770 \r\nQ 1056 3291 1056 2328 \r\nQ 1056 1369 1301 889 \r\nQ 1547 409 2034 409 \r\nQ 2525 409 2770 889 \r\nQ 3016 1369 3016 2328 \r\nQ 3016 3291 2770 3770 \r\nQ 2525 4250 2034 4250 \r\nz\r\nM 2034 4750 \r\nQ 2819 4750 3233 4129 \r\nQ 3647 3509 3647 2328 \r\nQ 3647 1150 3233 529 \r\nQ 2819 -91 2034 -91 \r\nQ 1250 -91 836 529 \r\nQ 422 1150 422 2328 \r\nQ 422 3509 836 4129 \r\nQ 1250 4750 2034 4750 \r\nz\r\n\" id=\"DejaVuSans-30\" transform=\"scale(0.015625)\"/>\r\n       </defs>\r\n       <use xlink:href=\"#DejaVuSans-30\"/>\r\n      </g>\r\n     </g>\r\n    </g>\r\n    <g id=\"xtick_2\">\r\n     <g id=\"line2d_2\">\r\n      <g>\r\n       <use style=\"stroke:#000000;stroke-width:0.8;\" x=\"121.891203\" xlink:href=\"#me9637899bc\" y=\"333.36\"/>\r\n      </g>\r\n     </g>\r\n     <g id=\"text_2\">\r\n      <!-- 10 -->\r\n      <g transform=\"translate(115.528703 347.958438)scale(0.1 -0.1)\">\r\n       <defs>\r\n        <path d=\"M 794 531 \r\nL 1825 531 \r\nL 1825 4091 \r\nL 703 3866 \r\nL 703 4441 \r\nL 1819 4666 \r\nL 2450 4666 \r\nL 2450 531 \r\nL 3481 531 \r\nL 3481 0 \r\nL 794 0 \r\nL 794 531 \r\nz\r\n\" id=\"DejaVuSans-31\" transform=\"scale(0.015625)\"/>\r\n       </defs>\r\n       <use xlink:href=\"#DejaVuSans-31\"/>\r\n       <use x=\"63.623047\" xlink:href=\"#DejaVuSans-30\"/>\r\n      </g>\r\n     </g>\r\n    </g>\r\n    <g id=\"xtick_3\">\r\n     <g id=\"line2d_3\">\r\n      <g>\r\n       <use style=\"stroke:#000000;stroke-width:0.8;\" x=\"186.238695\" xlink:href=\"#me9637899bc\" y=\"333.36\"/>\r\n      </g>\r\n     </g>\r\n     <g id=\"text_3\">\r\n      <!-- 20 -->\r\n      <g transform=\"translate(179.876195 347.958438)scale(0.1 -0.1)\">\r\n       <defs>\r\n        <path d=\"M 1228 531 \r\nL 3431 531 \r\nL 3431 0 \r\nL 469 0 \r\nL 469 531 \r\nQ 828 903 1448 1529 \r\nQ 2069 2156 2228 2338 \r\nQ 2531 2678 2651 2914 \r\nQ 2772 3150 2772 3378 \r\nQ 2772 3750 2511 3984 \r\nQ 2250 4219 1831 4219 \r\nQ 1534 4219 1204 4116 \r\nQ 875 4013 500 3803 \r\nL 500 4441 \r\nQ 881 4594 1212 4672 \r\nQ 1544 4750 1819 4750 \r\nQ 2544 4750 2975 4387 \r\nQ 3406 4025 3406 3419 \r\nQ 3406 3131 3298 2873 \r\nQ 3191 2616 2906 2266 \r\nQ 2828 2175 2409 1742 \r\nQ 1991 1309 1228 531 \r\nz\r\n\" id=\"DejaVuSans-32\" transform=\"scale(0.015625)\"/>\r\n       </defs>\r\n       <use xlink:href=\"#DejaVuSans-32\"/>\r\n       <use x=\"63.623047\" xlink:href=\"#DejaVuSans-30\"/>\r\n      </g>\r\n     </g>\r\n    </g>\r\n    <g id=\"xtick_4\">\r\n     <g id=\"line2d_4\">\r\n      <g>\r\n       <use style=\"stroke:#000000;stroke-width:0.8;\" x=\"250.586187\" xlink:href=\"#me9637899bc\" y=\"333.36\"/>\r\n      </g>\r\n     </g>\r\n     <g id=\"text_4\">\r\n      <!-- 30 -->\r\n      <g transform=\"translate(244.223687 347.958438)scale(0.1 -0.1)\">\r\n       <defs>\r\n        <path d=\"M 2597 2516 \r\nQ 3050 2419 3304 2112 \r\nQ 3559 1806 3559 1356 \r\nQ 3559 666 3084 287 \r\nQ 2609 -91 1734 -91 \r\nQ 1441 -91 1130 -33 \r\nQ 819 25 488 141 \r\nL 488 750 \r\nQ 750 597 1062 519 \r\nQ 1375 441 1716 441 \r\nQ 2309 441 2620 675 \r\nQ 2931 909 2931 1356 \r\nQ 2931 1769 2642 2001 \r\nQ 2353 2234 1838 2234 \r\nL 1294 2234 \r\nL 1294 2753 \r\nL 1863 2753 \r\nQ 2328 2753 2575 2939 \r\nQ 2822 3125 2822 3475 \r\nQ 2822 3834 2567 4026 \r\nQ 2313 4219 1838 4219 \r\nQ 1578 4219 1281 4162 \r\nQ 984 4106 628 3988 \r\nL 628 4550 \r\nQ 988 4650 1302 4700 \r\nQ 1616 4750 1894 4750 \r\nQ 2613 4750 3031 4423 \r\nQ 3450 4097 3450 3541 \r\nQ 3450 3153 3228 2886 \r\nQ 3006 2619 2597 2516 \r\nz\r\n\" id=\"DejaVuSans-33\" transform=\"scale(0.015625)\"/>\r\n       </defs>\r\n       <use xlink:href=\"#DejaVuSans-33\"/>\r\n       <use x=\"63.623047\" xlink:href=\"#DejaVuSans-30\"/>\r\n      </g>\r\n     </g>\r\n    </g>\r\n    <g id=\"xtick_5\">\r\n     <g id=\"line2d_5\">\r\n      <g>\r\n       <use style=\"stroke:#000000;stroke-width:0.8;\" x=\"314.933679\" xlink:href=\"#me9637899bc\" y=\"333.36\"/>\r\n      </g>\r\n     </g>\r\n     <g id=\"text_5\">\r\n      <!-- 40 -->\r\n      <g transform=\"translate(308.571179 347.958438)scale(0.1 -0.1)\">\r\n       <defs>\r\n        <path d=\"M 2419 4116 \r\nL 825 1625 \r\nL 2419 1625 \r\nL 2419 4116 \r\nz\r\nM 2253 4666 \r\nL 3047 4666 \r\nL 3047 1625 \r\nL 3713 1625 \r\nL 3713 1100 \r\nL 3047 1100 \r\nL 3047 0 \r\nL 2419 0 \r\nL 2419 1100 \r\nL 313 1100 \r\nL 313 1709 \r\nL 2253 4666 \r\nz\r\n\" id=\"DejaVuSans-34\" transform=\"scale(0.015625)\"/>\r\n       </defs>\r\n       <use xlink:href=\"#DejaVuSans-34\"/>\r\n       <use x=\"63.623047\" xlink:href=\"#DejaVuSans-30\"/>\r\n      </g>\r\n     </g>\r\n    </g>\r\n    <g id=\"text_6\">\r\n     <!-- Tree depth -->\r\n     <g transform=\"translate(175.770099 361.636562)scale(0.1 -0.1)\">\r\n      <defs>\r\n       <path d=\"M -19 4666 \r\nL 3928 4666 \r\nL 3928 4134 \r\nL 2272 4134 \r\nL 2272 0 \r\nL 1638 0 \r\nL 1638 4134 \r\nL -19 4134 \r\nL -19 4666 \r\nz\r\n\" id=\"DejaVuSans-54\" transform=\"scale(0.015625)\"/>\r\n       <path d=\"M 2631 2963 \r\nQ 2534 3019 2420 3045 \r\nQ 2306 3072 2169 3072 \r\nQ 1681 3072 1420 2755 \r\nQ 1159 2438 1159 1844 \r\nL 1159 0 \r\nL 581 0 \r\nL 581 3500 \r\nL 1159 3500 \r\nL 1159 2956 \r\nQ 1341 3275 1631 3429 \r\nQ 1922 3584 2338 3584 \r\nQ 2397 3584 2469 3576 \r\nQ 2541 3569 2628 3553 \r\nL 2631 2963 \r\nz\r\n\" id=\"DejaVuSans-72\" transform=\"scale(0.015625)\"/>\r\n       <path d=\"M 3597 1894 \r\nL 3597 1613 \r\nL 953 1613 \r\nQ 991 1019 1311 708 \r\nQ 1631 397 2203 397 \r\nQ 2534 397 2845 478 \r\nQ 3156 559 3463 722 \r\nL 3463 178 \r\nQ 3153 47 2828 -22 \r\nQ 2503 -91 2169 -91 \r\nQ 1331 -91 842 396 \r\nQ 353 884 353 1716 \r\nQ 353 2575 817 3079 \r\nQ 1281 3584 2069 3584 \r\nQ 2775 3584 3186 3129 \r\nQ 3597 2675 3597 1894 \r\nz\r\nM 3022 2063 \r\nQ 3016 2534 2758 2815 \r\nQ 2500 3097 2075 3097 \r\nQ 1594 3097 1305 2825 \r\nQ 1016 2553 972 2059 \r\nL 3022 2063 \r\nz\r\n\" id=\"DejaVuSans-65\" transform=\"scale(0.015625)\"/>\r\n       <path id=\"DejaVuSans-20\" transform=\"scale(0.015625)\"/>\r\n       <path d=\"M 2906 2969 \r\nL 2906 4863 \r\nL 3481 4863 \r\nL 3481 0 \r\nL 2906 0 \r\nL 2906 525 \r\nQ 2725 213 2448 61 \r\nQ 2172 -91 1784 -91 \r\nQ 1150 -91 751 415 \r\nQ 353 922 353 1747 \r\nQ 353 2572 751 3078 \r\nQ 1150 3584 1784 3584 \r\nQ 2172 3584 2448 3432 \r\nQ 2725 3281 2906 2969 \r\nz\r\nM 947 1747 \r\nQ 947 1113 1208 752 \r\nQ 1469 391 1925 391 \r\nQ 2381 391 2643 752 \r\nQ 2906 1113 2906 1747 \r\nQ 2906 2381 2643 2742 \r\nQ 2381 3103 1925 3103 \r\nQ 1469 3103 1208 2742 \r\nQ 947 2381 947 1747 \r\nz\r\n\" id=\"DejaVuSans-64\" transform=\"scale(0.015625)\"/>\r\n       <path d=\"M 1159 525 \r\nL 1159 -1331 \r\nL 581 -1331 \r\nL 581 3500 \r\nL 1159 3500 \r\nL 1159 2969 \r\nQ 1341 3281 1617 3432 \r\nQ 1894 3584 2278 3584 \r\nQ 2916 3584 3314 3078 \r\nQ 3713 2572 3713 1747 \r\nQ 3713 922 3314 415 \r\nQ 2916 -91 2278 -91 \r\nQ 1894 -91 1617 61 \r\nQ 1341 213 1159 525 \r\nz\r\nM 3116 1747 \r\nQ 3116 2381 2855 2742 \r\nQ 2594 3103 2138 3103 \r\nQ 1681 3103 1420 2742 \r\nQ 1159 2381 1159 1747 \r\nQ 1159 1113 1420 752 \r\nQ 1681 391 2138 391 \r\nQ 2594 391 2855 752 \r\nQ 3116 1113 3116 1747 \r\nz\r\n\" id=\"DejaVuSans-70\" transform=\"scale(0.015625)\"/>\r\n       <path d=\"M 1172 4494 \r\nL 1172 3500 \r\nL 2356 3500 \r\nL 2356 3053 \r\nL 1172 3053 \r\nL 1172 1153 \r\nQ 1172 725 1289 603 \r\nQ 1406 481 1766 481 \r\nL 2356 481 \r\nL 2356 0 \r\nL 1766 0 \r\nQ 1100 0 847 248 \r\nQ 594 497 594 1153 \r\nL 594 3053 \r\nL 172 3053 \r\nL 172 3500 \r\nL 594 3500 \r\nL 594 4494 \r\nL 1172 4494 \r\nz\r\n\" id=\"DejaVuSans-74\" transform=\"scale(0.015625)\"/>\r\n       <path d=\"M 3513 2113 \r\nL 3513 0 \r\nL 2938 0 \r\nL 2938 2094 \r\nQ 2938 2591 2744 2837 \r\nQ 2550 3084 2163 3084 \r\nQ 1697 3084 1428 2787 \r\nQ 1159 2491 1159 1978 \r\nL 1159 0 \r\nL 581 0 \r\nL 581 4863 \r\nL 1159 4863 \r\nL 1159 2956 \r\nQ 1366 3272 1645 3428 \r\nQ 1925 3584 2291 3584 \r\nQ 2894 3584 3203 3211 \r\nQ 3513 2838 3513 2113 \r\nz\r\n\" id=\"DejaVuSans-68\" transform=\"scale(0.015625)\"/>\r\n      </defs>\r\n      <use xlink:href=\"#DejaVuSans-54\"/>\r\n      <use x=\"46.333984\" xlink:href=\"#DejaVuSans-72\"/>\r\n      <use x=\"85.197266\" xlink:href=\"#DejaVuSans-65\"/>\r\n      <use x=\"146.720703\" xlink:href=\"#DejaVuSans-65\"/>\r\n      <use x=\"208.244141\" xlink:href=\"#DejaVuSans-20\"/>\r\n      <use x=\"240.03125\" xlink:href=\"#DejaVuSans-64\"/>\r\n      <use x=\"303.507812\" xlink:href=\"#DejaVuSans-65\"/>\r\n      <use x=\"365.03125\" xlink:href=\"#DejaVuSans-70\"/>\r\n      <use x=\"428.507812\" xlink:href=\"#DejaVuSans-74\"/>\r\n      <use x=\"467.716797\" xlink:href=\"#DejaVuSans-68\"/>\r\n     </g>\r\n    </g>\r\n   </g>\r\n   <g id=\"matplotlib.axis_2\">\r\n    <g id=\"ytick_1\">\r\n     <g id=\"line2d_6\">\r\n      <defs>\r\n       <path d=\"M 0 0 \r\nL -3.5 0 \r\n\" id=\"mb104f3874b\" style=\"stroke:#000000;stroke-width:0.8;\"/>\r\n      </defs>\r\n      <g>\r\n       <use style=\"stroke:#000000;stroke-width:0.8;\" x=\"50.14375\" xlink:href=\"#mb104f3874b\" y=\"300.859513\"/>\r\n      </g>\r\n     </g>\r\n     <g id=\"text_7\">\r\n      <!-- 0.86 -->\r\n      <g transform=\"translate(20.878125 304.658732)scale(0.1 -0.1)\">\r\n       <defs>\r\n        <path d=\"M 684 794 \r\nL 1344 794 \r\nL 1344 0 \r\nL 684 0 \r\nL 684 794 \r\nz\r\n\" id=\"DejaVuSans-2e\" transform=\"scale(0.015625)\"/>\r\n        <path d=\"M 2034 2216 \r\nQ 1584 2216 1326 1975 \r\nQ 1069 1734 1069 1313 \r\nQ 1069 891 1326 650 \r\nQ 1584 409 2034 409 \r\nQ 2484 409 2743 651 \r\nQ 3003 894 3003 1313 \r\nQ 3003 1734 2745 1975 \r\nQ 2488 2216 2034 2216 \r\nz\r\nM 1403 2484 \r\nQ 997 2584 770 2862 \r\nQ 544 3141 544 3541 \r\nQ 544 4100 942 4425 \r\nQ 1341 4750 2034 4750 \r\nQ 2731 4750 3128 4425 \r\nQ 3525 4100 3525 3541 \r\nQ 3525 3141 3298 2862 \r\nQ 3072 2584 2669 2484 \r\nQ 3125 2378 3379 2068 \r\nQ 3634 1759 3634 1313 \r\nQ 3634 634 3220 271 \r\nQ 2806 -91 2034 -91 \r\nQ 1263 -91 848 271 \r\nQ 434 634 434 1313 \r\nQ 434 1759 690 2068 \r\nQ 947 2378 1403 2484 \r\nz\r\nM 1172 3481 \r\nQ 1172 3119 1398 2916 \r\nQ 1625 2713 2034 2713 \r\nQ 2441 2713 2670 2916 \r\nQ 2900 3119 2900 3481 \r\nQ 2900 3844 2670 4047 \r\nQ 2441 4250 2034 4250 \r\nQ 1625 4250 1398 4047 \r\nQ 1172 3844 1172 3481 \r\nz\r\n\" id=\"DejaVuSans-38\" transform=\"scale(0.015625)\"/>\r\n        <path d=\"M 2113 2584 \r\nQ 1688 2584 1439 2293 \r\nQ 1191 2003 1191 1497 \r\nQ 1191 994 1439 701 \r\nQ 1688 409 2113 409 \r\nQ 2538 409 2786 701 \r\nQ 3034 994 3034 1497 \r\nQ 3034 2003 2786 2293 \r\nQ 2538 2584 2113 2584 \r\nz\r\nM 3366 4563 \r\nL 3366 3988 \r\nQ 3128 4100 2886 4159 \r\nQ 2644 4219 2406 4219 \r\nQ 1781 4219 1451 3797 \r\nQ 1122 3375 1075 2522 \r\nQ 1259 2794 1537 2939 \r\nQ 1816 3084 2150 3084 \r\nQ 2853 3084 3261 2657 \r\nQ 3669 2231 3669 1497 \r\nQ 3669 778 3244 343 \r\nQ 2819 -91 2113 -91 \r\nQ 1303 -91 875 529 \r\nQ 447 1150 447 2328 \r\nQ 447 3434 972 4092 \r\nQ 1497 4750 2381 4750 \r\nQ 2619 4750 2861 4703 \r\nQ 3103 4656 3366 4563 \r\nz\r\n\" id=\"DejaVuSans-36\" transform=\"scale(0.015625)\"/>\r\n       </defs>\r\n       <use xlink:href=\"#DejaVuSans-30\"/>\r\n       <use x=\"63.623047\" xlink:href=\"#DejaVuSans-2e\"/>\r\n       <use x=\"95.410156\" xlink:href=\"#DejaVuSans-38\"/>\r\n       <use x=\"159.033203\" xlink:href=\"#DejaVuSans-36\"/>\r\n      </g>\r\n     </g>\r\n    </g>\r\n    <g id=\"ytick_2\">\r\n     <g id=\"line2d_7\">\r\n      <g>\r\n       <use style=\"stroke:#000000;stroke-width:0.8;\" x=\"50.14375\" xlink:href=\"#mb104f3874b\" y=\"254.361349\"/>\r\n      </g>\r\n     </g>\r\n     <g id=\"text_8\">\r\n      <!-- 0.88 -->\r\n      <g transform=\"translate(20.878125 258.160568)scale(0.1 -0.1)\">\r\n       <use xlink:href=\"#DejaVuSans-30\"/>\r\n       <use x=\"63.623047\" xlink:href=\"#DejaVuSans-2e\"/>\r\n       <use x=\"95.410156\" xlink:href=\"#DejaVuSans-38\"/>\r\n       <use x=\"159.033203\" xlink:href=\"#DejaVuSans-38\"/>\r\n      </g>\r\n     </g>\r\n    </g>\r\n    <g id=\"ytick_3\">\r\n     <g id=\"line2d_8\">\r\n      <g>\r\n       <use style=\"stroke:#000000;stroke-width:0.8;\" x=\"50.14375\" xlink:href=\"#mb104f3874b\" y=\"207.863185\"/>\r\n      </g>\r\n     </g>\r\n     <g id=\"text_9\">\r\n      <!-- 0.90 -->\r\n      <g transform=\"translate(20.878125 211.662404)scale(0.1 -0.1)\">\r\n       <defs>\r\n        <path d=\"M 703 97 \r\nL 703 672 \r\nQ 941 559 1184 500 \r\nQ 1428 441 1663 441 \r\nQ 2288 441 2617 861 \r\nQ 2947 1281 2994 2138 \r\nQ 2813 1869 2534 1725 \r\nQ 2256 1581 1919 1581 \r\nQ 1219 1581 811 2004 \r\nQ 403 2428 403 3163 \r\nQ 403 3881 828 4315 \r\nQ 1253 4750 1959 4750 \r\nQ 2769 4750 3195 4129 \r\nQ 3622 3509 3622 2328 \r\nQ 3622 1225 3098 567 \r\nQ 2575 -91 1691 -91 \r\nQ 1453 -91 1209 -44 \r\nQ 966 3 703 97 \r\nz\r\nM 1959 2075 \r\nQ 2384 2075 2632 2365 \r\nQ 2881 2656 2881 3163 \r\nQ 2881 3666 2632 3958 \r\nQ 2384 4250 1959 4250 \r\nQ 1534 4250 1286 3958 \r\nQ 1038 3666 1038 3163 \r\nQ 1038 2656 1286 2365 \r\nQ 1534 2075 1959 2075 \r\nz\r\n\" id=\"DejaVuSans-39\" transform=\"scale(0.015625)\"/>\r\n       </defs>\r\n       <use xlink:href=\"#DejaVuSans-30\"/>\r\n       <use x=\"63.623047\" xlink:href=\"#DejaVuSans-2e\"/>\r\n       <use x=\"95.410156\" xlink:href=\"#DejaVuSans-39\"/>\r\n       <use x=\"159.033203\" xlink:href=\"#DejaVuSans-30\"/>\r\n      </g>\r\n     </g>\r\n    </g>\r\n    <g id=\"ytick_4\">\r\n     <g id=\"line2d_9\">\r\n      <g>\r\n       <use style=\"stroke:#000000;stroke-width:0.8;\" x=\"50.14375\" xlink:href=\"#mb104f3874b\" y=\"161.365021\"/>\r\n      </g>\r\n     </g>\r\n     <g id=\"text_10\">\r\n      <!-- 0.92 -->\r\n      <g transform=\"translate(20.878125 165.164239)scale(0.1 -0.1)\">\r\n       <use xlink:href=\"#DejaVuSans-30\"/>\r\n       <use x=\"63.623047\" xlink:href=\"#DejaVuSans-2e\"/>\r\n       <use x=\"95.410156\" xlink:href=\"#DejaVuSans-39\"/>\r\n       <use x=\"159.033203\" xlink:href=\"#DejaVuSans-32\"/>\r\n      </g>\r\n     </g>\r\n    </g>\r\n    <g id=\"ytick_5\">\r\n     <g id=\"line2d_10\">\r\n      <g>\r\n       <use style=\"stroke:#000000;stroke-width:0.8;\" x=\"50.14375\" xlink:href=\"#mb104f3874b\" y=\"114.866857\"/>\r\n      </g>\r\n     </g>\r\n     <g id=\"text_11\">\r\n      <!-- 0.94 -->\r\n      <g transform=\"translate(20.878125 118.666075)scale(0.1 -0.1)\">\r\n       <use xlink:href=\"#DejaVuSans-30\"/>\r\n       <use x=\"63.623047\" xlink:href=\"#DejaVuSans-2e\"/>\r\n       <use x=\"95.410156\" xlink:href=\"#DejaVuSans-39\"/>\r\n       <use x=\"159.033203\" xlink:href=\"#DejaVuSans-34\"/>\r\n      </g>\r\n     </g>\r\n    </g>\r\n    <g id=\"ytick_6\">\r\n     <g id=\"line2d_11\">\r\n      <g>\r\n       <use style=\"stroke:#000000;stroke-width:0.8;\" x=\"50.14375\" xlink:href=\"#mb104f3874b\" y=\"68.368692\"/>\r\n      </g>\r\n     </g>\r\n     <g id=\"text_12\">\r\n      <!-- 0.96 -->\r\n      <g transform=\"translate(20.878125 72.167911)scale(0.1 -0.1)\">\r\n       <use xlink:href=\"#DejaVuSans-30\"/>\r\n       <use x=\"63.623047\" xlink:href=\"#DejaVuSans-2e\"/>\r\n       <use x=\"95.410156\" xlink:href=\"#DejaVuSans-39\"/>\r\n       <use x=\"159.033203\" xlink:href=\"#DejaVuSans-36\"/>\r\n      </g>\r\n     </g>\r\n    </g>\r\n    <g id=\"ytick_7\">\r\n     <g id=\"line2d_12\">\r\n      <g>\r\n       <use style=\"stroke:#000000;stroke-width:0.8;\" x=\"50.14375\" xlink:href=\"#mb104f3874b\" y=\"21.870528\"/>\r\n      </g>\r\n     </g>\r\n     <g id=\"text_13\">\r\n      <!-- 0.98 -->\r\n      <g transform=\"translate(20.878125 25.669747)scale(0.1 -0.1)\">\r\n       <use xlink:href=\"#DejaVuSans-30\"/>\r\n       <use x=\"63.623047\" xlink:href=\"#DejaVuSans-2e\"/>\r\n       <use x=\"95.410156\" xlink:href=\"#DejaVuSans-39\"/>\r\n       <use x=\"159.033203\" xlink:href=\"#DejaVuSans-38\"/>\r\n      </g>\r\n     </g>\r\n    </g>\r\n    <g id=\"text_14\">\r\n     <!-- Accuracy -->\r\n     <g transform=\"translate(14.798438 193.108125)rotate(-90)scale(0.1 -0.1)\">\r\n      <defs>\r\n       <path d=\"M 2188 4044 \r\nL 1331 1722 \r\nL 3047 1722 \r\nL 2188 4044 \r\nz\r\nM 1831 4666 \r\nL 2547 4666 \r\nL 4325 0 \r\nL 3669 0 \r\nL 3244 1197 \r\nL 1141 1197 \r\nL 716 0 \r\nL 50 0 \r\nL 1831 4666 \r\nz\r\n\" id=\"DejaVuSans-41\" transform=\"scale(0.015625)\"/>\r\n       <path d=\"M 3122 3366 \r\nL 3122 2828 \r\nQ 2878 2963 2633 3030 \r\nQ 2388 3097 2138 3097 \r\nQ 1578 3097 1268 2742 \r\nQ 959 2388 959 1747 \r\nQ 959 1106 1268 751 \r\nQ 1578 397 2138 397 \r\nQ 2388 397 2633 464 \r\nQ 2878 531 3122 666 \r\nL 3122 134 \r\nQ 2881 22 2623 -34 \r\nQ 2366 -91 2075 -91 \r\nQ 1284 -91 818 406 \r\nQ 353 903 353 1747 \r\nQ 353 2603 823 3093 \r\nQ 1294 3584 2113 3584 \r\nQ 2378 3584 2631 3529 \r\nQ 2884 3475 3122 3366 \r\nz\r\n\" id=\"DejaVuSans-63\" transform=\"scale(0.015625)\"/>\r\n       <path d=\"M 544 1381 \r\nL 544 3500 \r\nL 1119 3500 \r\nL 1119 1403 \r\nQ 1119 906 1312 657 \r\nQ 1506 409 1894 409 \r\nQ 2359 409 2629 706 \r\nQ 2900 1003 2900 1516 \r\nL 2900 3500 \r\nL 3475 3500 \r\nL 3475 0 \r\nL 2900 0 \r\nL 2900 538 \r\nQ 2691 219 2414 64 \r\nQ 2138 -91 1772 -91 \r\nQ 1169 -91 856 284 \r\nQ 544 659 544 1381 \r\nz\r\nM 1991 3584 \r\nL 1991 3584 \r\nz\r\n\" id=\"DejaVuSans-75\" transform=\"scale(0.015625)\"/>\r\n       <path d=\"M 2194 1759 \r\nQ 1497 1759 1228 1600 \r\nQ 959 1441 959 1056 \r\nQ 959 750 1161 570 \r\nQ 1363 391 1709 391 \r\nQ 2188 391 2477 730 \r\nQ 2766 1069 2766 1631 \r\nL 2766 1759 \r\nL 2194 1759 \r\nz\r\nM 3341 1997 \r\nL 3341 0 \r\nL 2766 0 \r\nL 2766 531 \r\nQ 2569 213 2275 61 \r\nQ 1981 -91 1556 -91 \r\nQ 1019 -91 701 211 \r\nQ 384 513 384 1019 \r\nQ 384 1609 779 1909 \r\nQ 1175 2209 1959 2209 \r\nL 2766 2209 \r\nL 2766 2266 \r\nQ 2766 2663 2505 2880 \r\nQ 2244 3097 1772 3097 \r\nQ 1472 3097 1187 3025 \r\nQ 903 2953 641 2809 \r\nL 641 3341 \r\nQ 956 3463 1253 3523 \r\nQ 1550 3584 1831 3584 \r\nQ 2591 3584 2966 3190 \r\nQ 3341 2797 3341 1997 \r\nz\r\n\" id=\"DejaVuSans-61\" transform=\"scale(0.015625)\"/>\r\n       <path d=\"M 2059 -325 \r\nQ 1816 -950 1584 -1140 \r\nQ 1353 -1331 966 -1331 \r\nL 506 -1331 \r\nL 506 -850 \r\nL 844 -850 \r\nQ 1081 -850 1212 -737 \r\nQ 1344 -625 1503 -206 \r\nL 1606 56 \r\nL 191 3500 \r\nL 800 3500 \r\nL 1894 763 \r\nL 2988 3500 \r\nL 3597 3500 \r\nL 2059 -325 \r\nz\r\n\" id=\"DejaVuSans-79\" transform=\"scale(0.015625)\"/>\r\n      </defs>\r\n      <use xlink:href=\"#DejaVuSans-41\"/>\r\n      <use x=\"66.658203\" xlink:href=\"#DejaVuSans-63\"/>\r\n      <use x=\"121.638672\" xlink:href=\"#DejaVuSans-63\"/>\r\n      <use x=\"176.619141\" xlink:href=\"#DejaVuSans-75\"/>\r\n      <use x=\"239.998047\" xlink:href=\"#DejaVuSans-72\"/>\r\n      <use x=\"281.111328\" xlink:href=\"#DejaVuSans-61\"/>\r\n      <use x=\"342.390625\" xlink:href=\"#DejaVuSans-63\"/>\r\n      <use x=\"397.371094\" xlink:href=\"#DejaVuSans-79\"/>\r\n     </g>\r\n    </g>\r\n   </g>\r\n   <g id=\"line2d_13\">\r\n    <path clip-path=\"url(#p1ddb437e93)\" d=\"M 63.978461 317.436639 \r\nL 70.41321 313.076901 \r\nL 76.847959 310.527233 \r\nL 83.282708 306.926556 \r\nL 89.717457 303.306416 \r\nL 96.152207 297.603723 \r\nL 102.586956 292.699018 \r\nL 109.021705 287.366124 \r\nL 115.456454 280.106381 \r\nL 121.891203 272.554692 \r\nL 128.325953 264.146626 \r\nL 134.760702 254.531846 \r\nL 141.195451 244.372099 \r\nL 147.6302 232.830471 \r\nL 154.064949 221.172064 \r\nL 160.499698 210.700907 \r\nL 166.934448 198.964648 \r\nL 173.369197 188.746512 \r\nL 179.803946 176.329043 \r\nL 186.238695 165.371309 \r\nL 192.673444 155.464582 \r\nL 199.108194 145.188057 \r\nL 205.542943 135.787371 \r\nL 211.977692 127.710178 \r\nL 218.412441 120.080636 \r\nL 224.84719 112.217537 \r\nL 231.28194 105.05511 \r\nL 237.716689 98.009462 \r\nL 244.151438 91.216834 \r\nL 250.586187 83.840313 \r\nL 257.020936 77.436948 \r\nL 263.455685 71.461771 \r\nL 269.890435 66.498676 \r\nL 276.325184 60.912762 \r\nL 282.759933 55.988593 \r\nL 289.194682 51.259056 \r\nL 295.629431 46.373813 \r\nL 302.064181 41.91676 \r\nL 308.49893 37.615411 \r\nL 314.933679 33.722788 \r\nL 321.368428 30.725468 \r\nL 327.803177 27.981168 \r\nL 334.237926 25.12009 \r\nL 340.672676 22.025455 \r\n\" style=\"fill:none;stroke:#ff0000;stroke-linecap:square;stroke-width:1.5;\"/>\r\n   </g>\r\n   <g id=\"line2d_14\">\r\n    <path clip-path=\"url(#p1ddb437e93)\" d=\"M 63.978461 318.534545 \r\nL 70.41321 314.953452 \r\nL 76.847959 311.060959 \r\nL 83.282708 306.389967 \r\nL 89.717457 304.054472 \r\nL 96.152207 299.072081 \r\nL 102.586956 296.580885 \r\nL 109.021705 294.556789 \r\nL 115.456454 287.550301 \r\nL 121.891203 280.388114 \r\nL 128.325953 274.782924 \r\nL 134.760702 268.710635 \r\nL 141.195451 260.30285 \r\nL 147.6302 253.763462 \r\nL 154.064949 246.445575 \r\nL 160.499698 240.061887 \r\nL 166.934448 237.414992 \r\nL 173.369197 231.031303 \r\nL 179.803946 227.605909 \r\nL 186.238695 227.917309 \r\nL 192.673444 226.048912 \r\nL 199.108194 219.665224 \r\nL 205.542943 215.617031 \r\nL 211.977692 216.39553 \r\nL 218.412441 213.592935 \r\nL 224.84719 210.167541 \r\nL 231.28194 210.946039 \r\nL 237.716689 210.63464 \r\nL 244.151438 209.856141 \r\nL 250.586187 207.364946 \r\nL 257.020936 201.915456 \r\nL 263.455685 207.209246 \r\nL 269.890435 204.718051 \r\nL 276.325184 206.275048 \r\nL 282.759933 209.233342 \r\nL 289.194682 204.406651 \r\nL 295.629431 207.832045 \r\nL 302.064181 210.79034 \r\nL 308.49893 209.700442 \r\nL 314.933679 204.718051 \r\nL 321.368428 209.856141 \r\nL 327.803177 208.766243 \r\nL 334.237926 206.275048 \r\nL 340.672676 209.077643 \r\n\" style=\"fill:none;stroke:#0000ff;stroke-linecap:square;stroke-width:1.5;\"/>\r\n   </g>\r\n   <g id=\"patch_3\">\r\n    <path d=\"M 50.14375 333.36 \r\nL 50.14375 7.2 \r\n\" style=\"fill:none;stroke:#000000;stroke-linecap:square;stroke-linejoin:miter;stroke-width:0.8;\"/>\r\n   </g>\r\n   <g id=\"patch_4\">\r\n    <path d=\"M 354.507386 333.36 \r\nL 354.507386 7.2 \r\n\" style=\"fill:none;stroke:#000000;stroke-linecap:square;stroke-linejoin:miter;stroke-width:0.8;\"/>\r\n   </g>\r\n   <g id=\"patch_5\">\r\n    <path d=\"M 50.14375 333.36 \r\nL 354.507386 333.36 \r\n\" style=\"fill:none;stroke:#000000;stroke-linecap:square;stroke-linejoin:miter;stroke-width:0.8;\"/>\r\n   </g>\r\n   <g id=\"patch_6\">\r\n    <path d=\"M 50.14375 7.2 \r\nL 354.507386 7.2 \r\n\" style=\"fill:none;stroke:#000000;stroke-linecap:square;stroke-linejoin:miter;stroke-width:0.8;\"/>\r\n   </g>\r\n   <g id=\"legend_1\">\r\n    <g id=\"patch_7\">\r\n     <path d=\"M 57.14375 44.55625 \r\nL 129.44375 44.55625 \r\nQ 131.44375 44.55625 131.44375 42.55625 \r\nL 131.44375 14.2 \r\nQ 131.44375 12.2 129.44375 12.2 \r\nL 57.14375 12.2 \r\nQ 55.14375 12.2 55.14375 14.2 \r\nL 55.14375 42.55625 \r\nQ 55.14375 44.55625 57.14375 44.55625 \r\nz\r\n\" style=\"fill:#ffffff;opacity:0.8;stroke:#cccccc;stroke-linejoin:miter;\"/>\r\n    </g>\r\n    <g id=\"line2d_15\">\r\n     <path d=\"M 59.14375 20.298437 \r\nL 79.14375 20.298437 \r\n\" style=\"fill:none;stroke:#ff0000;stroke-linecap:square;stroke-width:1.5;\"/>\r\n    </g>\r\n    <g id=\"line2d_16\"/>\r\n    <g id=\"text_15\">\r\n     <!-- Train -->\r\n     <g transform=\"translate(87.14375 23.798437)scale(0.1 -0.1)\">\r\n      <defs>\r\n       <path d=\"M 603 3500 \r\nL 1178 3500 \r\nL 1178 0 \r\nL 603 0 \r\nL 603 3500 \r\nz\r\nM 603 4863 \r\nL 1178 4863 \r\nL 1178 4134 \r\nL 603 4134 \r\nL 603 4863 \r\nz\r\n\" id=\"DejaVuSans-69\" transform=\"scale(0.015625)\"/>\r\n       <path d=\"M 3513 2113 \r\nL 3513 0 \r\nL 2938 0 \r\nL 2938 2094 \r\nQ 2938 2591 2744 2837 \r\nQ 2550 3084 2163 3084 \r\nQ 1697 3084 1428 2787 \r\nQ 1159 2491 1159 1978 \r\nL 1159 0 \r\nL 581 0 \r\nL 581 3500 \r\nL 1159 3500 \r\nL 1159 2956 \r\nQ 1366 3272 1645 3428 \r\nQ 1925 3584 2291 3584 \r\nQ 2894 3584 3203 3211 \r\nQ 3513 2838 3513 2113 \r\nz\r\n\" id=\"DejaVuSans-6e\" transform=\"scale(0.015625)\"/>\r\n      </defs>\r\n      <use xlink:href=\"#DejaVuSans-54\"/>\r\n      <use x=\"46.333984\" xlink:href=\"#DejaVuSans-72\"/>\r\n      <use x=\"87.447266\" xlink:href=\"#DejaVuSans-61\"/>\r\n      <use x=\"148.726562\" xlink:href=\"#DejaVuSans-69\"/>\r\n      <use x=\"176.509766\" xlink:href=\"#DejaVuSans-6e\"/>\r\n     </g>\r\n    </g>\r\n    <g id=\"line2d_17\">\r\n     <path d=\"M 59.14375 34.976562 \r\nL 79.14375 34.976562 \r\n\" style=\"fill:none;stroke:#0000ff;stroke-linecap:square;stroke-width:1.5;\"/>\r\n    </g>\r\n    <g id=\"line2d_18\"/>\r\n    <g id=\"text_16\">\r\n     <!-- Validate -->\r\n     <g transform=\"translate(87.14375 38.476562)scale(0.1 -0.1)\">\r\n      <defs>\r\n       <path d=\"M 1831 0 \r\nL 50 4666 \r\nL 709 4666 \r\nL 2188 738 \r\nL 3669 4666 \r\nL 4325 4666 \r\nL 2547 0 \r\nL 1831 0 \r\nz\r\n\" id=\"DejaVuSans-56\" transform=\"scale(0.015625)\"/>\r\n       <path d=\"M 603 4863 \r\nL 1178 4863 \r\nL 1178 0 \r\nL 603 0 \r\nL 603 4863 \r\nz\r\n\" id=\"DejaVuSans-6c\" transform=\"scale(0.015625)\"/>\r\n      </defs>\r\n      <use xlink:href=\"#DejaVuSans-56\"/>\r\n      <use x=\"60.658203\" xlink:href=\"#DejaVuSans-61\"/>\r\n      <use x=\"121.9375\" xlink:href=\"#DejaVuSans-6c\"/>\r\n      <use x=\"149.720703\" xlink:href=\"#DejaVuSans-69\"/>\r\n      <use x=\"177.503906\" xlink:href=\"#DejaVuSans-64\"/>\r\n      <use x=\"240.980469\" xlink:href=\"#DejaVuSans-61\"/>\r\n      <use x=\"302.259766\" xlink:href=\"#DejaVuSans-74\"/>\r\n      <use x=\"341.46875\" xlink:href=\"#DejaVuSans-65\"/>\r\n     </g>\r\n    </g>\r\n   </g>\r\n  </g>\r\n </g>\r\n <defs>\r\n  <clipPath id=\"p1ddb437e93\">\r\n   <rect height=\"326.16\" width=\"304.363636\" x=\"50.14375\" y=\"7.2\"/>\r\n  </clipPath>\r\n </defs>\r\n</svg>\r\n",
                        "image/png": "[encoded data removed]"
                    },
                    "metadata": {
                        "needs_background": "light"
                    }
                }
            ],
            "metadata": {}
        },
        {
            "cell_type": "markdown",
            "source": [
                "by this graph, we can see that limiting the tree for depth of 40~ will be a good compromise to avoid overfit on the decision tree model. With deeper trees, the validation doesn't have a great improvement, so 40 will be the compromise between overfit and the precision on the validation data.\r\n",
                "\r\n"
            ],
            "metadata": {}
        },
        {
            "cell_type": "markdown",
            "source": [
                "\r\n",
                "#\r\n",
                "## the model:\r\n"
            ],
            "metadata": {}
        },
        {
            "cell_type": "code",
            "execution_count": 22,
            "source": [
                "from sklearn import tree\r\n",
                "\r\n",
                "X = x_train\r\n",
                "Y = y_train\r\n",
                "tree_model = tree.DecisionTreeClassifier(max_depth=40, criterion='gini')\r\n",
                "tree_model = tree_model.fit(X, Y)"
            ],
            "outputs": [],
            "metadata": {}
        },
        {
            "cell_type": "code",
            "execution_count": 23,
            "source": [
                "y_pred_tree_train = tree_model.predict(x_train)\r\n",
                "y_pred_tree_val = tree_model.predict(x_val)"
            ],
            "outputs": [],
            "metadata": {}
        },
        {
            "cell_type": "code",
            "execution_count": 24,
            "source": [
                "from sklearn.metrics import accuracy_score\r\n",
                "acc_train = accuracy_score(y_train,y_pred_tree_train)\r\n",
                "acc_val = accuracy_score(y_val,y_pred_tree_val)\r\n",
                "print(f\"Decision Tree:\\naccuracy score for train data: {acc_train :.2f} \\naccuracy score for validation data: {acc_val :.2f}\")"
            ],
            "outputs": [
                {
                    "output_type": "stream",
                    "name": "stdout",
                    "text": [
                        "Decision Tree:\n",
                        "accuracy score for train data: 0.97 \n",
                        "accuracy score for validation data: 0.90\n"
                    ]
                }
            ],
            "metadata": {}
        },
        {
            "cell_type": "code",
            "execution_count": 25,
            "source": [
                "\r\n",
                "from sklearn.metrics import classification_report\r\n",
                "target_names= ['None', 'Bronze', 'Silver', 'Gold']\r\n",
                "creport = classification_report(y_val, y_pred_tree_val, target_names=target_names)\r\n",
                "print(\"\\tDecision Tree : classification report\")\r\n",
                "print(creport)\r\n"
            ],
            "outputs": [
                {
                    "output_type": "stream",
                    "name": "stdout",
                    "text": [
                        "\tDecision Tree : classification report\n",
                        "              precision    recall  f1-score   support\n",
                        "\n",
                        "        None       0.94      0.96      0.95     12728\n",
                        "      Bronze       0.58      0.49      0.53       709\n",
                        "      Silver       0.63      0.52      0.57       726\n",
                        "        Gold       0.69      0.60      0.65       769\n",
                        "\n",
                        "    accuracy                           0.90     14932\n",
                        "   macro avg       0.71      0.64      0.67     14932\n",
                        "weighted avg       0.89      0.90      0.90     14932\n",
                        "\n"
                    ]
                }
            ],
            "metadata": {}
        },
        {
            "cell_type": "markdown",
            "source": [
                "\r\n",
                "by this model, it seems that the results are very interesting: there is a 69% that the prediction of having a gold medal is right, and 60% of the gold medalists are recognized. I tried to check the prediction also on a binary model (win any medal, or not).\r\n",
                "#\r\n",
                "## binary decision tree model:\r\n",
                "\r\n",
                "I will perform a similar process for the binary model, in order to check the optimal depth of the tree to prevent over-fit\r\n"
            ],
            "metadata": {}
        },
        {
            "cell_type": "code",
            "execution_count": 26,
            "source": [
                "depths = np.array(range(1,45))\r\n",
                "train_set_accuracy = np.zeros ( depths.shape )\r\n",
                "val_set_accuracy = np.zeros ( depths.shape )\r\n",
                "number_of_leaves = np.zeros ( depths.shape )\r\n",
                "\r\n",
                "for i, current_depth in enumerate(depths):\r\n",
                "    decision_tree =  DecisionTreeClassifier(max_depth=current_depth)\r\n",
                "    decision_tree.fit(x_train_bin,y_train_bin)\r\n",
                "\r\n",
                " \r\n",
                "    train_set_accuracy[i]  = decision_tree.score(x_train_bin,y_train_bin)\r\n",
                "    val_set_accuracy[i]  = decision_tree.score(x_val_bin,y_val_bin) \r\n",
                "    number_of_leaves[i] = decision_tree.tree_.node_count"
            ],
            "outputs": [],
            "metadata": {}
        },
        {
            "cell_type": "code",
            "execution_count": 27,
            "source": [
                "plt.figure( figsize=(12,6))\r\n",
                "\r\n",
                "plt.subplot(121)\r\n",
                "plt.plot(depths,train_set_accuracy,'r',label = 'Train')\r\n",
                "plt.plot(depths,val_set_accuracy,'b',label = 'Validate')\r\n",
                "plt.xlabel('Tree depth'); plt.ylabel('Accuracy');\r\n",
                "plt.legend()\r\n",
                "\r\n",
                "plt.show()"
            ],
            "outputs": [
                {
                    "output_type": "display_data",
                    "data": {
                        "text/plain": [
                            "<Figure size 864x432 with 1 Axes>"
                        ],
                        "image/svg+xml": "<?xml version=\"1.0\" encoding=\"utf-8\" standalone=\"no\"?>\r\n<!DOCTYPE svg PUBLIC \"-//W3C//DTD SVG 1.1//EN\"\r\n  \"http://www.w3.org/Graphics/SVG/1.1/DTD/svg11.dtd\">\r\n<svg height=\"370.91625pt\" version=\"1.1\" viewBox=\"0 0 361.707386 370.91625\" width=\"361.707386pt\" xmlns=\"http://www.w3.org/2000/svg\" xmlns:xlink=\"http://www.w3.org/1999/xlink\">\r\n <metadata>\r\n  <rdf:RDF xmlns:cc=\"http://creativecommons.org/ns#\" xmlns:dc=\"http://purl.org/dc/elements/1.1/\" xmlns:rdf=\"http://www.w3.org/1999/02/22-rdf-syntax-ns#\">\r\n   <cc:Work>\r\n    <dc:type rdf:resource=\"http://purl.org/dc/dcmitype/StillImage\"/>\r\n    <dc:date>2021-09-09T18:29:20.916466</dc:date>\r\n    <dc:format>image/svg+xml</dc:format>\r\n    <dc:creator>\r\n     <cc:Agent>\r\n      <dc:title>Matplotlib v3.4.2, https://matplotlib.org/</dc:title>\r\n     </cc:Agent>\r\n    </dc:creator>\r\n   </cc:Work>\r\n  </rdf:RDF>\r\n </metadata>\r\n <defs>\r\n  <style type=\"text/css\">*{stroke-linecap:butt;stroke-linejoin:round;}</style>\r\n </defs>\r\n <g id=\"figure_1\">\r\n  <g id=\"patch_1\">\r\n   <path d=\"M 0 370.91625 \r\nL 361.707386 370.91625 \r\nL 361.707386 0 \r\nL 0 0 \r\nz\r\n\" style=\"fill:none;\"/>\r\n  </g>\r\n  <g id=\"axes_1\">\r\n   <g id=\"patch_2\">\r\n    <path d=\"M 50.14375 333.36 \r\nL 354.507386 333.36 \r\nL 354.507386 7.2 \r\nL 50.14375 7.2 \r\nz\r\n\" style=\"fill:#ffffff;\"/>\r\n   </g>\r\n   <g id=\"matplotlib.axis_1\">\r\n    <g id=\"xtick_1\">\r\n     <g id=\"line2d_1\">\r\n      <defs>\r\n       <path d=\"M 0 0 \r\nL 0 3.5 \r\n\" id=\"md80f638238\" style=\"stroke:#000000;stroke-width:0.8;\"/>\r\n      </defs>\r\n      <g>\r\n       <use style=\"stroke:#000000;stroke-width:0.8;\" x=\"57.543712\" xlink:href=\"#md80f638238\" y=\"333.36\"/>\r\n      </g>\r\n     </g>\r\n     <g id=\"text_1\">\r\n      <!-- 0 -->\r\n      <g transform=\"translate(54.362462 347.958438)scale(0.1 -0.1)\">\r\n       <defs>\r\n        <path d=\"M 2034 4250 \r\nQ 1547 4250 1301 3770 \r\nQ 1056 3291 1056 2328 \r\nQ 1056 1369 1301 889 \r\nQ 1547 409 2034 409 \r\nQ 2525 409 2770 889 \r\nQ 3016 1369 3016 2328 \r\nQ 3016 3291 2770 3770 \r\nQ 2525 4250 2034 4250 \r\nz\r\nM 2034 4750 \r\nQ 2819 4750 3233 4129 \r\nQ 3647 3509 3647 2328 \r\nQ 3647 1150 3233 529 \r\nQ 2819 -91 2034 -91 \r\nQ 1250 -91 836 529 \r\nQ 422 1150 422 2328 \r\nQ 422 3509 836 4129 \r\nQ 1250 4750 2034 4750 \r\nz\r\n\" id=\"DejaVuSans-30\" transform=\"scale(0.015625)\"/>\r\n       </defs>\r\n       <use xlink:href=\"#DejaVuSans-30\"/>\r\n      </g>\r\n     </g>\r\n    </g>\r\n    <g id=\"xtick_2\">\r\n     <g id=\"line2d_2\">\r\n      <g>\r\n       <use style=\"stroke:#000000;stroke-width:0.8;\" x=\"121.891203\" xlink:href=\"#md80f638238\" y=\"333.36\"/>\r\n      </g>\r\n     </g>\r\n     <g id=\"text_2\">\r\n      <!-- 10 -->\r\n      <g transform=\"translate(115.528703 347.958438)scale(0.1 -0.1)\">\r\n       <defs>\r\n        <path d=\"M 794 531 \r\nL 1825 531 \r\nL 1825 4091 \r\nL 703 3866 \r\nL 703 4441 \r\nL 1819 4666 \r\nL 2450 4666 \r\nL 2450 531 \r\nL 3481 531 \r\nL 3481 0 \r\nL 794 0 \r\nL 794 531 \r\nz\r\n\" id=\"DejaVuSans-31\" transform=\"scale(0.015625)\"/>\r\n       </defs>\r\n       <use xlink:href=\"#DejaVuSans-31\"/>\r\n       <use x=\"63.623047\" xlink:href=\"#DejaVuSans-30\"/>\r\n      </g>\r\n     </g>\r\n    </g>\r\n    <g id=\"xtick_3\">\r\n     <g id=\"line2d_3\">\r\n      <g>\r\n       <use style=\"stroke:#000000;stroke-width:0.8;\" x=\"186.238695\" xlink:href=\"#md80f638238\" y=\"333.36\"/>\r\n      </g>\r\n     </g>\r\n     <g id=\"text_3\">\r\n      <!-- 20 -->\r\n      <g transform=\"translate(179.876195 347.958438)scale(0.1 -0.1)\">\r\n       <defs>\r\n        <path d=\"M 1228 531 \r\nL 3431 531 \r\nL 3431 0 \r\nL 469 0 \r\nL 469 531 \r\nQ 828 903 1448 1529 \r\nQ 2069 2156 2228 2338 \r\nQ 2531 2678 2651 2914 \r\nQ 2772 3150 2772 3378 \r\nQ 2772 3750 2511 3984 \r\nQ 2250 4219 1831 4219 \r\nQ 1534 4219 1204 4116 \r\nQ 875 4013 500 3803 \r\nL 500 4441 \r\nQ 881 4594 1212 4672 \r\nQ 1544 4750 1819 4750 \r\nQ 2544 4750 2975 4387 \r\nQ 3406 4025 3406 3419 \r\nQ 3406 3131 3298 2873 \r\nQ 3191 2616 2906 2266 \r\nQ 2828 2175 2409 1742 \r\nQ 1991 1309 1228 531 \r\nz\r\n\" id=\"DejaVuSans-32\" transform=\"scale(0.015625)\"/>\r\n       </defs>\r\n       <use xlink:href=\"#DejaVuSans-32\"/>\r\n       <use x=\"63.623047\" xlink:href=\"#DejaVuSans-30\"/>\r\n      </g>\r\n     </g>\r\n    </g>\r\n    <g id=\"xtick_4\">\r\n     <g id=\"line2d_4\">\r\n      <g>\r\n       <use style=\"stroke:#000000;stroke-width:0.8;\" x=\"250.586187\" xlink:href=\"#md80f638238\" y=\"333.36\"/>\r\n      </g>\r\n     </g>\r\n     <g id=\"text_4\">\r\n      <!-- 30 -->\r\n      <g transform=\"translate(244.223687 347.958438)scale(0.1 -0.1)\">\r\n       <defs>\r\n        <path d=\"M 2597 2516 \r\nQ 3050 2419 3304 2112 \r\nQ 3559 1806 3559 1356 \r\nQ 3559 666 3084 287 \r\nQ 2609 -91 1734 -91 \r\nQ 1441 -91 1130 -33 \r\nQ 819 25 488 141 \r\nL 488 750 \r\nQ 750 597 1062 519 \r\nQ 1375 441 1716 441 \r\nQ 2309 441 2620 675 \r\nQ 2931 909 2931 1356 \r\nQ 2931 1769 2642 2001 \r\nQ 2353 2234 1838 2234 \r\nL 1294 2234 \r\nL 1294 2753 \r\nL 1863 2753 \r\nQ 2328 2753 2575 2939 \r\nQ 2822 3125 2822 3475 \r\nQ 2822 3834 2567 4026 \r\nQ 2313 4219 1838 4219 \r\nQ 1578 4219 1281 4162 \r\nQ 984 4106 628 3988 \r\nL 628 4550 \r\nQ 988 4650 1302 4700 \r\nQ 1616 4750 1894 4750 \r\nQ 2613 4750 3031 4423 \r\nQ 3450 4097 3450 3541 \r\nQ 3450 3153 3228 2886 \r\nQ 3006 2619 2597 2516 \r\nz\r\n\" id=\"DejaVuSans-33\" transform=\"scale(0.015625)\"/>\r\n       </defs>\r\n       <use xlink:href=\"#DejaVuSans-33\"/>\r\n       <use x=\"63.623047\" xlink:href=\"#DejaVuSans-30\"/>\r\n      </g>\r\n     </g>\r\n    </g>\r\n    <g id=\"xtick_5\">\r\n     <g id=\"line2d_5\">\r\n      <g>\r\n       <use style=\"stroke:#000000;stroke-width:0.8;\" x=\"314.933679\" xlink:href=\"#md80f638238\" y=\"333.36\"/>\r\n      </g>\r\n     </g>\r\n     <g id=\"text_5\">\r\n      <!-- 40 -->\r\n      <g transform=\"translate(308.571179 347.958438)scale(0.1 -0.1)\">\r\n       <defs>\r\n        <path d=\"M 2419 4116 \r\nL 825 1625 \r\nL 2419 1625 \r\nL 2419 4116 \r\nz\r\nM 2253 4666 \r\nL 3047 4666 \r\nL 3047 1625 \r\nL 3713 1625 \r\nL 3713 1100 \r\nL 3047 1100 \r\nL 3047 0 \r\nL 2419 0 \r\nL 2419 1100 \r\nL 313 1100 \r\nL 313 1709 \r\nL 2253 4666 \r\nz\r\n\" id=\"DejaVuSans-34\" transform=\"scale(0.015625)\"/>\r\n       </defs>\r\n       <use xlink:href=\"#DejaVuSans-34\"/>\r\n       <use x=\"63.623047\" xlink:href=\"#DejaVuSans-30\"/>\r\n      </g>\r\n     </g>\r\n    </g>\r\n    <g id=\"text_6\">\r\n     <!-- Tree depth -->\r\n     <g transform=\"translate(175.770099 361.636562)scale(0.1 -0.1)\">\r\n      <defs>\r\n       <path d=\"M -19 4666 \r\nL 3928 4666 \r\nL 3928 4134 \r\nL 2272 4134 \r\nL 2272 0 \r\nL 1638 0 \r\nL 1638 4134 \r\nL -19 4134 \r\nL -19 4666 \r\nz\r\n\" id=\"DejaVuSans-54\" transform=\"scale(0.015625)\"/>\r\n       <path d=\"M 2631 2963 \r\nQ 2534 3019 2420 3045 \r\nQ 2306 3072 2169 3072 \r\nQ 1681 3072 1420 2755 \r\nQ 1159 2438 1159 1844 \r\nL 1159 0 \r\nL 581 0 \r\nL 581 3500 \r\nL 1159 3500 \r\nL 1159 2956 \r\nQ 1341 3275 1631 3429 \r\nQ 1922 3584 2338 3584 \r\nQ 2397 3584 2469 3576 \r\nQ 2541 3569 2628 3553 \r\nL 2631 2963 \r\nz\r\n\" id=\"DejaVuSans-72\" transform=\"scale(0.015625)\"/>\r\n       <path d=\"M 3597 1894 \r\nL 3597 1613 \r\nL 953 1613 \r\nQ 991 1019 1311 708 \r\nQ 1631 397 2203 397 \r\nQ 2534 397 2845 478 \r\nQ 3156 559 3463 722 \r\nL 3463 178 \r\nQ 3153 47 2828 -22 \r\nQ 2503 -91 2169 -91 \r\nQ 1331 -91 842 396 \r\nQ 353 884 353 1716 \r\nQ 353 2575 817 3079 \r\nQ 1281 3584 2069 3584 \r\nQ 2775 3584 3186 3129 \r\nQ 3597 2675 3597 1894 \r\nz\r\nM 3022 2063 \r\nQ 3016 2534 2758 2815 \r\nQ 2500 3097 2075 3097 \r\nQ 1594 3097 1305 2825 \r\nQ 1016 2553 972 2059 \r\nL 3022 2063 \r\nz\r\n\" id=\"DejaVuSans-65\" transform=\"scale(0.015625)\"/>\r\n       <path id=\"DejaVuSans-20\" transform=\"scale(0.015625)\"/>\r\n       <path d=\"M 2906 2969 \r\nL 2906 4863 \r\nL 3481 4863 \r\nL 3481 0 \r\nL 2906 0 \r\nL 2906 525 \r\nQ 2725 213 2448 61 \r\nQ 2172 -91 1784 -91 \r\nQ 1150 -91 751 415 \r\nQ 353 922 353 1747 \r\nQ 353 2572 751 3078 \r\nQ 1150 3584 1784 3584 \r\nQ 2172 3584 2448 3432 \r\nQ 2725 3281 2906 2969 \r\nz\r\nM 947 1747 \r\nQ 947 1113 1208 752 \r\nQ 1469 391 1925 391 \r\nQ 2381 391 2643 752 \r\nQ 2906 1113 2906 1747 \r\nQ 2906 2381 2643 2742 \r\nQ 2381 3103 1925 3103 \r\nQ 1469 3103 1208 2742 \r\nQ 947 2381 947 1747 \r\nz\r\n\" id=\"DejaVuSans-64\" transform=\"scale(0.015625)\"/>\r\n       <path d=\"M 1159 525 \r\nL 1159 -1331 \r\nL 581 -1331 \r\nL 581 3500 \r\nL 1159 3500 \r\nL 1159 2969 \r\nQ 1341 3281 1617 3432 \r\nQ 1894 3584 2278 3584 \r\nQ 2916 3584 3314 3078 \r\nQ 3713 2572 3713 1747 \r\nQ 3713 922 3314 415 \r\nQ 2916 -91 2278 -91 \r\nQ 1894 -91 1617 61 \r\nQ 1341 213 1159 525 \r\nz\r\nM 3116 1747 \r\nQ 3116 2381 2855 2742 \r\nQ 2594 3103 2138 3103 \r\nQ 1681 3103 1420 2742 \r\nQ 1159 2381 1159 1747 \r\nQ 1159 1113 1420 752 \r\nQ 1681 391 2138 391 \r\nQ 2594 391 2855 752 \r\nQ 3116 1113 3116 1747 \r\nz\r\n\" id=\"DejaVuSans-70\" transform=\"scale(0.015625)\"/>\r\n       <path d=\"M 1172 4494 \r\nL 1172 3500 \r\nL 2356 3500 \r\nL 2356 3053 \r\nL 1172 3053 \r\nL 1172 1153 \r\nQ 1172 725 1289 603 \r\nQ 1406 481 1766 481 \r\nL 2356 481 \r\nL 2356 0 \r\nL 1766 0 \r\nQ 1100 0 847 248 \r\nQ 594 497 594 1153 \r\nL 594 3053 \r\nL 172 3053 \r\nL 172 3500 \r\nL 594 3500 \r\nL 594 4494 \r\nL 1172 4494 \r\nz\r\n\" id=\"DejaVuSans-74\" transform=\"scale(0.015625)\"/>\r\n       <path d=\"M 3513 2113 \r\nL 3513 0 \r\nL 2938 0 \r\nL 2938 2094 \r\nQ 2938 2591 2744 2837 \r\nQ 2550 3084 2163 3084 \r\nQ 1697 3084 1428 2787 \r\nQ 1159 2491 1159 1978 \r\nL 1159 0 \r\nL 581 0 \r\nL 581 4863 \r\nL 1159 4863 \r\nL 1159 2956 \r\nQ 1366 3272 1645 3428 \r\nQ 1925 3584 2291 3584 \r\nQ 2894 3584 3203 3211 \r\nQ 3513 2838 3513 2113 \r\nz\r\n\" id=\"DejaVuSans-68\" transform=\"scale(0.015625)\"/>\r\n      </defs>\r\n      <use xlink:href=\"#DejaVuSans-54\"/>\r\n      <use x=\"46.333984\" xlink:href=\"#DejaVuSans-72\"/>\r\n      <use x=\"85.197266\" xlink:href=\"#DejaVuSans-65\"/>\r\n      <use x=\"146.720703\" xlink:href=\"#DejaVuSans-65\"/>\r\n      <use x=\"208.244141\" xlink:href=\"#DejaVuSans-20\"/>\r\n      <use x=\"240.03125\" xlink:href=\"#DejaVuSans-64\"/>\r\n      <use x=\"303.507812\" xlink:href=\"#DejaVuSans-65\"/>\r\n      <use x=\"365.03125\" xlink:href=\"#DejaVuSans-70\"/>\r\n      <use x=\"428.507812\" xlink:href=\"#DejaVuSans-74\"/>\r\n      <use x=\"467.716797\" xlink:href=\"#DejaVuSans-68\"/>\r\n     </g>\r\n    </g>\r\n   </g>\r\n   <g id=\"matplotlib.axis_2\">\r\n    <g id=\"ytick_1\">\r\n     <g id=\"line2d_6\">\r\n      <defs>\r\n       <path d=\"M 0 0 \r\nL -3.5 0 \r\n\" id=\"m26fff9de36\" style=\"stroke:#000000;stroke-width:0.8;\"/>\r\n      </defs>\r\n      <g>\r\n       <use style=\"stroke:#000000;stroke-width:0.8;\" x=\"50.14375\" xlink:href=\"#m26fff9de36\" y=\"301.217574\"/>\r\n      </g>\r\n     </g>\r\n     <g id=\"text_7\">\r\n      <!-- 0.86 -->\r\n      <g transform=\"translate(20.878125 305.016793)scale(0.1 -0.1)\">\r\n       <defs>\r\n        <path d=\"M 684 794 \r\nL 1344 794 \r\nL 1344 0 \r\nL 684 0 \r\nL 684 794 \r\nz\r\n\" id=\"DejaVuSans-2e\" transform=\"scale(0.015625)\"/>\r\n        <path d=\"M 2034 2216 \r\nQ 1584 2216 1326 1975 \r\nQ 1069 1734 1069 1313 \r\nQ 1069 891 1326 650 \r\nQ 1584 409 2034 409 \r\nQ 2484 409 2743 651 \r\nQ 3003 894 3003 1313 \r\nQ 3003 1734 2745 1975 \r\nQ 2488 2216 2034 2216 \r\nz\r\nM 1403 2484 \r\nQ 997 2584 770 2862 \r\nQ 544 3141 544 3541 \r\nQ 544 4100 942 4425 \r\nQ 1341 4750 2034 4750 \r\nQ 2731 4750 3128 4425 \r\nQ 3525 4100 3525 3541 \r\nQ 3525 3141 3298 2862 \r\nQ 3072 2584 2669 2484 \r\nQ 3125 2378 3379 2068 \r\nQ 3634 1759 3634 1313 \r\nQ 3634 634 3220 271 \r\nQ 2806 -91 2034 -91 \r\nQ 1263 -91 848 271 \r\nQ 434 634 434 1313 \r\nQ 434 1759 690 2068 \r\nQ 947 2378 1403 2484 \r\nz\r\nM 1172 3481 \r\nQ 1172 3119 1398 2916 \r\nQ 1625 2713 2034 2713 \r\nQ 2441 2713 2670 2916 \r\nQ 2900 3119 2900 3481 \r\nQ 2900 3844 2670 4047 \r\nQ 2441 4250 2034 4250 \r\nQ 1625 4250 1398 4047 \r\nQ 1172 3844 1172 3481 \r\nz\r\n\" id=\"DejaVuSans-38\" transform=\"scale(0.015625)\"/>\r\n        <path d=\"M 2113 2584 \r\nQ 1688 2584 1439 2293 \r\nQ 1191 2003 1191 1497 \r\nQ 1191 994 1439 701 \r\nQ 1688 409 2113 409 \r\nQ 2538 409 2786 701 \r\nQ 3034 994 3034 1497 \r\nQ 3034 2003 2786 2293 \r\nQ 2538 2584 2113 2584 \r\nz\r\nM 3366 4563 \r\nL 3366 3988 \r\nQ 3128 4100 2886 4159 \r\nQ 2644 4219 2406 4219 \r\nQ 1781 4219 1451 3797 \r\nQ 1122 3375 1075 2522 \r\nQ 1259 2794 1537 2939 \r\nQ 1816 3084 2150 3084 \r\nQ 2853 3084 3261 2657 \r\nQ 3669 2231 3669 1497 \r\nQ 3669 778 3244 343 \r\nQ 2819 -91 2113 -91 \r\nQ 1303 -91 875 529 \r\nQ 447 1150 447 2328 \r\nQ 447 3434 972 4092 \r\nQ 1497 4750 2381 4750 \r\nQ 2619 4750 2861 4703 \r\nQ 3103 4656 3366 4563 \r\nz\r\n\" id=\"DejaVuSans-36\" transform=\"scale(0.015625)\"/>\r\n       </defs>\r\n       <use xlink:href=\"#DejaVuSans-30\"/>\r\n       <use x=\"63.623047\" xlink:href=\"#DejaVuSans-2e\"/>\r\n       <use x=\"95.410156\" xlink:href=\"#DejaVuSans-38\"/>\r\n       <use x=\"159.033203\" xlink:href=\"#DejaVuSans-36\"/>\r\n      </g>\r\n     </g>\r\n    </g>\r\n    <g id=\"ytick_2\">\r\n     <g id=\"line2d_7\">\r\n      <g>\r\n       <use style=\"stroke:#000000;stroke-width:0.8;\" x=\"50.14375\" xlink:href=\"#m26fff9de36\" y=\"255.66137\"/>\r\n      </g>\r\n     </g>\r\n     <g id=\"text_8\">\r\n      <!-- 0.88 -->\r\n      <g transform=\"translate(20.878125 259.460589)scale(0.1 -0.1)\">\r\n       <use xlink:href=\"#DejaVuSans-30\"/>\r\n       <use x=\"63.623047\" xlink:href=\"#DejaVuSans-2e\"/>\r\n       <use x=\"95.410156\" xlink:href=\"#DejaVuSans-38\"/>\r\n       <use x=\"159.033203\" xlink:href=\"#DejaVuSans-38\"/>\r\n      </g>\r\n     </g>\r\n    </g>\r\n    <g id=\"ytick_3\">\r\n     <g id=\"line2d_8\">\r\n      <g>\r\n       <use style=\"stroke:#000000;stroke-width:0.8;\" x=\"50.14375\" xlink:href=\"#m26fff9de36\" y=\"210.105166\"/>\r\n      </g>\r\n     </g>\r\n     <g id=\"text_9\">\r\n      <!-- 0.90 -->\r\n      <g transform=\"translate(20.878125 213.904385)scale(0.1 -0.1)\">\r\n       <defs>\r\n        <path d=\"M 703 97 \r\nL 703 672 \r\nQ 941 559 1184 500 \r\nQ 1428 441 1663 441 \r\nQ 2288 441 2617 861 \r\nQ 2947 1281 2994 2138 \r\nQ 2813 1869 2534 1725 \r\nQ 2256 1581 1919 1581 \r\nQ 1219 1581 811 2004 \r\nQ 403 2428 403 3163 \r\nQ 403 3881 828 4315 \r\nQ 1253 4750 1959 4750 \r\nQ 2769 4750 3195 4129 \r\nQ 3622 3509 3622 2328 \r\nQ 3622 1225 3098 567 \r\nQ 2575 -91 1691 -91 \r\nQ 1453 -91 1209 -44 \r\nQ 966 3 703 97 \r\nz\r\nM 1959 2075 \r\nQ 2384 2075 2632 2365 \r\nQ 2881 2656 2881 3163 \r\nQ 2881 3666 2632 3958 \r\nQ 2384 4250 1959 4250 \r\nQ 1534 4250 1286 3958 \r\nQ 1038 3666 1038 3163 \r\nQ 1038 2656 1286 2365 \r\nQ 1534 2075 1959 2075 \r\nz\r\n\" id=\"DejaVuSans-39\" transform=\"scale(0.015625)\"/>\r\n       </defs>\r\n       <use xlink:href=\"#DejaVuSans-30\"/>\r\n       <use x=\"63.623047\" xlink:href=\"#DejaVuSans-2e\"/>\r\n       <use x=\"95.410156\" xlink:href=\"#DejaVuSans-39\"/>\r\n       <use x=\"159.033203\" xlink:href=\"#DejaVuSans-30\"/>\r\n      </g>\r\n     </g>\r\n    </g>\r\n    <g id=\"ytick_4\">\r\n     <g id=\"line2d_9\">\r\n      <g>\r\n       <use style=\"stroke:#000000;stroke-width:0.8;\" x=\"50.14375\" xlink:href=\"#m26fff9de36\" y=\"164.548962\"/>\r\n      </g>\r\n     </g>\r\n     <g id=\"text_10\">\r\n      <!-- 0.92 -->\r\n      <g transform=\"translate(20.878125 168.34818)scale(0.1 -0.1)\">\r\n       <use xlink:href=\"#DejaVuSans-30\"/>\r\n       <use x=\"63.623047\" xlink:href=\"#DejaVuSans-2e\"/>\r\n       <use x=\"95.410156\" xlink:href=\"#DejaVuSans-39\"/>\r\n       <use x=\"159.033203\" xlink:href=\"#DejaVuSans-32\"/>\r\n      </g>\r\n     </g>\r\n    </g>\r\n    <g id=\"ytick_5\">\r\n     <g id=\"line2d_10\">\r\n      <g>\r\n       <use style=\"stroke:#000000;stroke-width:0.8;\" x=\"50.14375\" xlink:href=\"#m26fff9de36\" y=\"118.992757\"/>\r\n      </g>\r\n     </g>\r\n     <g id=\"text_11\">\r\n      <!-- 0.94 -->\r\n      <g transform=\"translate(20.878125 122.791976)scale(0.1 -0.1)\">\r\n       <use xlink:href=\"#DejaVuSans-30\"/>\r\n       <use x=\"63.623047\" xlink:href=\"#DejaVuSans-2e\"/>\r\n       <use x=\"95.410156\" xlink:href=\"#DejaVuSans-39\"/>\r\n       <use x=\"159.033203\" xlink:href=\"#DejaVuSans-34\"/>\r\n      </g>\r\n     </g>\r\n    </g>\r\n    <g id=\"ytick_6\">\r\n     <g id=\"line2d_11\">\r\n      <g>\r\n       <use style=\"stroke:#000000;stroke-width:0.8;\" x=\"50.14375\" xlink:href=\"#m26fff9de36\" y=\"73.436553\"/>\r\n      </g>\r\n     </g>\r\n     <g id=\"text_12\">\r\n      <!-- 0.96 -->\r\n      <g transform=\"translate(20.878125 77.235772)scale(0.1 -0.1)\">\r\n       <use xlink:href=\"#DejaVuSans-30\"/>\r\n       <use x=\"63.623047\" xlink:href=\"#DejaVuSans-2e\"/>\r\n       <use x=\"95.410156\" xlink:href=\"#DejaVuSans-39\"/>\r\n       <use x=\"159.033203\" xlink:href=\"#DejaVuSans-36\"/>\r\n      </g>\r\n     </g>\r\n    </g>\r\n    <g id=\"ytick_7\">\r\n     <g id=\"line2d_12\">\r\n      <g>\r\n       <use style=\"stroke:#000000;stroke-width:0.8;\" x=\"50.14375\" xlink:href=\"#m26fff9de36\" y=\"27.880349\"/>\r\n      </g>\r\n     </g>\r\n     <g id=\"text_13\">\r\n      <!-- 0.98 -->\r\n      <g transform=\"translate(20.878125 31.679568)scale(0.1 -0.1)\">\r\n       <use xlink:href=\"#DejaVuSans-30\"/>\r\n       <use x=\"63.623047\" xlink:href=\"#DejaVuSans-2e\"/>\r\n       <use x=\"95.410156\" xlink:href=\"#DejaVuSans-39\"/>\r\n       <use x=\"159.033203\" xlink:href=\"#DejaVuSans-38\"/>\r\n      </g>\r\n     </g>\r\n    </g>\r\n    <g id=\"text_14\">\r\n     <!-- Accuracy -->\r\n     <g transform=\"translate(14.798438 193.108125)rotate(-90)scale(0.1 -0.1)\">\r\n      <defs>\r\n       <path d=\"M 2188 4044 \r\nL 1331 1722 \r\nL 3047 1722 \r\nL 2188 4044 \r\nz\r\nM 1831 4666 \r\nL 2547 4666 \r\nL 4325 0 \r\nL 3669 0 \r\nL 3244 1197 \r\nL 1141 1197 \r\nL 716 0 \r\nL 50 0 \r\nL 1831 4666 \r\nz\r\n\" id=\"DejaVuSans-41\" transform=\"scale(0.015625)\"/>\r\n       <path d=\"M 3122 3366 \r\nL 3122 2828 \r\nQ 2878 2963 2633 3030 \r\nQ 2388 3097 2138 3097 \r\nQ 1578 3097 1268 2742 \r\nQ 959 2388 959 1747 \r\nQ 959 1106 1268 751 \r\nQ 1578 397 2138 397 \r\nQ 2388 397 2633 464 \r\nQ 2878 531 3122 666 \r\nL 3122 134 \r\nQ 2881 22 2623 -34 \r\nQ 2366 -91 2075 -91 \r\nQ 1284 -91 818 406 \r\nQ 353 903 353 1747 \r\nQ 353 2603 823 3093 \r\nQ 1294 3584 2113 3584 \r\nQ 2378 3584 2631 3529 \r\nQ 2884 3475 3122 3366 \r\nz\r\n\" id=\"DejaVuSans-63\" transform=\"scale(0.015625)\"/>\r\n       <path d=\"M 544 1381 \r\nL 544 3500 \r\nL 1119 3500 \r\nL 1119 1403 \r\nQ 1119 906 1312 657 \r\nQ 1506 409 1894 409 \r\nQ 2359 409 2629 706 \r\nQ 2900 1003 2900 1516 \r\nL 2900 3500 \r\nL 3475 3500 \r\nL 3475 0 \r\nL 2900 0 \r\nL 2900 538 \r\nQ 2691 219 2414 64 \r\nQ 2138 -91 1772 -91 \r\nQ 1169 -91 856 284 \r\nQ 544 659 544 1381 \r\nz\r\nM 1991 3584 \r\nL 1991 3584 \r\nz\r\n\" id=\"DejaVuSans-75\" transform=\"scale(0.015625)\"/>\r\n       <path d=\"M 2194 1759 \r\nQ 1497 1759 1228 1600 \r\nQ 959 1441 959 1056 \r\nQ 959 750 1161 570 \r\nQ 1363 391 1709 391 \r\nQ 2188 391 2477 730 \r\nQ 2766 1069 2766 1631 \r\nL 2766 1759 \r\nL 2194 1759 \r\nz\r\nM 3341 1997 \r\nL 3341 0 \r\nL 2766 0 \r\nL 2766 531 \r\nQ 2569 213 2275 61 \r\nQ 1981 -91 1556 -91 \r\nQ 1019 -91 701 211 \r\nQ 384 513 384 1019 \r\nQ 384 1609 779 1909 \r\nQ 1175 2209 1959 2209 \r\nL 2766 2209 \r\nL 2766 2266 \r\nQ 2766 2663 2505 2880 \r\nQ 2244 3097 1772 3097 \r\nQ 1472 3097 1187 3025 \r\nQ 903 2953 641 2809 \r\nL 641 3341 \r\nQ 956 3463 1253 3523 \r\nQ 1550 3584 1831 3584 \r\nQ 2591 3584 2966 3190 \r\nQ 3341 2797 3341 1997 \r\nz\r\n\" id=\"DejaVuSans-61\" transform=\"scale(0.015625)\"/>\r\n       <path d=\"M 2059 -325 \r\nQ 1816 -950 1584 -1140 \r\nQ 1353 -1331 966 -1331 \r\nL 506 -1331 \r\nL 506 -850 \r\nL 844 -850 \r\nQ 1081 -850 1212 -737 \r\nQ 1344 -625 1503 -206 \r\nL 1606 56 \r\nL 191 3500 \r\nL 800 3500 \r\nL 1894 763 \r\nL 2988 3500 \r\nL 3597 3500 \r\nL 2059 -325 \r\nz\r\n\" id=\"DejaVuSans-79\" transform=\"scale(0.015625)\"/>\r\n      </defs>\r\n      <use xlink:href=\"#DejaVuSans-41\"/>\r\n      <use x=\"66.658203\" xlink:href=\"#DejaVuSans-63\"/>\r\n      <use x=\"121.638672\" xlink:href=\"#DejaVuSans-63\"/>\r\n      <use x=\"176.619141\" xlink:href=\"#DejaVuSans-75\"/>\r\n      <use x=\"239.998047\" xlink:href=\"#DejaVuSans-72\"/>\r\n      <use x=\"281.111328\" xlink:href=\"#DejaVuSans-61\"/>\r\n      <use x=\"342.390625\" xlink:href=\"#DejaVuSans-63\"/>\r\n      <use x=\"397.371094\" xlink:href=\"#DejaVuSans-79\"/>\r\n     </g>\r\n    </g>\r\n   </g>\r\n   <g id=\"line2d_13\">\r\n    <path clip-path=\"url(#p43a23a020e)\" d=\"M 63.978461 317.45888 \r\nL 70.41321 309.888554 \r\nL 76.847959 304.7209 \r\nL 83.282708 300.068105 \r\nL 89.717457 296.197132 \r\nL 96.152207 289.770935 \r\nL 102.586956 285.842756 \r\nL 109.021705 278.958907 \r\nL 115.456454 271.274167 \r\nL 121.891203 262.140197 \r\nL 128.325953 252.357885 \r\nL 134.760702 242.003509 \r\nL 141.195451 230.905449 \r\nL 147.6302 219.76925 \r\nL 154.064949 209.529287 \r\nL 160.499698 198.660052 \r\nL 166.934448 188.57264 \r\nL 173.369197 178.44709 \r\nL 179.803946 168.016438 \r\nL 186.238695 158.710848 \r\nL 192.673444 149.023881 \r\nL 199.108194 138.669505 \r\nL 205.542943 128.334197 \r\nL 211.977692 118.590024 \r\nL 218.412441 110.504839 \r\nL 224.84719 103.029856 \r\nL 231.28194 96.546453 \r\nL 237.716689 90.88301 \r\nL 244.151438 84.685639 \r\nL 250.586187 79.537054 \r\nL 257.020936 73.682922 \r\nL 263.455685 68.515269 \r\nL 269.890435 64.129437 \r\nL 276.325184 59.01899 \r\nL 282.759933 53.641579 \r\nL 289.194682 49.770606 \r\nL 295.629431 46.090321 \r\nL 302.064181 42.238417 \r\nL 308.49893 38.691614 \r\nL 314.933679 35.48805 \r\nL 321.368428 32.093798 \r\nL 327.803177 28.680477 \r\nL 334.237926 25.305294 \r\nL 340.672676 22.025455 \r\n\" style=\"fill:none;stroke:#ff0000;stroke-linecap:square;stroke-width:1.5;\"/>\r\n   </g>\r\n   <g id=\"line2d_14\">\r\n    <path clip-path=\"url(#p43a23a020e)\" d=\"M 63.978461 318.534545 \r\nL 70.41321 309.076721 \r\nL 76.847959 304.805446 \r\nL 83.282708 300.381625 \r\nL 89.717457 295.957803 \r\nL 96.152207 293.822166 \r\nL 102.586956 294.127257 \r\nL 109.021705 287.872889 \r\nL 115.456454 279.635429 \r\nL 121.891203 271.550515 \r\nL 128.325953 264.991056 \r\nL 134.760702 256.448505 \r\nL 141.195451 250.041592 \r\nL 147.6302 242.414314 \r\nL 154.064949 239.515949 \r\nL 160.499698 233.871763 \r\nL 166.934448 231.58358 \r\nL 173.369197 223.498665 \r\nL 179.803946 222.278301 \r\nL 186.238695 220.905391 \r\nL 192.673444 217.396843 \r\nL 199.108194 211.752658 \r\nL 205.542943 209.006838 \r\nL 211.977692 205.803381 \r\nL 218.412441 198.176103 \r\nL 224.84719 198.63374 \r\nL 231.28194 197.413376 \r\nL 237.716689 198.023558 \r\nL 244.151438 192.684464 \r\nL 250.586187 192.531918 \r\nL 257.020936 195.277738 \r\nL 263.455685 192.379372 \r\nL 269.890435 193.294646 \r\nL 276.325184 194.057374 \r\nL 282.759933 189.786098 \r\nL 289.194682 186.27755 \r\nL 295.629431 188.870825 \r\nL 302.064181 188.718279 \r\nL 308.49893 187.497915 \r\nL 314.933679 192.226827 \r\nL 321.368428 192.226827 \r\nL 327.803177 189.175916 \r\nL 334.237926 191.006462 \r\nL 340.672676 195.125192 \r\n\" style=\"fill:none;stroke:#0000ff;stroke-linecap:square;stroke-width:1.5;\"/>\r\n   </g>\r\n   <g id=\"patch_3\">\r\n    <path d=\"M 50.14375 333.36 \r\nL 50.14375 7.2 \r\n\" style=\"fill:none;stroke:#000000;stroke-linecap:square;stroke-linejoin:miter;stroke-width:0.8;\"/>\r\n   </g>\r\n   <g id=\"patch_4\">\r\n    <path d=\"M 354.507386 333.36 \r\nL 354.507386 7.2 \r\n\" style=\"fill:none;stroke:#000000;stroke-linecap:square;stroke-linejoin:miter;stroke-width:0.8;\"/>\r\n   </g>\r\n   <g id=\"patch_5\">\r\n    <path d=\"M 50.14375 333.36 \r\nL 354.507386 333.36 \r\n\" style=\"fill:none;stroke:#000000;stroke-linecap:square;stroke-linejoin:miter;stroke-width:0.8;\"/>\r\n   </g>\r\n   <g id=\"patch_6\">\r\n    <path d=\"M 50.14375 7.2 \r\nL 354.507386 7.2 \r\n\" style=\"fill:none;stroke:#000000;stroke-linecap:square;stroke-linejoin:miter;stroke-width:0.8;\"/>\r\n   </g>\r\n   <g id=\"legend_1\">\r\n    <g id=\"patch_7\">\r\n     <path d=\"M 57.14375 44.55625 \r\nL 129.44375 44.55625 \r\nQ 131.44375 44.55625 131.44375 42.55625 \r\nL 131.44375 14.2 \r\nQ 131.44375 12.2 129.44375 12.2 \r\nL 57.14375 12.2 \r\nQ 55.14375 12.2 55.14375 14.2 \r\nL 55.14375 42.55625 \r\nQ 55.14375 44.55625 57.14375 44.55625 \r\nz\r\n\" style=\"fill:#ffffff;opacity:0.8;stroke:#cccccc;stroke-linejoin:miter;\"/>\r\n    </g>\r\n    <g id=\"line2d_15\">\r\n     <path d=\"M 59.14375 20.298437 \r\nL 79.14375 20.298437 \r\n\" style=\"fill:none;stroke:#ff0000;stroke-linecap:square;stroke-width:1.5;\"/>\r\n    </g>\r\n    <g id=\"line2d_16\"/>\r\n    <g id=\"text_15\">\r\n     <!-- Train -->\r\n     <g transform=\"translate(87.14375 23.798437)scale(0.1 -0.1)\">\r\n      <defs>\r\n       <path d=\"M 603 3500 \r\nL 1178 3500 \r\nL 1178 0 \r\nL 603 0 \r\nL 603 3500 \r\nz\r\nM 603 4863 \r\nL 1178 4863 \r\nL 1178 4134 \r\nL 603 4134 \r\nL 603 4863 \r\nz\r\n\" id=\"DejaVuSans-69\" transform=\"scale(0.015625)\"/>\r\n       <path d=\"M 3513 2113 \r\nL 3513 0 \r\nL 2938 0 \r\nL 2938 2094 \r\nQ 2938 2591 2744 2837 \r\nQ 2550 3084 2163 3084 \r\nQ 1697 3084 1428 2787 \r\nQ 1159 2491 1159 1978 \r\nL 1159 0 \r\nL 581 0 \r\nL 581 3500 \r\nL 1159 3500 \r\nL 1159 2956 \r\nQ 1366 3272 1645 3428 \r\nQ 1925 3584 2291 3584 \r\nQ 2894 3584 3203 3211 \r\nQ 3513 2838 3513 2113 \r\nz\r\n\" id=\"DejaVuSans-6e\" transform=\"scale(0.015625)\"/>\r\n      </defs>\r\n      <use xlink:href=\"#DejaVuSans-54\"/>\r\n      <use x=\"46.333984\" xlink:href=\"#DejaVuSans-72\"/>\r\n      <use x=\"87.447266\" xlink:href=\"#DejaVuSans-61\"/>\r\n      <use x=\"148.726562\" xlink:href=\"#DejaVuSans-69\"/>\r\n      <use x=\"176.509766\" xlink:href=\"#DejaVuSans-6e\"/>\r\n     </g>\r\n    </g>\r\n    <g id=\"line2d_17\">\r\n     <path d=\"M 59.14375 34.976562 \r\nL 79.14375 34.976562 \r\n\" style=\"fill:none;stroke:#0000ff;stroke-linecap:square;stroke-width:1.5;\"/>\r\n    </g>\r\n    <g id=\"line2d_18\"/>\r\n    <g id=\"text_16\">\r\n     <!-- Validate -->\r\n     <g transform=\"translate(87.14375 38.476562)scale(0.1 -0.1)\">\r\n      <defs>\r\n       <path d=\"M 1831 0 \r\nL 50 4666 \r\nL 709 4666 \r\nL 2188 738 \r\nL 3669 4666 \r\nL 4325 4666 \r\nL 2547 0 \r\nL 1831 0 \r\nz\r\n\" id=\"DejaVuSans-56\" transform=\"scale(0.015625)\"/>\r\n       <path d=\"M 603 4863 \r\nL 1178 4863 \r\nL 1178 0 \r\nL 603 0 \r\nL 603 4863 \r\nz\r\n\" id=\"DejaVuSans-6c\" transform=\"scale(0.015625)\"/>\r\n      </defs>\r\n      <use xlink:href=\"#DejaVuSans-56\"/>\r\n      <use x=\"60.658203\" xlink:href=\"#DejaVuSans-61\"/>\r\n      <use x=\"121.9375\" xlink:href=\"#DejaVuSans-6c\"/>\r\n      <use x=\"149.720703\" xlink:href=\"#DejaVuSans-69\"/>\r\n      <use x=\"177.503906\" xlink:href=\"#DejaVuSans-64\"/>\r\n      <use x=\"240.980469\" xlink:href=\"#DejaVuSans-61\"/>\r\n      <use x=\"302.259766\" xlink:href=\"#DejaVuSans-74\"/>\r\n      <use x=\"341.46875\" xlink:href=\"#DejaVuSans-65\"/>\r\n     </g>\r\n    </g>\r\n   </g>\r\n  </g>\r\n </g>\r\n <defs>\r\n  <clipPath id=\"p43a23a020e\">\r\n   <rect height=\"326.16\" width=\"304.363636\" x=\"50.14375\" y=\"7.2\"/>\r\n  </clipPath>\r\n </defs>\r\n</svg>\r\n",
                        "image/png": "[encoded data removed]"
                    },
                    "metadata": {
                        "needs_background": "light"
                    }
                }
            ],
            "metadata": {}
        },
        {
            "cell_type": "markdown",
            "source": [
                "In contrast to the previous model, the binary model should be limited to a depth of 35, because above this depth there is no significant improvement in the prediction results."
            ],
            "metadata": {}
        },
        {
            "cell_type": "code",
            "execution_count": 28,
            "source": [
                "X = x_train_bin\r\n",
                "Y = y_train_bin\r\n",
                "tree_bin = tree.DecisionTreeClassifier(max_depth=35, criterion='gini')\r\n",
                "tree_bin = tree_bin.fit(X, Y)"
            ],
            "outputs": [],
            "metadata": {}
        },
        {
            "cell_type": "code",
            "execution_count": 29,
            "source": [
                "y_pred_tree_train_bin = tree_bin.predict(x_train)\r\n",
                "y_pred_tree_val_bin = tree_bin.predict(x_val)"
            ],
            "outputs": [],
            "metadata": {}
        },
        {
            "cell_type": "code",
            "execution_count": 30,
            "source": [
                "acc_train_tree_bin = accuracy_score(y_train_bin,y_pred_tree_train_bin)\r\n",
                "acc_val_tree_bin = accuracy_score(y_val_bin,y_pred_tree_val_bin)\r\n",
                "\r\n",
                "print(f\"Decision Tree - binary:\\naccuracy score for train data: {acc_train_tree_bin :.2f}\\naccuracy score for validation data: {acc_val_tree_bin :.2f}\")"
            ],
            "outputs": [
                {
                    "output_type": "stream",
                    "name": "stdout",
                    "text": [
                        "Decision Tree - binary:\n",
                        "accuracy score for train data: 0.97\n",
                        "accuracy score for validation data: 0.91\n"
                    ]
                }
            ],
            "metadata": {}
        },
        {
            "cell_type": "code",
            "execution_count": 31,
            "source": [
                "target_names= ['non-medalist', 'medalist']\r\n",
                "\r\n",
                "creport_bin = classification_report(y_val_bin, y_pred_tree_val_bin, target_names=target_names)\r\n",
                "print(\"\\tDecision Tree-binar model : classification report\")\r\n",
                "print(creport_bin)"
            ],
            "outputs": [
                {
                    "output_type": "stream",
                    "name": "stdout",
                    "text": [
                        "\tDecision Tree-binar model : classification report\n",
                        "              precision    recall  f1-score   support\n",
                        "\n",
                        "non-medalist       0.93      0.97      0.95     12728\n",
                        "    medalist       0.75      0.59      0.66      2204\n",
                        "\n",
                        "    accuracy                           0.91     14932\n",
                        "   macro avg       0.84      0.78      0.80     14932\n",
                        "weighted avg       0.90      0.91      0.90     14932\n",
                        "\n"
                    ]
                }
            ],
            "metadata": {}
        },
        {
            "cell_type": "markdown",
            "source": [
                "\r\n",
                "this model present better results - from all the prediction of a medalist, 75% are correct. from all the prediction of beeing non-medalist, 93% are correct.\r\n",
                "the model catch right 58% from the medalists, and 97% from the non-medalists.\r\n",
                "\r\n",
                "\r\n",
                "________________\r\n",
                "\r\n",
                "\r\n",
                "Now, I'm interested in testing whether the Random Forest model will be more successful.\r\n",
                "#\r\n",
                "I'll perform a test for binary variable and multi-classes variable:"
            ],
            "metadata": {}
        },
        {
            "cell_type": "markdown",
            "source": [
                "# <span style=\"color: skyblue;\">Random Forest</span>"
            ],
            "metadata": {}
        },
        {
            "cell_type": "code",
            "execution_count": 49,
            "source": [
                "from sklearn.ensemble import RandomForestClassifier\r\n",
                "random_forest = RandomForestClassifier(n_estimators =100, max_depth=30)\r\n",
                "forest_model = random_forest.fit(x_train,y_train)\r\n"
            ],
            "outputs": [],
            "metadata": {}
        },
        {
            "cell_type": "code",
            "execution_count": 50,
            "source": [
                "y_pred_rforest_train = forest_model.predict(x_train)\r\n",
                "y_pred_rforest_val = forest_model.predict(x_val)"
            ],
            "outputs": [],
            "metadata": {}
        },
        {
            "cell_type": "code",
            "execution_count": 51,
            "source": [
                "acc_rf_train = accuracy_score(y_train,y_pred_rforest_train)\r\n",
                "acc_rf_val = accuracy_score(y_val,y_pred_rforest_val)\r\n",
                "print(f\"Random Forest:\\naccuracy score for train data: {acc_rf_train :.2f} \\naccuracy score for validation data: {acc_rf_val :.2f}\")"
            ],
            "outputs": [
                {
                    "output_type": "stream",
                    "name": "stdout",
                    "text": [
                        "Random Forest:\n",
                        "accuracy score for train data: 0.90 \n",
                        "accuracy score for validation data: 0.88\n"
                    ]
                }
            ],
            "metadata": {}
        },
        {
            "cell_type": "code",
            "execution_count": 52,
            "source": [
                "target_names= ['None', 'Bronze', 'Silver', 'Gold']\r\n",
                "rep_random = classification_report(y_val, y_pred_rforest_val,target_names=target_names )\r\n",
                "print(\"\\tRandom Forest : classification report\")\r\n",
                "print(rep_random)"
            ],
            "outputs": [
                {
                    "output_type": "stream",
                    "name": "stdout",
                    "text": [
                        "\tRandom Forest : classification report\n",
                        "              precision    recall  f1-score   support\n",
                        "\n",
                        "        None       0.88      1.00      0.93     12728\n",
                        "      Bronze       1.00      0.16      0.27       709\n",
                        "      Silver       1.00      0.12      0.22       726\n",
                        "        Gold       0.99      0.26      0.41       769\n",
                        "\n",
                        "    accuracy                           0.88     14932\n",
                        "   macro avg       0.97      0.38      0.46     14932\n",
                        "weighted avg       0.89      0.88      0.84     14932\n",
                        "\n"
                    ]
                }
            ],
            "metadata": {}
        },
        {
            "cell_type": "markdown",
            "source": [
                "The random forest model succeed to present better results than the dacision tree succeed.\r\n",
                "The precision for each medal stand on 1, as well as the recall for non-medalist. The model is difficult to classify the medalists, but when it identifies observation as a potential to win a medal, the level of confidence in prediction is high.\r\n",
                "#\r\n",
                "now, I try to check if on a binar model the results will improve:\r\n"
            ],
            "metadata": {}
        },
        {
            "cell_type": "code",
            "execution_count": 36,
            "source": [
                "random_forest_bin = RandomForestClassifier(n_estimators =150,  max_depth=30, max_features= 30)\r\n",
                "forest_model_bin = random_forest_bin.fit(x_train_bin,y_train_bin)"
            ],
            "outputs": [],
            "metadata": {}
        },
        {
            "cell_type": "code",
            "execution_count": 37,
            "source": [
                "y_pred_rforest_train_bin = forest_model_bin.predict(x_train_bin)\r\n",
                "y_pred_rforest_val_bin = forest_model_bin.predict(x_val_bin)"
            ],
            "outputs": [],
            "metadata": {}
        },
        {
            "cell_type": "code",
            "execution_count": 38,
            "source": [
                "acc_rf_train_bin = accuracy_score(y_train_bin,y_pred_rforest_train_bin)\r\n",
                "acc_rf_val_bin = accuracy_score(y_val_bin,y_pred_rforest_val_bin)\r\n",
                "print(f\"Random Forest - binary:\\naccuracy score for train data: {acc_rf_train_bin :.2f} \\naccuracy score for validation data: {acc_rf_val_bin :.2f}\")"
            ],
            "outputs": [
                {
                    "output_type": "stream",
                    "name": "stdout",
                    "text": [
                        "Random Forest - binary:\n",
                        "accuracy score for train data: 0.91 \n",
                        "accuracy score for validation data: 0.89\n"
                    ]
                }
            ],
            "metadata": {}
        },
        {
            "cell_type": "code",
            "execution_count": 39,
            "source": [
                "rep_random_bin = classification_report(y_val_bin, y_pred_rforest_val_bin, target_names=[\"non-medalist\", 'medalist'] )\r\n",
                "print(\"\\tRandom Forest- binary : classification report\")\r\n",
                "print(rep_random_bin)"
            ],
            "outputs": [
                {
                    "output_type": "stream",
                    "name": "stdout",
                    "text": [
                        "\tRandom Forest- binary : classification report\n",
                        "              precision    recall  f1-score   support\n",
                        "\n",
                        "non-medalist       0.89      1.00      0.94     12728\n",
                        "    medalist       0.97      0.28      0.44      2204\n",
                        "\n",
                        "    accuracy                           0.89     14932\n",
                        "   macro avg       0.93      0.64      0.69     14932\n",
                        "weighted avg       0.90      0.89      0.87     14932\n",
                        "\n"
                    ]
                }
            ],
            "metadata": {}
        },
        {
            "cell_type": "markdown",
            "source": [
                "The binary random forest model bring better results-\r\n",
                "97% from the prediction of being a medalist, and 89% from the prediction of non-medalist were categorize correctly, where 100% of the non-medalist and 28% from the medalist were recognize correctly. \r\n",
                "\r\n",
                "now, I'll check if the models bring the same success with the test data, or they are overfited:"
            ],
            "metadata": {}
        },
        {
            "cell_type": "markdown",
            "source": [
                "# <span style=\"color: skyblue;\">Comparison Between Models</span>"
            ],
            "metadata": {}
        },
        {
            "cell_type": "code",
            "execution_count": 40,
            "source": [
                "# decision tree\r\n",
                "y_pred_tree_test = tree_model.predict(x_test)\r\n",
                "target_names= ['None', 'Bronze', 'Silver', 'Gold']\r\n",
                "creport_test = classification_report(y_test, y_pred_tree_test, target_names=target_names)\r\n",
                "print(\"\\tDecision Tree - test : classification report\")\r\n",
                "print(creport_test)\r\n",
                "\r\n",
                "\r\n",
                "# decision tree- binary\r\n",
                "y_pred_tree_test_bin = tree_bin.predict(x_test)\r\n",
                "creport_bin = classification_report(y_test_bin, y_pred_tree_test_bin, target_names=['non-medalist', 'medalist'])\r\n",
                "print(\"\\tDecision Tree - binary test : classification report\")\r\n",
                "print(creport_bin)\r\n"
            ],
            "outputs": [
                {
                    "output_type": "stream",
                    "name": "stdout",
                    "text": [
                        "\tDecision Tree - test : classification report\n",
                        "              precision    recall  f1-score   support\n",
                        "\n",
                        "        None       0.94      0.96      0.95     12702\n",
                        "      Bronze       0.65      0.53      0.58       734\n",
                        "      Silver       0.70      0.54      0.61       744\n",
                        "        Gold       0.66      0.62      0.64       751\n",
                        "\n",
                        "    accuracy                           0.90     14931\n",
                        "   macro avg       0.74      0.66      0.70     14931\n",
                        "weighted avg       0.90      0.90      0.90     14931\n",
                        "\n",
                        "\tDecision Tree - binary test : classification report\n",
                        "              precision    recall  f1-score   support\n",
                        "\n",
                        "non-medalist       0.93      0.97      0.95     12702\n",
                        "    medalist       0.77      0.61      0.68      2229\n",
                        "\n",
                        "    accuracy                           0.91     14931\n",
                        "   macro avg       0.85      0.79      0.82     14931\n",
                        "weighted avg       0.91      0.91      0.91     14931\n",
                        "\n"
                    ]
                }
            ],
            "metadata": {}
        },
        {
            "cell_type": "code",
            "execution_count": 41,
            "source": [
                "# random forest:\r\n",
                "y_pred_rforest_test = forest_model.predict(x_test)\r\n",
                "target_names= ['None', 'Bronze', 'Silver', 'Gold']\r\n",
                "rep_random_test = classification_report(y_test, y_pred_rforest_test,target_names=target_names )\r\n",
                "print(\"\\tRandom Forest - test : classification report\")\r\n",
                "print(rep_random_test)\r\n",
                "\r\n",
                "#binar random forest:\r\n",
                "y_pred_rforest_test_bin = forest_model_bin.predict(x_test)\r\n",
                "rep_random_bin_test = classification_report(y_test_bin, y_pred_rforest_test_bin, target_names=[\"non-medalist\", 'medalist'] )\r\n",
                "print(\"\\tRandom Forest- binary : classification report\")\r\n",
                "print(rep_random_bin_test)"
            ],
            "outputs": [
                {
                    "output_type": "stream",
                    "name": "stdout",
                    "text": [
                        "\tRandom Forest - test : classification report\n",
                        "              precision    recall  f1-score   support\n",
                        "\n",
                        "        None       0.88      1.00      0.94     12702\n",
                        "      Bronze       0.99      0.18      0.31       734\n",
                        "      Silver       1.00      0.19      0.31       744\n",
                        "        Gold       0.96      0.36      0.53       751\n",
                        "\n",
                        "    accuracy                           0.89     14931\n",
                        "   macro avg       0.96      0.43      0.52     14931\n",
                        "weighted avg       0.90      0.89      0.86     14931\n",
                        "\n",
                        "\tRandom Forest- binary : classification report\n",
                        "              precision    recall  f1-score   support\n",
                        "\n",
                        "non-medalist       0.89      1.00      0.94     12702\n",
                        "    medalist       0.97      0.31      0.47      2229\n",
                        "\n",
                        "    accuracy                           0.90     14931\n",
                        "   macro avg       0.93      0.65      0.71     14931\n",
                        "weighted avg       0.90      0.90      0.87     14931\n",
                        "\n"
                    ]
                }
            ],
            "metadata": {}
        },
        {
            "cell_type": "code",
            "execution_count": 42,
            "source": [
                "acc_tree_test = accuracy_score(y_test,y_pred_tree_test)\r\n",
                "acc_tree_test_bin = accuracy_score(y_test_bin,y_pred_tree_test_bin)\r\n",
                "acc_rf_test = accuracy_score(y_test,y_pred_rforest_test)\r\n",
                "acc_rf_test_bin = accuracy_score(y_test_bin,y_pred_rforest_test_bin)"
            ],
            "outputs": [],
            "metadata": {}
        },
        {
            "cell_type": "code",
            "execution_count": 43,
            "source": [
                "wanted_cols = ['model', 'dataset type', 'accuracy']\r\n",
                "rows = []"
            ],
            "outputs": [],
            "metadata": {}
        },
        {
            "cell_type": "code",
            "execution_count": 44,
            "source": [
                "rows.append(['decision tree', 'train', acc_train])\r\n",
                "rows.append(['decision tree', 'val', acc_val])\r\n",
                "rows.append(['decision tree', 'test', acc_tree_test])\r\n",
                "\r\n",
                "rows.append(['binar decision tree', 'train', acc_train_tree_bin])\r\n",
                "rows.append(['binar decision tree', 'val', acc_val_tree_bin])\r\n",
                "rows.append(['binar decision tree', 'test', acc_tree_test_bin])\r\n",
                "\r\n",
                "rows.append(['random forest', 'train', acc_rf_train])\r\n",
                "rows.append(['random forest', 'val', acc_rf_val])\r\n",
                "rows.append(['random forest', 'test', acc_rf_test])\r\n",
                "\r\n",
                "rows.append(['binar random forest', 'train', acc_rf_train])\r\n",
                "rows.append(['binar random forest', 'val', acc_rf_val])\r\n",
                "rows.append(['binar random forest', 'test', acc_rf_test_bin])\r\n",
                "\r\n",
                "data_res = pd.DataFrame(rows, columns=wanted_cols)\r\n",
                "rounded_data_res = data_res.round(decimals=2)\r\n",
                "\r\n"
            ],
            "outputs": [],
            "metadata": {}
        },
        {
            "cell_type": "code",
            "execution_count": 48,
            "source": [
                "tr = list(rounded_data_res[rounded_data_res['dataset type']=='train']['accuracy'])\r\n",
                "v = list(rounded_data_res[rounded_data_res['dataset type']=='val']['accuracy'])\r\n",
                "t = list(rounded_data_res[rounded_data_res['dataset type']=='test']['accuracy'])\r\n",
                "index = ['decision tree', 'binar decision tree', 'random forest', 'binar random forest']\r\n",
                "\r\n",
                "\r\n",
                "\r\n",
                "\r\n",
                "df_fig = pd.DataFrame({'train': tr, 'val': v, 'test':t}, index=index)\r\n",
                "\r\n",
                "ax = df_fig.plot.barh(figsize = (16, 10), xlabel='model', ylabel= 'accuracy score', title = \"model's scores\" )\r\n",
                "\r\n",
                "plt.text(0.91,3.17,df_fig['test'][3])\r\n",
                "plt.text(0.89,2.98,df_fig['val'][3])\r\n",
                "plt.text(0.91,2.8,df_fig['train'][3])\r\n",
                "\r\n",
                "plt.text(0.9,2.15,df_fig['test'][2])\r\n",
                "plt.text(0.9,1.97,df_fig['val'][2])\r\n",
                "plt.text(0.91,1.8,df_fig['train'][2])\r\n",
                "\r\n",
                "plt.text(0.93,1.15,df_fig['test'][1],fontweight=\"bold\")\r\n",
                "plt.text(0.92,0.97,df_fig['val'][1], fontweight=\"bold\")\r\n",
                "plt.text(0.98,0.8,df_fig['train'][1])\r\n",
                "\r\n",
                "plt.text(0.91,0.16,df_fig['test'][0], fontweight=\"bold\")\r\n",
                "plt.text(0.91,0,df_fig['val'][0])\r\n",
                "plt.text(0.98,-0.18,df_fig['train'][0] )\r\n"
            ],
            "outputs": [
                {
                    "output_type": "execute_result",
                    "data": {
                        "text/plain": [
                            "Text(0.98, -0.18, '0.97')"
                        ]
                    },
                    "metadata": {},
                    "execution_count": 48
                },
                {
                    "output_type": "display_data",
                    "data": {
                        "text/plain": [
                            "<Figure size 1152x720 with 1 Axes>"
                        ],
                        "image/svg+xml": "<?xml version=\"1.0\" encoding=\"utf-8\" standalone=\"no\"?>\r\n<!DOCTYPE svg PUBLIC \"-//W3C//DTD SVG 1.1//EN\"\r\n  \"http://www.w3.org/Graphics/SVG/1.1/DTD/svg11.dtd\">\r\n<svg height=\"589.79625pt\" version=\"1.1\" viewBox=\"0 0 1027.529688 589.79625\" width=\"1027.529688pt\" xmlns=\"http://www.w3.org/2000/svg\" xmlns:xlink=\"http://www.w3.org/1999/xlink\">\r\n <metadata>\r\n  <rdf:RDF xmlns:cc=\"http://creativecommons.org/ns#\" xmlns:dc=\"http://purl.org/dc/elements/1.1/\" xmlns:rdf=\"http://www.w3.org/1999/02/22-rdf-syntax-ns#\">\r\n   <cc:Work>\r\n    <dc:type rdf:resource=\"http://purl.org/dc/dcmitype/StillImage\"/>\r\n    <dc:date>2021-09-09T23:15:55.792979</dc:date>\r\n    <dc:format>image/svg+xml</dc:format>\r\n    <dc:creator>\r\n     <cc:Agent>\r\n      <dc:title>Matplotlib v3.4.2, https://matplotlib.org/</dc:title>\r\n     </cc:Agent>\r\n    </dc:creator>\r\n   </cc:Work>\r\n  </rdf:RDF>\r\n </metadata>\r\n <defs>\r\n  <style type=\"text/css\">*{stroke-linecap:butt;stroke-linejoin:round;}</style>\r\n </defs>\r\n <g id=\"figure_1\">\r\n  <g id=\"patch_1\">\r\n   <path d=\"M 0 589.79625 \r\nL 1027.529688 589.79625 \r\nL 1027.529688 0 \r\nL 0 0 \r\nz\r\n\" style=\"fill:none;\"/>\r\n  </g>\r\n  <g id=\"axes_1\">\r\n   <g id=\"patch_2\">\r\n    <path d=\"M 127.529688 565.918125 \r\nL 1020.329687 565.918125 \r\nL 1020.329687 22.318125 \r\nL 127.529688 22.318125 \r\nz\r\n\" style=\"fill:#ffffff;\"/>\r\n   </g>\r\n   <g id=\"patch_3\">\r\n    <path clip-path=\"url(#p3e0a2d6290)\" d=\"M 127.529688 531.943125 \r\nL 977.815402 531.943125 \r\nL 977.815402 509.293125 \r\nL 127.529688 509.293125 \r\nz\r\n\" style=\"fill:#1f77b4;\"/>\r\n   </g>\r\n   <g id=\"patch_4\">\r\n    <path clip-path=\"url(#p3e0a2d6290)\" d=\"M 127.529688 396.043125 \r\nL 977.815402 396.043125 \r\nL 977.815402 373.393125 \r\nL 127.529688 373.393125 \r\nz\r\n\" style=\"fill:#1f77b4;\"/>\r\n   </g>\r\n   <g id=\"patch_5\">\r\n    <path clip-path=\"url(#p3e0a2d6290)\" d=\"M 127.529688 260.143125 \r\nL 916.454577 260.143125 \r\nL 916.454577 237.493125 \r\nL 127.529688 237.493125 \r\nz\r\n\" style=\"fill:#1f77b4;\"/>\r\n   </g>\r\n   <g id=\"patch_6\">\r\n    <path clip-path=\"url(#p3e0a2d6290)\" d=\"M 127.529688 124.243125 \r\nL 916.454577 124.243125 \r\nL 916.454577 101.593125 \r\nL 127.529688 101.593125 \r\nz\r\n\" style=\"fill:#1f77b4;\"/>\r\n   </g>\r\n   <g id=\"patch_7\">\r\n    <path clip-path=\"url(#p3e0a2d6290)\" d=\"M 127.529688 509.293125 \r\nL 916.454577 509.293125 \r\nL 916.454577 486.643125 \r\nL 127.529688 486.643125 \r\nz\r\n\" style=\"fill:#ff7f0e;\"/>\r\n   </g>\r\n   <g id=\"patch_8\">\r\n    <path clip-path=\"url(#p3e0a2d6290)\" d=\"M 127.529688 373.393125 \r\nL 925.220409 373.393125 \r\nL 925.220409 350.743125 \r\nL 127.529688 350.743125 \r\nz\r\n\" style=\"fill:#ff7f0e;\"/>\r\n   </g>\r\n   <g id=\"patch_9\">\r\n    <path clip-path=\"url(#p3e0a2d6290)\" d=\"M 127.529688 237.493125 \r\nL 898.922913 237.493125 \r\nL 898.922913 214.843125 \r\nL 127.529688 214.843125 \r\nz\r\n\" style=\"fill:#ff7f0e;\"/>\r\n   </g>\r\n   <g id=\"patch_10\">\r\n    <path clip-path=\"url(#p3e0a2d6290)\" d=\"M 127.529688 101.593125 \r\nL 898.922913 101.593125 \r\nL 898.922913 78.943125 \r\nL 127.529688 78.943125 \r\nz\r\n\" style=\"fill:#ff7f0e;\"/>\r\n   </g>\r\n   <g id=\"patch_11\">\r\n    <path clip-path=\"url(#p3e0a2d6290)\" d=\"M 127.529688 486.643125 \r\nL 916.454577 486.643125 \r\nL 916.454577 463.993125 \r\nL 127.529688 463.993125 \r\nz\r\n\" style=\"fill:#2ca02c;\"/>\r\n   </g>\r\n   <g id=\"patch_12\">\r\n    <path clip-path=\"url(#p3e0a2d6290)\" d=\"M 127.529688 350.743125 \r\nL 925.220409 350.743125 \r\nL 925.220409 328.093125 \r\nL 127.529688 328.093125 \r\nz\r\n\" style=\"fill:#2ca02c;\"/>\r\n   </g>\r\n   <g id=\"patch_13\">\r\n    <path clip-path=\"url(#p3e0a2d6290)\" d=\"M 127.529688 214.843125 \r\nL 907.688745 214.843125 \r\nL 907.688745 192.193125 \r\nL 127.529688 192.193125 \r\nz\r\n\" style=\"fill:#2ca02c;\"/>\r\n   </g>\r\n   <g id=\"patch_14\">\r\n    <path clip-path=\"url(#p3e0a2d6290)\" d=\"M 127.529688 78.943125 \r\nL 916.454577 78.943125 \r\nL 916.454577 56.293125 \r\nL 127.529688 56.293125 \r\nz\r\n\" style=\"fill:#2ca02c;\"/>\r\n   </g>\r\n   <g id=\"matplotlib.axis_1\">\r\n    <g id=\"xtick_1\">\r\n     <g id=\"line2d_1\">\r\n      <defs>\r\n       <path d=\"M 0 0 \r\nL 0 3.5 \r\n\" id=\"m21fa96ac65\" style=\"stroke:#000000;stroke-width:0.8;\"/>\r\n      </defs>\r\n      <g>\r\n       <use style=\"stroke:#000000;stroke-width:0.8;\" x=\"127.529688\" xlink:href=\"#m21fa96ac65\" y=\"565.918125\"/>\r\n      </g>\r\n     </g>\r\n     <g id=\"text_1\">\r\n      <!-- 0.0 -->\r\n      <g transform=\"translate(119.578125 580.516562)scale(0.1 -0.1)\">\r\n       <defs>\r\n        <path d=\"M 2034 4250 \r\nQ 1547 4250 1301 3770 \r\nQ 1056 3291 1056 2328 \r\nQ 1056 1369 1301 889 \r\nQ 1547 409 2034 409 \r\nQ 2525 409 2770 889 \r\nQ 3016 1369 3016 2328 \r\nQ 3016 3291 2770 3770 \r\nQ 2525 4250 2034 4250 \r\nz\r\nM 2034 4750 \r\nQ 2819 4750 3233 4129 \r\nQ 3647 3509 3647 2328 \r\nQ 3647 1150 3233 529 \r\nQ 2819 -91 2034 -91 \r\nQ 1250 -91 836 529 \r\nQ 422 1150 422 2328 \r\nQ 422 3509 836 4129 \r\nQ 1250 4750 2034 4750 \r\nz\r\n\" id=\"DejaVuSans-30\" transform=\"scale(0.015625)\"/>\r\n        <path d=\"M 684 794 \r\nL 1344 794 \r\nL 1344 0 \r\nL 684 0 \r\nL 684 794 \r\nz\r\n\" id=\"DejaVuSans-2e\" transform=\"scale(0.015625)\"/>\r\n       </defs>\r\n       <use xlink:href=\"#DejaVuSans-30\"/>\r\n       <use x=\"63.623047\" xlink:href=\"#DejaVuSans-2e\"/>\r\n       <use x=\"95.410156\" xlink:href=\"#DejaVuSans-30\"/>\r\n      </g>\r\n     </g>\r\n    </g>\r\n    <g id=\"xtick_2\">\r\n     <g id=\"line2d_2\">\r\n      <g>\r\n       <use style=\"stroke:#000000;stroke-width:0.8;\" x=\"302.84633\" xlink:href=\"#m21fa96ac65\" y=\"565.918125\"/>\r\n      </g>\r\n     </g>\r\n     <g id=\"text_2\">\r\n      <!-- 0.2 -->\r\n      <g transform=\"translate(294.894767 580.516562)scale(0.1 -0.1)\">\r\n       <defs>\r\n        <path d=\"M 1228 531 \r\nL 3431 531 \r\nL 3431 0 \r\nL 469 0 \r\nL 469 531 \r\nQ 828 903 1448 1529 \r\nQ 2069 2156 2228 2338 \r\nQ 2531 2678 2651 2914 \r\nQ 2772 3150 2772 3378 \r\nQ 2772 3750 2511 3984 \r\nQ 2250 4219 1831 4219 \r\nQ 1534 4219 1204 4116 \r\nQ 875 4013 500 3803 \r\nL 500 4441 \r\nQ 881 4594 1212 4672 \r\nQ 1544 4750 1819 4750 \r\nQ 2544 4750 2975 4387 \r\nQ 3406 4025 3406 3419 \r\nQ 3406 3131 3298 2873 \r\nQ 3191 2616 2906 2266 \r\nQ 2828 2175 2409 1742 \r\nQ 1991 1309 1228 531 \r\nz\r\n\" id=\"DejaVuSans-32\" transform=\"scale(0.015625)\"/>\r\n       </defs>\r\n       <use xlink:href=\"#DejaVuSans-30\"/>\r\n       <use x=\"63.623047\" xlink:href=\"#DejaVuSans-2e\"/>\r\n       <use x=\"95.410156\" xlink:href=\"#DejaVuSans-32\"/>\r\n      </g>\r\n     </g>\r\n    </g>\r\n    <g id=\"xtick_3\">\r\n     <g id=\"line2d_3\">\r\n      <g>\r\n       <use style=\"stroke:#000000;stroke-width:0.8;\" x=\"478.162972\" xlink:href=\"#m21fa96ac65\" y=\"565.918125\"/>\r\n      </g>\r\n     </g>\r\n     <g id=\"text_3\">\r\n      <!-- 0.4 -->\r\n      <g transform=\"translate(470.211409 580.516562)scale(0.1 -0.1)\">\r\n       <defs>\r\n        <path d=\"M 2419 4116 \r\nL 825 1625 \r\nL 2419 1625 \r\nL 2419 4116 \r\nz\r\nM 2253 4666 \r\nL 3047 4666 \r\nL 3047 1625 \r\nL 3713 1625 \r\nL 3713 1100 \r\nL 3047 1100 \r\nL 3047 0 \r\nL 2419 0 \r\nL 2419 1100 \r\nL 313 1100 \r\nL 313 1709 \r\nL 2253 4666 \r\nz\r\n\" id=\"DejaVuSans-34\" transform=\"scale(0.015625)\"/>\r\n       </defs>\r\n       <use xlink:href=\"#DejaVuSans-30\"/>\r\n       <use x=\"63.623047\" xlink:href=\"#DejaVuSans-2e\"/>\r\n       <use x=\"95.410156\" xlink:href=\"#DejaVuSans-34\"/>\r\n      </g>\r\n     </g>\r\n    </g>\r\n    <g id=\"xtick_4\">\r\n     <g id=\"line2d_4\">\r\n      <g>\r\n       <use style=\"stroke:#000000;stroke-width:0.8;\" x=\"653.479614\" xlink:href=\"#m21fa96ac65\" y=\"565.918125\"/>\r\n      </g>\r\n     </g>\r\n     <g id=\"text_4\">\r\n      <!-- 0.6 -->\r\n      <g transform=\"translate(645.528051 580.516562)scale(0.1 -0.1)\">\r\n       <defs>\r\n        <path d=\"M 2113 2584 \r\nQ 1688 2584 1439 2293 \r\nQ 1191 2003 1191 1497 \r\nQ 1191 994 1439 701 \r\nQ 1688 409 2113 409 \r\nQ 2538 409 2786 701 \r\nQ 3034 994 3034 1497 \r\nQ 3034 2003 2786 2293 \r\nQ 2538 2584 2113 2584 \r\nz\r\nM 3366 4563 \r\nL 3366 3988 \r\nQ 3128 4100 2886 4159 \r\nQ 2644 4219 2406 4219 \r\nQ 1781 4219 1451 3797 \r\nQ 1122 3375 1075 2522 \r\nQ 1259 2794 1537 2939 \r\nQ 1816 3084 2150 3084 \r\nQ 2853 3084 3261 2657 \r\nQ 3669 2231 3669 1497 \r\nQ 3669 778 3244 343 \r\nQ 2819 -91 2113 -91 \r\nQ 1303 -91 875 529 \r\nQ 447 1150 447 2328 \r\nQ 447 3434 972 4092 \r\nQ 1497 4750 2381 4750 \r\nQ 2619 4750 2861 4703 \r\nQ 3103 4656 3366 4563 \r\nz\r\n\" id=\"DejaVuSans-36\" transform=\"scale(0.015625)\"/>\r\n       </defs>\r\n       <use xlink:href=\"#DejaVuSans-30\"/>\r\n       <use x=\"63.623047\" xlink:href=\"#DejaVuSans-2e\"/>\r\n       <use x=\"95.410156\" xlink:href=\"#DejaVuSans-36\"/>\r\n      </g>\r\n     </g>\r\n    </g>\r\n    <g id=\"xtick_5\">\r\n     <g id=\"line2d_5\">\r\n      <g>\r\n       <use style=\"stroke:#000000;stroke-width:0.8;\" x=\"828.796256\" xlink:href=\"#m21fa96ac65\" y=\"565.918125\"/>\r\n      </g>\r\n     </g>\r\n     <g id=\"text_5\">\r\n      <!-- 0.8 -->\r\n      <g transform=\"translate(820.844693 580.516562)scale(0.1 -0.1)\">\r\n       <defs>\r\n        <path d=\"M 2034 2216 \r\nQ 1584 2216 1326 1975 \r\nQ 1069 1734 1069 1313 \r\nQ 1069 891 1326 650 \r\nQ 1584 409 2034 409 \r\nQ 2484 409 2743 651 \r\nQ 3003 894 3003 1313 \r\nQ 3003 1734 2745 1975 \r\nQ 2488 2216 2034 2216 \r\nz\r\nM 1403 2484 \r\nQ 997 2584 770 2862 \r\nQ 544 3141 544 3541 \r\nQ 544 4100 942 4425 \r\nQ 1341 4750 2034 4750 \r\nQ 2731 4750 3128 4425 \r\nQ 3525 4100 3525 3541 \r\nQ 3525 3141 3298 2862 \r\nQ 3072 2584 2669 2484 \r\nQ 3125 2378 3379 2068 \r\nQ 3634 1759 3634 1313 \r\nQ 3634 634 3220 271 \r\nQ 2806 -91 2034 -91 \r\nQ 1263 -91 848 271 \r\nQ 434 634 434 1313 \r\nQ 434 1759 690 2068 \r\nQ 947 2378 1403 2484 \r\nz\r\nM 1172 3481 \r\nQ 1172 3119 1398 2916 \r\nQ 1625 2713 2034 2713 \r\nQ 2441 2713 2670 2916 \r\nQ 2900 3119 2900 3481 \r\nQ 2900 3844 2670 4047 \r\nQ 2441 4250 2034 4250 \r\nQ 1625 4250 1398 4047 \r\nQ 1172 3844 1172 3481 \r\nz\r\n\" id=\"DejaVuSans-38\" transform=\"scale(0.015625)\"/>\r\n       </defs>\r\n       <use xlink:href=\"#DejaVuSans-30\"/>\r\n       <use x=\"63.623047\" xlink:href=\"#DejaVuSans-2e\"/>\r\n       <use x=\"95.410156\" xlink:href=\"#DejaVuSans-38\"/>\r\n      </g>\r\n     </g>\r\n    </g>\r\n    <g id=\"xtick_6\">\r\n     <g id=\"line2d_6\">\r\n      <g>\r\n       <use style=\"stroke:#000000;stroke-width:0.8;\" x=\"1004.112898\" xlink:href=\"#m21fa96ac65\" y=\"565.918125\"/>\r\n      </g>\r\n     </g>\r\n     <g id=\"text_6\">\r\n      <!-- 1.0 -->\r\n      <g transform=\"translate(996.161336 580.516562)scale(0.1 -0.1)\">\r\n       <defs>\r\n        <path d=\"M 794 531 \r\nL 1825 531 \r\nL 1825 4091 \r\nL 703 3866 \r\nL 703 4441 \r\nL 1819 4666 \r\nL 2450 4666 \r\nL 2450 531 \r\nL 3481 531 \r\nL 3481 0 \r\nL 794 0 \r\nL 794 531 \r\nz\r\n\" id=\"DejaVuSans-31\" transform=\"scale(0.015625)\"/>\r\n       </defs>\r\n       <use xlink:href=\"#DejaVuSans-31\"/>\r\n       <use x=\"63.623047\" xlink:href=\"#DejaVuSans-2e\"/>\r\n       <use x=\"95.410156\" xlink:href=\"#DejaVuSans-30\"/>\r\n      </g>\r\n     </g>\r\n    </g>\r\n   </g>\r\n   <g id=\"matplotlib.axis_2\">\r\n    <g id=\"ytick_1\">\r\n     <g id=\"line2d_7\">\r\n      <defs>\r\n       <path d=\"M 0 0 \r\nL -3.5 0 \r\n\" id=\"m3be1bf9fbc\" style=\"stroke:#000000;stroke-width:0.8;\"/>\r\n      </defs>\r\n      <g>\r\n       <use style=\"stroke:#000000;stroke-width:0.8;\" x=\"127.529688\" xlink:href=\"#m3be1bf9fbc\" y=\"497.968125\"/>\r\n      </g>\r\n     </g>\r\n     <g id=\"text_7\">\r\n      <!-- decision tree -->\r\n      <g transform=\"translate(56.017188 501.767344)scale(0.1 -0.1)\">\r\n       <defs>\r\n        <path d=\"M 2906 2969 \r\nL 2906 4863 \r\nL 3481 4863 \r\nL 3481 0 \r\nL 2906 0 \r\nL 2906 525 \r\nQ 2725 213 2448 61 \r\nQ 2172 -91 1784 -91 \r\nQ 1150 -91 751 415 \r\nQ 353 922 353 1747 \r\nQ 353 2572 751 3078 \r\nQ 1150 3584 1784 3584 \r\nQ 2172 3584 2448 3432 \r\nQ 2725 3281 2906 2969 \r\nz\r\nM 947 1747 \r\nQ 947 1113 1208 752 \r\nQ 1469 391 1925 391 \r\nQ 2381 391 2643 752 \r\nQ 2906 1113 2906 1747 \r\nQ 2906 2381 2643 2742 \r\nQ 2381 3103 1925 3103 \r\nQ 1469 3103 1208 2742 \r\nQ 947 2381 947 1747 \r\nz\r\n\" id=\"DejaVuSans-64\" transform=\"scale(0.015625)\"/>\r\n        <path d=\"M 3597 1894 \r\nL 3597 1613 \r\nL 953 1613 \r\nQ 991 1019 1311 708 \r\nQ 1631 397 2203 397 \r\nQ 2534 397 2845 478 \r\nQ 3156 559 3463 722 \r\nL 3463 178 \r\nQ 3153 47 2828 -22 \r\nQ 2503 -91 2169 -91 \r\nQ 1331 -91 842 396 \r\nQ 353 884 353 1716 \r\nQ 353 2575 817 3079 \r\nQ 1281 3584 2069 3584 \r\nQ 2775 3584 3186 3129 \r\nQ 3597 2675 3597 1894 \r\nz\r\nM 3022 2063 \r\nQ 3016 2534 2758 2815 \r\nQ 2500 3097 2075 3097 \r\nQ 1594 3097 1305 2825 \r\nQ 1016 2553 972 2059 \r\nL 3022 2063 \r\nz\r\n\" id=\"DejaVuSans-65\" transform=\"scale(0.015625)\"/>\r\n        <path d=\"M 3122 3366 \r\nL 3122 2828 \r\nQ 2878 2963 2633 3030 \r\nQ 2388 3097 2138 3097 \r\nQ 1578 3097 1268 2742 \r\nQ 959 2388 959 1747 \r\nQ 959 1106 1268 751 \r\nQ 1578 397 2138 397 \r\nQ 2388 397 2633 464 \r\nQ 2878 531 3122 666 \r\nL 3122 134 \r\nQ 2881 22 2623 -34 \r\nQ 2366 -91 2075 -91 \r\nQ 1284 -91 818 406 \r\nQ 353 903 353 1747 \r\nQ 353 2603 823 3093 \r\nQ 1294 3584 2113 3584 \r\nQ 2378 3584 2631 3529 \r\nQ 2884 3475 3122 3366 \r\nz\r\n\" id=\"DejaVuSans-63\" transform=\"scale(0.015625)\"/>\r\n        <path d=\"M 603 3500 \r\nL 1178 3500 \r\nL 1178 0 \r\nL 603 0 \r\nL 603 3500 \r\nz\r\nM 603 4863 \r\nL 1178 4863 \r\nL 1178 4134 \r\nL 603 4134 \r\nL 603 4863 \r\nz\r\n\" id=\"DejaVuSans-69\" transform=\"scale(0.015625)\"/>\r\n        <path d=\"M 2834 3397 \r\nL 2834 2853 \r\nQ 2591 2978 2328 3040 \r\nQ 2066 3103 1784 3103 \r\nQ 1356 3103 1142 2972 \r\nQ 928 2841 928 2578 \r\nQ 928 2378 1081 2264 \r\nQ 1234 2150 1697 2047 \r\nL 1894 2003 \r\nQ 2506 1872 2764 1633 \r\nQ 3022 1394 3022 966 \r\nQ 3022 478 2636 193 \r\nQ 2250 -91 1575 -91 \r\nQ 1294 -91 989 -36 \r\nQ 684 19 347 128 \r\nL 347 722 \r\nQ 666 556 975 473 \r\nQ 1284 391 1588 391 \r\nQ 1994 391 2212 530 \r\nQ 2431 669 2431 922 \r\nQ 2431 1156 2273 1281 \r\nQ 2116 1406 1581 1522 \r\nL 1381 1569 \r\nQ 847 1681 609 1914 \r\nQ 372 2147 372 2553 \r\nQ 372 3047 722 3315 \r\nQ 1072 3584 1716 3584 \r\nQ 2034 3584 2315 3537 \r\nQ 2597 3491 2834 3397 \r\nz\r\n\" id=\"DejaVuSans-73\" transform=\"scale(0.015625)\"/>\r\n        <path d=\"M 1959 3097 \r\nQ 1497 3097 1228 2736 \r\nQ 959 2375 959 1747 \r\nQ 959 1119 1226 758 \r\nQ 1494 397 1959 397 \r\nQ 2419 397 2687 759 \r\nQ 2956 1122 2956 1747 \r\nQ 2956 2369 2687 2733 \r\nQ 2419 3097 1959 3097 \r\nz\r\nM 1959 3584 \r\nQ 2709 3584 3137 3096 \r\nQ 3566 2609 3566 1747 \r\nQ 3566 888 3137 398 \r\nQ 2709 -91 1959 -91 \r\nQ 1206 -91 779 398 \r\nQ 353 888 353 1747 \r\nQ 353 2609 779 3096 \r\nQ 1206 3584 1959 3584 \r\nz\r\n\" id=\"DejaVuSans-6f\" transform=\"scale(0.015625)\"/>\r\n        <path d=\"M 3513 2113 \r\nL 3513 0 \r\nL 2938 0 \r\nL 2938 2094 \r\nQ 2938 2591 2744 2837 \r\nQ 2550 3084 2163 3084 \r\nQ 1697 3084 1428 2787 \r\nQ 1159 2491 1159 1978 \r\nL 1159 0 \r\nL 581 0 \r\nL 581 3500 \r\nL 1159 3500 \r\nL 1159 2956 \r\nQ 1366 3272 1645 3428 \r\nQ 1925 3584 2291 3584 \r\nQ 2894 3584 3203 3211 \r\nQ 3513 2838 3513 2113 \r\nz\r\n\" id=\"DejaVuSans-6e\" transform=\"scale(0.015625)\"/>\r\n        <path id=\"DejaVuSans-20\" transform=\"scale(0.015625)\"/>\r\n        <path d=\"M 1172 4494 \r\nL 1172 3500 \r\nL 2356 3500 \r\nL 2356 3053 \r\nL 1172 3053 \r\nL 1172 1153 \r\nQ 1172 725 1289 603 \r\nQ 1406 481 1766 481 \r\nL 2356 481 \r\nL 2356 0 \r\nL 1766 0 \r\nQ 1100 0 847 248 \r\nQ 594 497 594 1153 \r\nL 594 3053 \r\nL 172 3053 \r\nL 172 3500 \r\nL 594 3500 \r\nL 594 4494 \r\nL 1172 4494 \r\nz\r\n\" id=\"DejaVuSans-74\" transform=\"scale(0.015625)\"/>\r\n        <path d=\"M 2631 2963 \r\nQ 2534 3019 2420 3045 \r\nQ 2306 3072 2169 3072 \r\nQ 1681 3072 1420 2755 \r\nQ 1159 2438 1159 1844 \r\nL 1159 0 \r\nL 581 0 \r\nL 581 3500 \r\nL 1159 3500 \r\nL 1159 2956 \r\nQ 1341 3275 1631 3429 \r\nQ 1922 3584 2338 3584 \r\nQ 2397 3584 2469 3576 \r\nQ 2541 3569 2628 3553 \r\nL 2631 2963 \r\nz\r\n\" id=\"DejaVuSans-72\" transform=\"scale(0.015625)\"/>\r\n       </defs>\r\n       <use xlink:href=\"#DejaVuSans-64\"/>\r\n       <use x=\"63.476562\" xlink:href=\"#DejaVuSans-65\"/>\r\n       <use x=\"125\" xlink:href=\"#DejaVuSans-63\"/>\r\n       <use x=\"179.980469\" xlink:href=\"#DejaVuSans-69\"/>\r\n       <use x=\"207.763672\" xlink:href=\"#DejaVuSans-73\"/>\r\n       <use x=\"259.863281\" xlink:href=\"#DejaVuSans-69\"/>\r\n       <use x=\"287.646484\" xlink:href=\"#DejaVuSans-6f\"/>\r\n       <use x=\"348.828125\" xlink:href=\"#DejaVuSans-6e\"/>\r\n       <use x=\"412.207031\" xlink:href=\"#DejaVuSans-20\"/>\r\n       <use x=\"443.994141\" xlink:href=\"#DejaVuSans-74\"/>\r\n       <use x=\"483.203125\" xlink:href=\"#DejaVuSans-72\"/>\r\n       <use x=\"522.066406\" xlink:href=\"#DejaVuSans-65\"/>\r\n       <use x=\"583.589844\" xlink:href=\"#DejaVuSans-65\"/>\r\n      </g>\r\n     </g>\r\n    </g>\r\n    <g id=\"ytick_2\">\r\n     <g id=\"line2d_8\">\r\n      <g>\r\n       <use style=\"stroke:#000000;stroke-width:0.8;\" x=\"127.529688\" xlink:href=\"#m3be1bf9fbc\" y=\"362.068125\"/>\r\n      </g>\r\n     </g>\r\n     <g id=\"text_8\">\r\n      <!-- binar decision tree -->\r\n      <g transform=\"translate(27.135938 365.867344)scale(0.1 -0.1)\">\r\n       <defs>\r\n        <path d=\"M 3116 1747 \r\nQ 3116 2381 2855 2742 \r\nQ 2594 3103 2138 3103 \r\nQ 1681 3103 1420 2742 \r\nQ 1159 2381 1159 1747 \r\nQ 1159 1113 1420 752 \r\nQ 1681 391 2138 391 \r\nQ 2594 391 2855 752 \r\nQ 3116 1113 3116 1747 \r\nz\r\nM 1159 2969 \r\nQ 1341 3281 1617 3432 \r\nQ 1894 3584 2278 3584 \r\nQ 2916 3584 3314 3078 \r\nQ 3713 2572 3713 1747 \r\nQ 3713 922 3314 415 \r\nQ 2916 -91 2278 -91 \r\nQ 1894 -91 1617 61 \r\nQ 1341 213 1159 525 \r\nL 1159 0 \r\nL 581 0 \r\nL 581 4863 \r\nL 1159 4863 \r\nL 1159 2969 \r\nz\r\n\" id=\"DejaVuSans-62\" transform=\"scale(0.015625)\"/>\r\n        <path d=\"M 2194 1759 \r\nQ 1497 1759 1228 1600 \r\nQ 959 1441 959 1056 \r\nQ 959 750 1161 570 \r\nQ 1363 391 1709 391 \r\nQ 2188 391 2477 730 \r\nQ 2766 1069 2766 1631 \r\nL 2766 1759 \r\nL 2194 1759 \r\nz\r\nM 3341 1997 \r\nL 3341 0 \r\nL 2766 0 \r\nL 2766 531 \r\nQ 2569 213 2275 61 \r\nQ 1981 -91 1556 -91 \r\nQ 1019 -91 701 211 \r\nQ 384 513 384 1019 \r\nQ 384 1609 779 1909 \r\nQ 1175 2209 1959 2209 \r\nL 2766 2209 \r\nL 2766 2266 \r\nQ 2766 2663 2505 2880 \r\nQ 2244 3097 1772 3097 \r\nQ 1472 3097 1187 3025 \r\nQ 903 2953 641 2809 \r\nL 641 3341 \r\nQ 956 3463 1253 3523 \r\nQ 1550 3584 1831 3584 \r\nQ 2591 3584 2966 3190 \r\nQ 3341 2797 3341 1997 \r\nz\r\n\" id=\"DejaVuSans-61\" transform=\"scale(0.015625)\"/>\r\n       </defs>\r\n       <use xlink:href=\"#DejaVuSans-62\"/>\r\n       <use x=\"63.476562\" xlink:href=\"#DejaVuSans-69\"/>\r\n       <use x=\"91.259766\" xlink:href=\"#DejaVuSans-6e\"/>\r\n       <use x=\"154.638672\" xlink:href=\"#DejaVuSans-61\"/>\r\n       <use x=\"215.917969\" xlink:href=\"#DejaVuSans-72\"/>\r\n       <use x=\"257.03125\" xlink:href=\"#DejaVuSans-20\"/>\r\n       <use x=\"288.818359\" xlink:href=\"#DejaVuSans-64\"/>\r\n       <use x=\"352.294922\" xlink:href=\"#DejaVuSans-65\"/>\r\n       <use x=\"413.818359\" xlink:href=\"#DejaVuSans-63\"/>\r\n       <use x=\"468.798828\" xlink:href=\"#DejaVuSans-69\"/>\r\n       <use x=\"496.582031\" xlink:href=\"#DejaVuSans-73\"/>\r\n       <use x=\"548.681641\" xlink:href=\"#DejaVuSans-69\"/>\r\n       <use x=\"576.464844\" xlink:href=\"#DejaVuSans-6f\"/>\r\n       <use x=\"637.646484\" xlink:href=\"#DejaVuSans-6e\"/>\r\n       <use x=\"701.025391\" xlink:href=\"#DejaVuSans-20\"/>\r\n       <use x=\"732.8125\" xlink:href=\"#DejaVuSans-74\"/>\r\n       <use x=\"772.021484\" xlink:href=\"#DejaVuSans-72\"/>\r\n       <use x=\"810.884766\" xlink:href=\"#DejaVuSans-65\"/>\r\n       <use x=\"872.408203\" xlink:href=\"#DejaVuSans-65\"/>\r\n      </g>\r\n     </g>\r\n    </g>\r\n    <g id=\"ytick_3\">\r\n     <g id=\"line2d_9\">\r\n      <g>\r\n       <use style=\"stroke:#000000;stroke-width:0.8;\" x=\"127.529688\" xlink:href=\"#m3be1bf9fbc\" y=\"226.168125\"/>\r\n      </g>\r\n     </g>\r\n     <g id=\"text_9\">\r\n      <!-- random forest -->\r\n      <g transform=\"translate(49.759375 229.967344)scale(0.1 -0.1)\">\r\n       <defs>\r\n        <path d=\"M 3328 2828 \r\nQ 3544 3216 3844 3400 \r\nQ 4144 3584 4550 3584 \r\nQ 5097 3584 5394 3201 \r\nQ 5691 2819 5691 2113 \r\nL 5691 0 \r\nL 5113 0 \r\nL 5113 2094 \r\nQ 5113 2597 4934 2840 \r\nQ 4756 3084 4391 3084 \r\nQ 3944 3084 3684 2787 \r\nQ 3425 2491 3425 1978 \r\nL 3425 0 \r\nL 2847 0 \r\nL 2847 2094 \r\nQ 2847 2600 2669 2842 \r\nQ 2491 3084 2119 3084 \r\nQ 1678 3084 1418 2786 \r\nQ 1159 2488 1159 1978 \r\nL 1159 0 \r\nL 581 0 \r\nL 581 3500 \r\nL 1159 3500 \r\nL 1159 2956 \r\nQ 1356 3278 1631 3431 \r\nQ 1906 3584 2284 3584 \r\nQ 2666 3584 2933 3390 \r\nQ 3200 3197 3328 2828 \r\nz\r\n\" id=\"DejaVuSans-6d\" transform=\"scale(0.015625)\"/>\r\n        <path d=\"M 2375 4863 \r\nL 2375 4384 \r\nL 1825 4384 \r\nQ 1516 4384 1395 4259 \r\nQ 1275 4134 1275 3809 \r\nL 1275 3500 \r\nL 2222 3500 \r\nL 2222 3053 \r\nL 1275 3053 \r\nL 1275 0 \r\nL 697 0 \r\nL 697 3053 \r\nL 147 3053 \r\nL 147 3500 \r\nL 697 3500 \r\nL 697 3744 \r\nQ 697 4328 969 4595 \r\nQ 1241 4863 1831 4863 \r\nL 2375 4863 \r\nz\r\n\" id=\"DejaVuSans-66\" transform=\"scale(0.015625)\"/>\r\n       </defs>\r\n       <use xlink:href=\"#DejaVuSans-72\"/>\r\n       <use x=\"41.113281\" xlink:href=\"#DejaVuSans-61\"/>\r\n       <use x=\"102.392578\" xlink:href=\"#DejaVuSans-6e\"/>\r\n       <use x=\"165.771484\" xlink:href=\"#DejaVuSans-64\"/>\r\n       <use x=\"229.248047\" xlink:href=\"#DejaVuSans-6f\"/>\r\n       <use x=\"290.429688\" xlink:href=\"#DejaVuSans-6d\"/>\r\n       <use x=\"387.841797\" xlink:href=\"#DejaVuSans-20\"/>\r\n       <use x=\"419.628906\" xlink:href=\"#DejaVuSans-66\"/>\r\n       <use x=\"454.833984\" xlink:href=\"#DejaVuSans-6f\"/>\r\n       <use x=\"516.015625\" xlink:href=\"#DejaVuSans-72\"/>\r\n       <use x=\"554.878906\" xlink:href=\"#DejaVuSans-65\"/>\r\n       <use x=\"616.402344\" xlink:href=\"#DejaVuSans-73\"/>\r\n       <use x=\"668.501953\" xlink:href=\"#DejaVuSans-74\"/>\r\n      </g>\r\n     </g>\r\n    </g>\r\n    <g id=\"ytick_4\">\r\n     <g id=\"line2d_10\">\r\n      <g>\r\n       <use style=\"stroke:#000000;stroke-width:0.8;\" x=\"127.529688\" xlink:href=\"#m3be1bf9fbc\" y=\"90.268125\"/>\r\n      </g>\r\n     </g>\r\n     <g id=\"text_10\">\r\n      <!-- binar random forest -->\r\n      <g transform=\"translate(20.878125 94.067344)scale(0.1 -0.1)\">\r\n       <use xlink:href=\"#DejaVuSans-62\"/>\r\n       <use x=\"63.476562\" xlink:href=\"#DejaVuSans-69\"/>\r\n       <use x=\"91.259766\" xlink:href=\"#DejaVuSans-6e\"/>\r\n       <use x=\"154.638672\" xlink:href=\"#DejaVuSans-61\"/>\r\n       <use x=\"215.917969\" xlink:href=\"#DejaVuSans-72\"/>\r\n       <use x=\"257.03125\" xlink:href=\"#DejaVuSans-20\"/>\r\n       <use x=\"288.818359\" xlink:href=\"#DejaVuSans-72\"/>\r\n       <use x=\"329.931641\" xlink:href=\"#DejaVuSans-61\"/>\r\n       <use x=\"391.210938\" xlink:href=\"#DejaVuSans-6e\"/>\r\n       <use x=\"454.589844\" xlink:href=\"#DejaVuSans-64\"/>\r\n       <use x=\"518.066406\" xlink:href=\"#DejaVuSans-6f\"/>\r\n       <use x=\"579.248047\" xlink:href=\"#DejaVuSans-6d\"/>\r\n       <use x=\"676.660156\" xlink:href=\"#DejaVuSans-20\"/>\r\n       <use x=\"708.447266\" xlink:href=\"#DejaVuSans-66\"/>\r\n       <use x=\"743.652344\" xlink:href=\"#DejaVuSans-6f\"/>\r\n       <use x=\"804.833984\" xlink:href=\"#DejaVuSans-72\"/>\r\n       <use x=\"843.697266\" xlink:href=\"#DejaVuSans-65\"/>\r\n       <use x=\"905.220703\" xlink:href=\"#DejaVuSans-73\"/>\r\n       <use x=\"957.320312\" xlink:href=\"#DejaVuSans-74\"/>\r\n      </g>\r\n     </g>\r\n    </g>\r\n    <g id=\"text_11\">\r\n     <!-- model -->\r\n     <g transform=\"translate(14.798438 309.687656)rotate(-90)scale(0.1 -0.1)\">\r\n      <defs>\r\n       <path d=\"M 603 4863 \r\nL 1178 4863 \r\nL 1178 0 \r\nL 603 0 \r\nL 603 4863 \r\nz\r\n\" id=\"DejaVuSans-6c\" transform=\"scale(0.015625)\"/>\r\n      </defs>\r\n      <use xlink:href=\"#DejaVuSans-6d\"/>\r\n      <use x=\"97.412109\" xlink:href=\"#DejaVuSans-6f\"/>\r\n      <use x=\"158.59375\" xlink:href=\"#DejaVuSans-64\"/>\r\n      <use x=\"222.070312\" xlink:href=\"#DejaVuSans-65\"/>\r\n      <use x=\"283.59375\" xlink:href=\"#DejaVuSans-6c\"/>\r\n     </g>\r\n    </g>\r\n   </g>\r\n   <g id=\"patch_15\">\r\n    <path d=\"M 127.529688 565.918125 \r\nL 127.529688 22.318125 \r\n\" style=\"fill:none;stroke:#000000;stroke-linecap:square;stroke-linejoin:miter;stroke-width:0.8;\"/>\r\n   </g>\r\n   <g id=\"patch_16\">\r\n    <path d=\"M 1020.329687 565.918125 \r\nL 1020.329687 22.318125 \r\n\" style=\"fill:none;stroke:#000000;stroke-linecap:square;stroke-linejoin:miter;stroke-width:0.8;\"/>\r\n   </g>\r\n   <g id=\"patch_17\">\r\n    <path d=\"M 127.529688 565.918125 \r\nL 1020.329688 565.918125 \r\n\" style=\"fill:none;stroke:#000000;stroke-linecap:square;stroke-linejoin:miter;stroke-width:0.8;\"/>\r\n   </g>\r\n   <g id=\"patch_18\">\r\n    <path d=\"M 127.529688 22.318125 \r\nL 1020.329688 22.318125 \r\n\" style=\"fill:none;stroke:#000000;stroke-linecap:square;stroke-linejoin:miter;stroke-width:0.8;\"/>\r\n   </g>\r\n   <g id=\"text_12\">\r\n    <!-- 0.9 -->\r\n    <g transform=\"translate(925.220409 67.165125)scale(0.1 -0.1)\">\r\n     <defs>\r\n      <path d=\"M 703 97 \r\nL 703 672 \r\nQ 941 559 1184 500 \r\nQ 1428 441 1663 441 \r\nQ 2288 441 2617 861 \r\nQ 2947 1281 2994 2138 \r\nQ 2813 1869 2534 1725 \r\nQ 2256 1581 1919 1581 \r\nQ 1219 1581 811 2004 \r\nQ 403 2428 403 3163 \r\nQ 403 3881 828 4315 \r\nQ 1253 4750 1959 4750 \r\nQ 2769 4750 3195 4129 \r\nQ 3622 3509 3622 2328 \r\nQ 3622 1225 3098 567 \r\nQ 2575 -91 1691 -91 \r\nQ 1453 -91 1209 -44 \r\nQ 966 3 703 97 \r\nz\r\nM 1959 2075 \r\nQ 2384 2075 2632 2365 \r\nQ 2881 2656 2881 3163 \r\nQ 2881 3666 2632 3958 \r\nQ 2384 4250 1959 4250 \r\nQ 1534 4250 1286 3958 \r\nQ 1038 3666 1038 3163 \r\nQ 1038 2656 1286 2365 \r\nQ 1534 2075 1959 2075 \r\nz\r\n\" id=\"DejaVuSans-39\" transform=\"scale(0.015625)\"/>\r\n     </defs>\r\n     <use xlink:href=\"#DejaVuSans-30\"/>\r\n     <use x=\"63.623047\" xlink:href=\"#DejaVuSans-2e\"/>\r\n     <use x=\"95.410156\" xlink:href=\"#DejaVuSans-39\"/>\r\n    </g>\r\n   </g>\r\n   <g id=\"text_13\">\r\n    <!-- 0.88 -->\r\n    <g transform=\"translate(907.688745 92.986125)scale(0.1 -0.1)\">\r\n     <use xlink:href=\"#DejaVuSans-30\"/>\r\n     <use x=\"63.623047\" xlink:href=\"#DejaVuSans-2e\"/>\r\n     <use x=\"95.410156\" xlink:href=\"#DejaVuSans-38\"/>\r\n     <use x=\"159.033203\" xlink:href=\"#DejaVuSans-38\"/>\r\n    </g>\r\n   </g>\r\n   <g id=\"text_14\">\r\n    <!-- 0.9 -->\r\n    <g transform=\"translate(925.220409 117.448125)scale(0.1 -0.1)\">\r\n     <use xlink:href=\"#DejaVuSans-30\"/>\r\n     <use x=\"63.623047\" xlink:href=\"#DejaVuSans-2e\"/>\r\n     <use x=\"95.410156\" xlink:href=\"#DejaVuSans-39\"/>\r\n    </g>\r\n   </g>\r\n   <g id=\"text_15\">\r\n    <!-- 0.89 -->\r\n    <g transform=\"translate(916.454577 205.783125)scale(0.1 -0.1)\">\r\n     <use xlink:href=\"#DejaVuSans-30\"/>\r\n     <use x=\"63.623047\" xlink:href=\"#DejaVuSans-2e\"/>\r\n     <use x=\"95.410156\" xlink:href=\"#DejaVuSans-38\"/>\r\n     <use x=\"159.033203\" xlink:href=\"#DejaVuSans-39\"/>\r\n    </g>\r\n   </g>\r\n   <g id=\"text_16\">\r\n    <!-- 0.88 -->\r\n    <g transform=\"translate(916.454577 230.245125)scale(0.1 -0.1)\">\r\n     <use xlink:href=\"#DejaVuSans-30\"/>\r\n     <use x=\"63.623047\" xlink:href=\"#DejaVuSans-2e\"/>\r\n     <use x=\"95.410156\" xlink:href=\"#DejaVuSans-38\"/>\r\n     <use x=\"159.033203\" xlink:href=\"#DejaVuSans-38\"/>\r\n    </g>\r\n   </g>\r\n   <g id=\"text_17\">\r\n    <!-- 0.9 -->\r\n    <g transform=\"translate(925.220409 253.348125)scale(0.1 -0.1)\">\r\n     <use xlink:href=\"#DejaVuSans-30\"/>\r\n     <use x=\"63.623047\" xlink:href=\"#DejaVuSans-2e\"/>\r\n     <use x=\"95.410156\" xlink:href=\"#DejaVuSans-39\"/>\r\n    </g>\r\n   </g>\r\n   <g id=\"text_18\">\r\n    <!-- 0.91 -->\r\n    <g transform=\"translate(942.752073 341.683125)scale(0.1 -0.1)\">\r\n     <defs>\r\n      <path d=\"M 2944 2338 \r\nQ 2944 3213 2780 3570 \r\nQ 2616 3928 2228 3928 \r\nQ 1841 3928 1675 3570 \r\nQ 1509 3213 1509 2338 \r\nQ 1509 1453 1675 1090 \r\nQ 1841 728 2228 728 \r\nQ 2613 728 2778 1090 \r\nQ 2944 1453 2944 2338 \r\nz\r\nM 4147 2328 \r\nQ 4147 1169 3647 539 \r\nQ 3147 -91 2228 -91 \r\nQ 1306 -91 806 539 \r\nQ 306 1169 306 2328 \r\nQ 306 3491 806 4120 \r\nQ 1306 4750 2228 4750 \r\nQ 3147 4750 3647 4120 \r\nQ 4147 3491 4147 2328 \r\nz\r\n\" id=\"DejaVuSans-Bold-30\" transform=\"scale(0.015625)\"/>\r\n      <path d=\"M 653 1209 \r\nL 1778 1209 \r\nL 1778 0 \r\nL 653 0 \r\nL 653 1209 \r\nz\r\n\" id=\"DejaVuSans-Bold-2e\" transform=\"scale(0.015625)\"/>\r\n      <path d=\"M 641 103 \r\nL 641 966 \r\nQ 928 831 1190 764 \r\nQ 1453 697 1709 697 \r\nQ 2247 697 2547 995 \r\nQ 2847 1294 2900 1881 \r\nQ 2688 1725 2447 1647 \r\nQ 2206 1569 1925 1569 \r\nQ 1209 1569 770 1986 \r\nQ 331 2403 331 3084 \r\nQ 331 3838 820 4291 \r\nQ 1309 4744 2131 4744 \r\nQ 3044 4744 3544 4128 \r\nQ 4044 3513 4044 2388 \r\nQ 4044 1231 3459 570 \r\nQ 2875 -91 1856 -91 \r\nQ 1528 -91 1228 -42 \r\nQ 928 6 641 103 \r\nz\r\nM 2125 2350 \r\nQ 2441 2350 2600 2554 \r\nQ 2759 2759 2759 3169 \r\nQ 2759 3575 2600 3781 \r\nQ 2441 3988 2125 3988 \r\nQ 1809 3988 1650 3781 \r\nQ 1491 3575 1491 3169 \r\nQ 1491 2759 1650 2554 \r\nQ 1809 2350 2125 2350 \r\nz\r\n\" id=\"DejaVuSans-Bold-39\" transform=\"scale(0.015625)\"/>\r\n      <path d=\"M 750 831 \r\nL 1813 831 \r\nL 1813 3847 \r\nL 722 3622 \r\nL 722 4441 \r\nL 1806 4666 \r\nL 2950 4666 \r\nL 2950 831 \r\nL 4013 831 \r\nL 4013 0 \r\nL 750 0 \r\nL 750 831 \r\nz\r\n\" id=\"DejaVuSans-Bold-31\" transform=\"scale(0.015625)\"/>\r\n     </defs>\r\n     <use xlink:href=\"#DejaVuSans-Bold-30\"/>\r\n     <use x=\"69.580078\" xlink:href=\"#DejaVuSans-Bold-2e\"/>\r\n     <use x=\"107.568359\" xlink:href=\"#DejaVuSans-Bold-39\"/>\r\n     <use x=\"177.148438\" xlink:href=\"#DejaVuSans-Bold-31\"/>\r\n    </g>\r\n   </g>\r\n   <g id=\"text_19\">\r\n    <!-- 0.91 -->\r\n    <g transform=\"translate(933.986241 366.145125)scale(0.1 -0.1)\">\r\n     <use xlink:href=\"#DejaVuSans-Bold-30\"/>\r\n     <use x=\"69.580078\" xlink:href=\"#DejaVuSans-Bold-2e\"/>\r\n     <use x=\"107.568359\" xlink:href=\"#DejaVuSans-Bold-39\"/>\r\n     <use x=\"177.148438\" xlink:href=\"#DejaVuSans-Bold-31\"/>\r\n    </g>\r\n   </g>\r\n   <g id=\"text_20\">\r\n    <!-- 0.97 -->\r\n    <g transform=\"translate(986.581234 389.248125)scale(0.1 -0.1)\">\r\n     <defs>\r\n      <path d=\"M 525 4666 \r\nL 3525 4666 \r\nL 3525 4397 \r\nL 1831 0 \r\nL 1172 0 \r\nL 2766 4134 \r\nL 525 4134 \r\nL 525 4666 \r\nz\r\n\" id=\"DejaVuSans-37\" transform=\"scale(0.015625)\"/>\r\n     </defs>\r\n     <use xlink:href=\"#DejaVuSans-30\"/>\r\n     <use x=\"63.623047\" xlink:href=\"#DejaVuSans-2e\"/>\r\n     <use x=\"95.410156\" xlink:href=\"#DejaVuSans-39\"/>\r\n     <use x=\"159.033203\" xlink:href=\"#DejaVuSans-37\"/>\r\n    </g>\r\n   </g>\r\n   <g id=\"text_21\">\r\n    <!-- 0.9 -->\r\n    <g transform=\"translate(925.220409 476.224125)scale(0.1 -0.1)\">\r\n     <use xlink:href=\"#DejaVuSans-Bold-30\"/>\r\n     <use x=\"69.580078\" xlink:href=\"#DejaVuSans-Bold-2e\"/>\r\n     <use x=\"107.568359\" xlink:href=\"#DejaVuSans-Bold-39\"/>\r\n    </g>\r\n   </g>\r\n   <g id=\"text_22\">\r\n    <!-- 0.9 -->\r\n    <g transform=\"translate(925.220409 497.968125)scale(0.1 -0.1)\">\r\n     <use xlink:href=\"#DejaVuSans-30\"/>\r\n     <use x=\"63.623047\" xlink:href=\"#DejaVuSans-2e\"/>\r\n     <use x=\"95.410156\" xlink:href=\"#DejaVuSans-39\"/>\r\n    </g>\r\n   </g>\r\n   <g id=\"text_23\">\r\n    <!-- 0.97 -->\r\n    <g transform=\"translate(986.581234 522.430125)scale(0.1 -0.1)\">\r\n     <use xlink:href=\"#DejaVuSans-30\"/>\r\n     <use x=\"63.623047\" xlink:href=\"#DejaVuSans-2e\"/>\r\n     <use x=\"95.410156\" xlink:href=\"#DejaVuSans-39\"/>\r\n     <use x=\"159.033203\" xlink:href=\"#DejaVuSans-37\"/>\r\n    </g>\r\n   </g>\r\n   <g id=\"text_24\">\r\n    <!-- model's scores -->\r\n    <g transform=\"translate(529.319687 16.318125)scale(0.12 -0.12)\">\r\n     <defs>\r\n      <path d=\"M 1147 4666 \r\nL 1147 2931 \r\nL 616 2931 \r\nL 616 4666 \r\nL 1147 4666 \r\nz\r\n\" id=\"DejaVuSans-27\" transform=\"scale(0.015625)\"/>\r\n     </defs>\r\n     <use xlink:href=\"#DejaVuSans-6d\"/>\r\n     <use x=\"97.412109\" xlink:href=\"#DejaVuSans-6f\"/>\r\n     <use x=\"158.59375\" xlink:href=\"#DejaVuSans-64\"/>\r\n     <use x=\"222.070312\" xlink:href=\"#DejaVuSans-65\"/>\r\n     <use x=\"283.59375\" xlink:href=\"#DejaVuSans-6c\"/>\r\n     <use x=\"311.376953\" xlink:href=\"#DejaVuSans-27\"/>\r\n     <use x=\"338.867188\" xlink:href=\"#DejaVuSans-73\"/>\r\n     <use x=\"390.966797\" xlink:href=\"#DejaVuSans-20\"/>\r\n     <use x=\"422.753906\" xlink:href=\"#DejaVuSans-73\"/>\r\n     <use x=\"474.853516\" xlink:href=\"#DejaVuSans-63\"/>\r\n     <use x=\"529.833984\" xlink:href=\"#DejaVuSans-6f\"/>\r\n     <use x=\"591.015625\" xlink:href=\"#DejaVuSans-72\"/>\r\n     <use x=\"629.878906\" xlink:href=\"#DejaVuSans-65\"/>\r\n     <use x=\"691.402344\" xlink:href=\"#DejaVuSans-73\"/>\r\n    </g>\r\n   </g>\r\n   <g id=\"legend_1\">\r\n    <g id=\"patch_19\">\r\n     <path d=\"M 958.054688 74.3525 \r\nL 1013.329687 74.3525 \r\nQ 1015.329687 74.3525 1015.329687 72.3525 \r\nL 1015.329687 29.318125 \r\nQ 1015.329687 27.318125 1013.329687 27.318125 \r\nL 958.054688 27.318125 \r\nQ 956.054688 27.318125 956.054688 29.318125 \r\nL 956.054688 72.3525 \r\nQ 956.054688 74.3525 958.054688 74.3525 \r\nz\r\n\" style=\"fill:#ffffff;opacity:0.8;stroke:#cccccc;stroke-linejoin:miter;\"/>\r\n    </g>\r\n    <g id=\"patch_20\">\r\n     <path d=\"M 960.054688 38.916562 \r\nL 980.054688 38.916562 \r\nL 980.054688 31.916562 \r\nL 960.054688 31.916562 \r\nz\r\n\" style=\"fill:#1f77b4;\"/>\r\n    </g>\r\n    <g id=\"text_25\">\r\n     <!-- train -->\r\n     <g transform=\"translate(988.054688 38.916562)scale(0.1 -0.1)\">\r\n      <use xlink:href=\"#DejaVuSans-74\"/>\r\n      <use x=\"39.208984\" xlink:href=\"#DejaVuSans-72\"/>\r\n      <use x=\"80.322266\" xlink:href=\"#DejaVuSans-61\"/>\r\n      <use x=\"141.601562\" xlink:href=\"#DejaVuSans-69\"/>\r\n      <use x=\"169.384766\" xlink:href=\"#DejaVuSans-6e\"/>\r\n     </g>\r\n    </g>\r\n    <g id=\"patch_21\">\r\n     <path d=\"M 960.054688 53.594687 \r\nL 980.054688 53.594687 \r\nL 980.054688 46.594687 \r\nL 960.054688 46.594687 \r\nz\r\n\" style=\"fill:#ff7f0e;\"/>\r\n    </g>\r\n    <g id=\"text_26\">\r\n     <!-- val -->\r\n     <g transform=\"translate(988.054688 53.594687)scale(0.1 -0.1)\">\r\n      <defs>\r\n       <path d=\"M 191 3500 \r\nL 800 3500 \r\nL 1894 563 \r\nL 2988 3500 \r\nL 3597 3500 \r\nL 2284 0 \r\nL 1503 0 \r\nL 191 3500 \r\nz\r\n\" id=\"DejaVuSans-76\" transform=\"scale(0.015625)\"/>\r\n      </defs>\r\n      <use xlink:href=\"#DejaVuSans-76\"/>\r\n      <use x=\"59.179688\" xlink:href=\"#DejaVuSans-61\"/>\r\n      <use x=\"120.458984\" xlink:href=\"#DejaVuSans-6c\"/>\r\n     </g>\r\n    </g>\r\n    <g id=\"patch_22\">\r\n     <path d=\"M 960.054688 68.272812 \r\nL 980.054688 68.272812 \r\nL 980.054688 61.272812 \r\nL 960.054688 61.272812 \r\nz\r\n\" style=\"fill:#2ca02c;\"/>\r\n    </g>\r\n    <g id=\"text_27\">\r\n     <!-- test -->\r\n     <g transform=\"translate(988.054688 68.272812)scale(0.1 -0.1)\">\r\n      <use xlink:href=\"#DejaVuSans-74\"/>\r\n      <use x=\"39.208984\" xlink:href=\"#DejaVuSans-65\"/>\r\n      <use x=\"100.732422\" xlink:href=\"#DejaVuSans-73\"/>\r\n      <use x=\"152.832031\" xlink:href=\"#DejaVuSans-74\"/>\r\n     </g>\r\n    </g>\r\n   </g>\r\n  </g>\r\n </g>\r\n <defs>\r\n  <clipPath id=\"p3e0a2d6290\">\r\n   <rect height=\"543.6\" width=\"892.8\" x=\"127.529688\" y=\"22.318125\"/>\r\n  </clipPath>\r\n </defs>\r\n</svg>\r\n",
                        "image/png": "[encoded data removed]"
                    },
                    "metadata": {
                        "needs_background": "light"
                    }
                }
            ],
            "metadata": {}
        },
        {
            "cell_type": "code",
            "execution_count": 46,
            "source": [
                "df_fig"
            ],
            "outputs": [
                {
                    "output_type": "execute_result",
                    "data": {
                        "text/plain": [
                            "                     train   val  test\n",
                            "decision tree         0.97  0.90  0.90\n",
                            "binar decision tree   0.97  0.91  0.91\n",
                            "random forest         0.90  0.88  0.89\n",
                            "binar random forest   0.90  0.88  0.90"
                        ],
                        "text/html": [
                            "<div>\n",
                            "<style scoped>\n",
                            "    .dataframe tbody tr th:only-of-type {\n",
                            "        vertical-align: middle;\n",
                            "    }\n",
                            "\n",
                            "    .dataframe tbody tr th {\n",
                            "        vertical-align: top;\n",
                            "    }\n",
                            "\n",
                            "    .dataframe thead th {\n",
                            "        text-align: right;\n",
                            "    }\n",
                            "</style>\n",
                            "<table border=\"1\" class=\"dataframe\">\n",
                            "  <thead>\n",
                            "    <tr style=\"text-align: right;\">\n",
                            "      <th></th>\n",
                            "      <th>train</th>\n",
                            "      <th>val</th>\n",
                            "      <th>test</th>\n",
                            "    </tr>\n",
                            "  </thead>\n",
                            "  <tbody>\n",
                            "    <tr>\n",
                            "      <th>decision tree</th>\n",
                            "      <td>0.97</td>\n",
                            "      <td>0.90</td>\n",
                            "      <td>0.90</td>\n",
                            "    </tr>\n",
                            "    <tr>\n",
                            "      <th>binar decision tree</th>\n",
                            "      <td>0.97</td>\n",
                            "      <td>0.91</td>\n",
                            "      <td>0.91</td>\n",
                            "    </tr>\n",
                            "    <tr>\n",
                            "      <th>random forest</th>\n",
                            "      <td>0.90</td>\n",
                            "      <td>0.88</td>\n",
                            "      <td>0.89</td>\n",
                            "    </tr>\n",
                            "    <tr>\n",
                            "      <th>binar random forest</th>\n",
                            "      <td>0.90</td>\n",
                            "      <td>0.88</td>\n",
                            "      <td>0.90</td>\n",
                            "    </tr>\n",
                            "  </tbody>\n",
                            "</table>\n",
                            "</div>"
                        ]
                    },
                    "metadata": {},
                    "execution_count": 46
                }
            ],
            "metadata": {}
        },
        {
            "cell_type": "markdown",
            "source": [
                "# conclusion\r\n",
                "#\r\n",
                "The binary decision tree model seems to be the most successful and has the most accurate predictive power. Random Forest models present more \"cautious\" predictions - most predictions for winning a medal will be correct, but the certainty of classifying an observation as a medal winner will very rarely be made."
            ],
            "metadata": {}
        }
    ],
    "metadata": {
        "orig_nbformat": 4,
        "language_info": {
            "name": "python",
            "version": "3.9.6",
            "mimetype": "text/x-python",
            "codemirror_mode": {
                "name": "ipython",
                "version": 3
            },
            "pygments_lexer": "ipython3",
            "nbconvert_exporter": "python",
            "file_extension": ".py"
        },
        "kernelspec": {
            "name": "python3",
            "display_name": "Python 3.9.6 64-bit"
        },
        "interpreter": {
            "hash": "ac59ebe37160ed0dfa835113d9b8498d9f09ceb179beaac4002f036b9467c963"
        }
    },
    "nbformat": 4,
    "nbformat_minor": 2
}